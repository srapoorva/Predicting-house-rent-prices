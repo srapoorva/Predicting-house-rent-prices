{
 "cells": [
  {
   "cell_type": "markdown",
   "id": "e001ae4a",
   "metadata": {
    "papermill": {
     "duration": 0.014786,
     "end_time": "2022-09-25T21:48:11.734037",
     "exception": false,
     "start_time": "2022-09-25T21:48:11.719251",
     "status": "completed"
    },
    "tags": []
   },
   "source": [
    "<h1 style=\"text-align:center;color:rgb(220, 75, 60);font-weight:800;font-size:50px\">HOUSE RENT PREDICTION<h1/>"
   ]
  },
  {
   "cell_type": "markdown",
   "id": "b00f37b2",
   "metadata": {
    "papermill": {
     "duration": 0.012988,
     "end_time": "2022-09-25T21:48:11.760497",
     "exception": false,
     "start_time": "2022-09-25T21:48:11.747509",
     "status": "completed"
    },
    "tags": []
   },
   "source": [
    "<img src=\"https://timesnewsblog.com/wp-content/uploads/2022/02/Rent-out.jpg\">"
   ]
  },
  {
   "cell_type": "markdown",
   "id": "da5d9190",
   "metadata": {
    "papermill": {
     "duration": 0.012866,
     "end_time": "2022-09-25T21:48:11.788200",
     "exception": false,
     "start_time": "2022-09-25T21:48:11.775334",
     "status": "completed"
    },
    "tags": []
   },
   "source": [
    "# <div style=\"background-color:rgba(220, 75, 60, 0.75);padding:10px 10px 10px;border-radius:5px 25px 25px 5px;width:150px\">Context</div>"
   ]
  },
  {
   "cell_type": "markdown",
   "id": "bca2a453",
   "metadata": {
    "papermill": {
     "duration": 0.013035,
     "end_time": "2022-09-25T21:48:11.817001",
     "exception": false,
     "start_time": "2022-09-25T21:48:11.803966",
     "status": "completed"
    },
    "tags": []
   },
   "source": [
    "<p style=\"background-color:rgba(244,164,96, 0.3);padding:10px 10px;border-radius:5px 25px 25px 5px;width:1000px;font-size:16px\">Housing in India varies from palaces of erstwhile maharajas to modern apartment buildings in big cities to tiny huts in far-flung villages. There has been tremendous growth in India's housing sector as incomes have risen. The Human Rights Measurement Initiative finds that India is doing 60.9% of what should be possible at its level of income for the right to housing.\n",
    "<br/>\n",
    "Renting, also known as hiring or letting, is an agreement where a payment is made for the temporary use of a good, service, or property owned by another. A gross lease is when the tenant pays a flat rental amount and the landlord pays for all property charges regularly incurred by the ownership. Renting can be an example of the sharing economy.<p/>"
   ]
  },
  {
   "cell_type": "markdown",
   "id": "44446a9d",
   "metadata": {
    "papermill": {
     "duration": 0.012931,
     "end_time": "2022-09-25T21:48:11.843116",
     "exception": false,
     "start_time": "2022-09-25T21:48:11.830185",
     "status": "completed"
    },
    "tags": []
   },
   "source": [
    "# <div style=\"background-color:rgba(220, 75, 60, 0.75);padding:10px 10px 10px;border-radius:5px 25px 25px 5px;width:230px\">Data Glossary</div>"
   ]
  },
  {
   "cell_type": "markdown",
   "id": "05841761",
   "metadata": {
    "papermill": {
     "duration": 0.0129,
     "end_time": "2022-09-25T21:48:11.869244",
     "exception": false,
     "start_time": "2022-09-25T21:48:11.856344",
     "status": "completed"
    },
    "tags": []
   },
   "source": [
    "<p style=\"background-color:rgba(244,164,96, 0.3);padding:10px 10px;border-radius:5px 25px 25px 5px;width:1000px;font-size:16px;line-height:2.2\">\n",
    "    <b>BHK</b>:&nbsp;&nbsp; Number of Bedrooms, Hall, Kitchen.<br/>\n",
    "    <b>Rent</b>:&nbsp;&nbsp; Price of the Houses/Apartments/Flats.<br/>\n",
    "    <b>Size</b>:&nbsp;&nbsp; Size of the Houses/Apartments/Flats in Square Feet.<br/>\n",
    "    <b>Floor</b>:&nbsp;&nbsp; Houses/Apartments/Flats situated in which Floor and Total Number of Floors (Example: Ground out of 2, 3 out of 5, etc.)<br/>\n",
    "    <b>Area Type</b>:&nbsp;&nbsp; Size of the Houses/Apartments/Flats calculated on either Super Area or Carpet Area or Build Area.<br/>\n",
    "    <b>Area Locality</b>:&nbsp;&nbsp; Locality of the Houses/Apartments/Flats.<br/>\n",
    "    <b>City</b>:&nbsp;&nbsp; City where the Houses/Apartments/Flats are Located.<br/>\n",
    "    <b>Furnishing Status</b>:&nbsp;&nbsp; Furnishing Status of the Houses/Apartments/Flats, either it is Furnished or Semi-Furnished or Unfurnished.<br/>\n",
    "    <b>Tenant Preferred</b>:&nbsp;&nbsp; Type of Tenant Preferred by the Owner or Agent.<br/>\n",
    "    <b>Bathroom</b>:&nbsp;&nbsp; Number of Bathrooms.<br/>\n",
    "    <b>Point of Contact</b>:&nbsp;&nbsp; Whom should you contact for more information regarding the Houses/Apartments/Flats.<p/>"
   ]
  },
  {
   "cell_type": "markdown",
   "id": "b5b0568d",
   "metadata": {
    "papermill": {
     "duration": 0.012814,
     "end_time": "2022-09-25T21:48:11.895339",
     "exception": false,
     "start_time": "2022-09-25T21:48:11.882525",
     "status": "completed"
    },
    "tags": []
   },
   "source": [
    "# <div style=\"background-color:rgba(220, 75, 60, 0.75);padding:10px 10px 10px;border-radius:5px 25px 25px 5px;width:550px\">Importing Libraries and Loading Data</div>"
   ]
  },
  {
   "cell_type": "code",
   "execution_count": 1,
   "id": "d770c7fc",
   "metadata": {
    "execution": {
     "iopub.execute_input": "2022-09-25T21:48:11.924254Z",
     "iopub.status.busy": "2022-09-25T21:48:11.923633Z",
     "iopub.status.idle": "2022-09-25T21:48:14.281859Z",
     "shell.execute_reply": "2022-09-25T21:48:14.280115Z"
    },
    "papermill": {
     "duration": 2.37624,
     "end_time": "2022-09-25T21:48:14.284882",
     "exception": false,
     "start_time": "2022-09-25T21:48:11.908642",
     "status": "completed"
    },
    "tags": []
   },
   "outputs": [],
   "source": [
    "import numpy as np\n",
    "import pandas as pd\n",
    "import matplotlib.pyplot as plt\n",
    "import plotly.express as px\n",
    "\n",
    "from sklearn.ensemble import RandomForestRegressor\n",
    "from sklearn.preprocessing import MinMaxScaler\n",
    "from sklearn.model_selection import train_test_split, RandomizedSearchCV\n",
    "from sklearn.metrics import r2_score\n",
    "\n",
    "import warnings\n",
    "warnings.filterwarnings('ignore')"
   ]
  },
  {
   "cell_type": "code",
   "execution_count": 2,
   "id": "e44e87d0",
   "metadata": {
    "execution": {
     "iopub.execute_input": "2022-09-25T21:48:14.313995Z",
     "iopub.status.busy": "2022-09-25T21:48:14.313320Z",
     "iopub.status.idle": "2022-09-25T21:48:14.376476Z",
     "shell.execute_reply": "2022-09-25T21:48:14.375190Z"
    },
    "papermill": {
     "duration": 0.080385,
     "end_time": "2022-09-25T21:48:14.378964",
     "exception": false,
     "start_time": "2022-09-25T21:48:14.298579",
     "status": "completed"
    },
    "tags": []
   },
   "outputs": [
    {
     "data": {
      "text/html": [
       "<div>\n",
       "<style scoped>\n",
       "    .dataframe tbody tr th:only-of-type {\n",
       "        vertical-align: middle;\n",
       "    }\n",
       "\n",
       "    .dataframe tbody tr th {\n",
       "        vertical-align: top;\n",
       "    }\n",
       "\n",
       "    .dataframe thead th {\n",
       "        text-align: right;\n",
       "    }\n",
       "</style>\n",
       "<table border=\"1\" class=\"dataframe\">\n",
       "  <thead>\n",
       "    <tr style=\"text-align: right;\">\n",
       "      <th></th>\n",
       "      <th>Posted On</th>\n",
       "      <th>BHK</th>\n",
       "      <th>Rent</th>\n",
       "      <th>Size</th>\n",
       "      <th>Floor</th>\n",
       "      <th>Area Type</th>\n",
       "      <th>Area Locality</th>\n",
       "      <th>City</th>\n",
       "      <th>Furnishing Status</th>\n",
       "      <th>Tenant Preferred</th>\n",
       "      <th>Bathroom</th>\n",
       "      <th>Point of Contact</th>\n",
       "    </tr>\n",
       "  </thead>\n",
       "  <tbody>\n",
       "    <tr>\n",
       "      <th>0</th>\n",
       "      <td>2022-05-18</td>\n",
       "      <td>2</td>\n",
       "      <td>10000</td>\n",
       "      <td>1100</td>\n",
       "      <td>Ground out of 2</td>\n",
       "      <td>Super Area</td>\n",
       "      <td>Bandel</td>\n",
       "      <td>Kolkata</td>\n",
       "      <td>Unfurnished</td>\n",
       "      <td>Bachelors/Family</td>\n",
       "      <td>2</td>\n",
       "      <td>Contact Owner</td>\n",
       "    </tr>\n",
       "    <tr>\n",
       "      <th>1</th>\n",
       "      <td>2022-05-13</td>\n",
       "      <td>2</td>\n",
       "      <td>20000</td>\n",
       "      <td>800</td>\n",
       "      <td>1 out of 3</td>\n",
       "      <td>Super Area</td>\n",
       "      <td>Phool Bagan, Kankurgachi</td>\n",
       "      <td>Kolkata</td>\n",
       "      <td>Semi-Furnished</td>\n",
       "      <td>Bachelors/Family</td>\n",
       "      <td>1</td>\n",
       "      <td>Contact Owner</td>\n",
       "    </tr>\n",
       "    <tr>\n",
       "      <th>2</th>\n",
       "      <td>2022-05-16</td>\n",
       "      <td>2</td>\n",
       "      <td>17000</td>\n",
       "      <td>1000</td>\n",
       "      <td>1 out of 3</td>\n",
       "      <td>Super Area</td>\n",
       "      <td>Salt Lake City Sector 2</td>\n",
       "      <td>Kolkata</td>\n",
       "      <td>Semi-Furnished</td>\n",
       "      <td>Bachelors/Family</td>\n",
       "      <td>1</td>\n",
       "      <td>Contact Owner</td>\n",
       "    </tr>\n",
       "    <tr>\n",
       "      <th>3</th>\n",
       "      <td>2022-07-04</td>\n",
       "      <td>2</td>\n",
       "      <td>10000</td>\n",
       "      <td>800</td>\n",
       "      <td>1 out of 2</td>\n",
       "      <td>Super Area</td>\n",
       "      <td>Dumdum Park</td>\n",
       "      <td>Kolkata</td>\n",
       "      <td>Unfurnished</td>\n",
       "      <td>Bachelors/Family</td>\n",
       "      <td>1</td>\n",
       "      <td>Contact Owner</td>\n",
       "    </tr>\n",
       "    <tr>\n",
       "      <th>4</th>\n",
       "      <td>2022-05-09</td>\n",
       "      <td>2</td>\n",
       "      <td>7500</td>\n",
       "      <td>850</td>\n",
       "      <td>1 out of 2</td>\n",
       "      <td>Carpet Area</td>\n",
       "      <td>South Dum Dum</td>\n",
       "      <td>Kolkata</td>\n",
       "      <td>Unfurnished</td>\n",
       "      <td>Bachelors</td>\n",
       "      <td>1</td>\n",
       "      <td>Contact Owner</td>\n",
       "    </tr>\n",
       "  </tbody>\n",
       "</table>\n",
       "</div>"
      ],
      "text/plain": [
       "    Posted On  BHK   Rent  Size            Floor    Area Type  \\\n",
       "0  2022-05-18    2  10000  1100  Ground out of 2   Super Area   \n",
       "1  2022-05-13    2  20000   800       1 out of 3   Super Area   \n",
       "2  2022-05-16    2  17000  1000       1 out of 3   Super Area   \n",
       "3  2022-07-04    2  10000   800       1 out of 2   Super Area   \n",
       "4  2022-05-09    2   7500   850       1 out of 2  Carpet Area   \n",
       "\n",
       "              Area Locality     City Furnishing Status  Tenant Preferred  \\\n",
       "0                    Bandel  Kolkata       Unfurnished  Bachelors/Family   \n",
       "1  Phool Bagan, Kankurgachi  Kolkata    Semi-Furnished  Bachelors/Family   \n",
       "2   Salt Lake City Sector 2  Kolkata    Semi-Furnished  Bachelors/Family   \n",
       "3               Dumdum Park  Kolkata       Unfurnished  Bachelors/Family   \n",
       "4             South Dum Dum  Kolkata       Unfurnished         Bachelors   \n",
       "\n",
       "   Bathroom Point of Contact  \n",
       "0         2    Contact Owner  \n",
       "1         1    Contact Owner  \n",
       "2         1    Contact Owner  \n",
       "3         1    Contact Owner  \n",
       "4         1    Contact Owner  "
      ]
     },
     "execution_count": 2,
     "metadata": {},
     "output_type": "execute_result"
    }
   ],
   "source": [
    "data = pd.read_csv('../input/house-rent-prediction-dataset/House_Rent_Dataset.csv')\n",
    "data.head()"
   ]
  },
  {
   "cell_type": "markdown",
   "id": "a9dd7fb1",
   "metadata": {
    "papermill": {
     "duration": 0.013167,
     "end_time": "2022-09-25T21:48:14.405794",
     "exception": false,
     "start_time": "2022-09-25T21:48:14.392627",
     "status": "completed"
    },
    "tags": []
   },
   "source": [
    "# <div style=\"background-color:rgba(220, 75, 60, 0.75);padding:10px 10px 10px;border-radius:5px 25px 25px 5px;width:400px\">Exploratory Data Analysis</div>"
   ]
  },
  {
   "cell_type": "code",
   "execution_count": 3,
   "id": "13ab561d",
   "metadata": {
    "execution": {
     "iopub.execute_input": "2022-09-25T21:48:14.434568Z",
     "iopub.status.busy": "2022-09-25T21:48:14.434056Z",
     "iopub.status.idle": "2022-09-25T21:48:14.461886Z",
     "shell.execute_reply": "2022-09-25T21:48:14.460380Z"
    },
    "papermill": {
     "duration": 0.044959,
     "end_time": "2022-09-25T21:48:14.464106",
     "exception": false,
     "start_time": "2022-09-25T21:48:14.419147",
     "status": "completed"
    },
    "tags": []
   },
   "outputs": [
    {
     "name": "stdout",
     "output_type": "stream",
     "text": [
      "<class 'pandas.core.frame.DataFrame'>\n",
      "RangeIndex: 4746 entries, 0 to 4745\n",
      "Data columns (total 12 columns):\n",
      " #   Column             Non-Null Count  Dtype \n",
      "---  ------             --------------  ----- \n",
      " 0   Posted On          4746 non-null   object\n",
      " 1   BHK                4746 non-null   int64 \n",
      " 2   Rent               4746 non-null   int64 \n",
      " 3   Size               4746 non-null   int64 \n",
      " 4   Floor              4746 non-null   object\n",
      " 5   Area Type          4746 non-null   object\n",
      " 6   Area Locality      4746 non-null   object\n",
      " 7   City               4746 non-null   object\n",
      " 8   Furnishing Status  4746 non-null   object\n",
      " 9   Tenant Preferred   4746 non-null   object\n",
      " 10  Bathroom           4746 non-null   int64 \n",
      " 11  Point of Contact   4746 non-null   object\n",
      "dtypes: int64(4), object(8)\n",
      "memory usage: 445.1+ KB\n"
     ]
    }
   ],
   "source": [
    "data.info()"
   ]
  },
  {
   "cell_type": "code",
   "execution_count": 4,
   "id": "c85826ae",
   "metadata": {
    "execution": {
     "iopub.execute_input": "2022-09-25T21:48:14.493983Z",
     "iopub.status.busy": "2022-09-25T21:48:14.492672Z",
     "iopub.status.idle": "2022-09-25T21:48:14.519086Z",
     "shell.execute_reply": "2022-09-25T21:48:14.517990Z"
    },
    "papermill": {
     "duration": 0.043933,
     "end_time": "2022-09-25T21:48:14.521915",
     "exception": false,
     "start_time": "2022-09-25T21:48:14.477982",
     "status": "completed"
    },
    "tags": []
   },
   "outputs": [
    {
     "data": {
      "text/html": [
       "<div>\n",
       "<style scoped>\n",
       "    .dataframe tbody tr th:only-of-type {\n",
       "        vertical-align: middle;\n",
       "    }\n",
       "\n",
       "    .dataframe tbody tr th {\n",
       "        vertical-align: top;\n",
       "    }\n",
       "\n",
       "    .dataframe thead th {\n",
       "        text-align: right;\n",
       "    }\n",
       "</style>\n",
       "<table border=\"1\" class=\"dataframe\">\n",
       "  <thead>\n",
       "    <tr style=\"text-align: right;\">\n",
       "      <th></th>\n",
       "      <th>BHK</th>\n",
       "      <th>Rent</th>\n",
       "      <th>Size</th>\n",
       "      <th>Bathroom</th>\n",
       "    </tr>\n",
       "  </thead>\n",
       "  <tbody>\n",
       "    <tr>\n",
       "      <th>count</th>\n",
       "      <td>4746.000000</td>\n",
       "      <td>4.746000e+03</td>\n",
       "      <td>4746.000000</td>\n",
       "      <td>4746.000000</td>\n",
       "    </tr>\n",
       "    <tr>\n",
       "      <th>mean</th>\n",
       "      <td>2.083860</td>\n",
       "      <td>3.499345e+04</td>\n",
       "      <td>967.490729</td>\n",
       "      <td>1.965866</td>\n",
       "    </tr>\n",
       "    <tr>\n",
       "      <th>std</th>\n",
       "      <td>0.832256</td>\n",
       "      <td>7.810641e+04</td>\n",
       "      <td>634.202328</td>\n",
       "      <td>0.884532</td>\n",
       "    </tr>\n",
       "    <tr>\n",
       "      <th>min</th>\n",
       "      <td>1.000000</td>\n",
       "      <td>1.200000e+03</td>\n",
       "      <td>10.000000</td>\n",
       "      <td>1.000000</td>\n",
       "    </tr>\n",
       "    <tr>\n",
       "      <th>25%</th>\n",
       "      <td>2.000000</td>\n",
       "      <td>1.000000e+04</td>\n",
       "      <td>550.000000</td>\n",
       "      <td>1.000000</td>\n",
       "    </tr>\n",
       "    <tr>\n",
       "      <th>50%</th>\n",
       "      <td>2.000000</td>\n",
       "      <td>1.600000e+04</td>\n",
       "      <td>850.000000</td>\n",
       "      <td>2.000000</td>\n",
       "    </tr>\n",
       "    <tr>\n",
       "      <th>75%</th>\n",
       "      <td>3.000000</td>\n",
       "      <td>3.300000e+04</td>\n",
       "      <td>1200.000000</td>\n",
       "      <td>2.000000</td>\n",
       "    </tr>\n",
       "    <tr>\n",
       "      <th>max</th>\n",
       "      <td>6.000000</td>\n",
       "      <td>3.500000e+06</td>\n",
       "      <td>8000.000000</td>\n",
       "      <td>10.000000</td>\n",
       "    </tr>\n",
       "  </tbody>\n",
       "</table>\n",
       "</div>"
      ],
      "text/plain": [
       "               BHK          Rent         Size     Bathroom\n",
       "count  4746.000000  4.746000e+03  4746.000000  4746.000000\n",
       "mean      2.083860  3.499345e+04   967.490729     1.965866\n",
       "std       0.832256  7.810641e+04   634.202328     0.884532\n",
       "min       1.000000  1.200000e+03    10.000000     1.000000\n",
       "25%       2.000000  1.000000e+04   550.000000     1.000000\n",
       "50%       2.000000  1.600000e+04   850.000000     2.000000\n",
       "75%       3.000000  3.300000e+04  1200.000000     2.000000\n",
       "max       6.000000  3.500000e+06  8000.000000    10.000000"
      ]
     },
     "execution_count": 4,
     "metadata": {},
     "output_type": "execute_result"
    }
   ],
   "source": [
    "data.describe()"
   ]
  },
  {
   "cell_type": "code",
   "execution_count": 5,
   "id": "fcdcaa36",
   "metadata": {
    "execution": {
     "iopub.execute_input": "2022-09-25T21:48:14.552936Z",
     "iopub.status.busy": "2022-09-25T21:48:14.552533Z",
     "iopub.status.idle": "2022-09-25T21:48:14.564147Z",
     "shell.execute_reply": "2022-09-25T21:48:14.563091Z"
    },
    "papermill": {
     "duration": 0.030364,
     "end_time": "2022-09-25T21:48:14.566412",
     "exception": false,
     "start_time": "2022-09-25T21:48:14.536048",
     "status": "completed"
    },
    "tags": []
   },
   "outputs": [
    {
     "data": {
      "text/plain": [
       "Posted On            0\n",
       "BHK                  0\n",
       "Rent                 0\n",
       "Size                 0\n",
       "Floor                0\n",
       "Area Type            0\n",
       "Area Locality        0\n",
       "City                 0\n",
       "Furnishing Status    0\n",
       "Tenant Preferred     0\n",
       "Bathroom             0\n",
       "Point of Contact     0\n",
       "dtype: int64"
      ]
     },
     "execution_count": 5,
     "metadata": {},
     "output_type": "execute_result"
    }
   ],
   "source": [
    "data.isnull().sum()"
   ]
  },
  {
   "cell_type": "markdown",
   "id": "0c2f95ea",
   "metadata": {
    "papermill": {
     "duration": 0.013539,
     "end_time": "2022-09-25T21:48:14.595275",
     "exception": false,
     "start_time": "2022-09-25T21:48:14.581736",
     "status": "completed"
    },
    "tags": []
   },
   "source": [
    "#### There are no missing values in the data."
   ]
  },
  {
   "cell_type": "code",
   "execution_count": 6,
   "id": "5ca80e70",
   "metadata": {
    "execution": {
     "iopub.execute_input": "2022-09-25T21:48:14.624977Z",
     "iopub.status.busy": "2022-09-25T21:48:14.623881Z",
     "iopub.status.idle": "2022-09-25T21:48:14.643841Z",
     "shell.execute_reply": "2022-09-25T21:48:14.642502Z"
    },
    "papermill": {
     "duration": 0.037151,
     "end_time": "2022-09-25T21:48:14.646157",
     "exception": false,
     "start_time": "2022-09-25T21:48:14.609006",
     "status": "completed"
    },
    "tags": []
   },
   "outputs": [
    {
     "data": {
      "text/html": [
       "<div>\n",
       "<style scoped>\n",
       "    .dataframe tbody tr th:only-of-type {\n",
       "        vertical-align: middle;\n",
       "    }\n",
       "\n",
       "    .dataframe tbody tr th {\n",
       "        vertical-align: top;\n",
       "    }\n",
       "\n",
       "    .dataframe thead th {\n",
       "        text-align: right;\n",
       "    }\n",
       "</style>\n",
       "<table border=\"1\" class=\"dataframe\">\n",
       "  <thead>\n",
       "    <tr style=\"text-align: right;\">\n",
       "      <th></th>\n",
       "      <th>Posted On</th>\n",
       "      <th>Floor</th>\n",
       "      <th>Area Type</th>\n",
       "      <th>Area Locality</th>\n",
       "      <th>City</th>\n",
       "      <th>Furnishing Status</th>\n",
       "      <th>Tenant Preferred</th>\n",
       "      <th>Point of Contact</th>\n",
       "    </tr>\n",
       "  </thead>\n",
       "  <tbody>\n",
       "    <tr>\n",
       "      <th>0</th>\n",
       "      <td>2022-05-18</td>\n",
       "      <td>Ground out of 2</td>\n",
       "      <td>Super Area</td>\n",
       "      <td>Bandel</td>\n",
       "      <td>Kolkata</td>\n",
       "      <td>Unfurnished</td>\n",
       "      <td>Bachelors/Family</td>\n",
       "      <td>Contact Owner</td>\n",
       "    </tr>\n",
       "    <tr>\n",
       "      <th>1</th>\n",
       "      <td>2022-05-13</td>\n",
       "      <td>1 out of 3</td>\n",
       "      <td>Super Area</td>\n",
       "      <td>Phool Bagan, Kankurgachi</td>\n",
       "      <td>Kolkata</td>\n",
       "      <td>Semi-Furnished</td>\n",
       "      <td>Bachelors/Family</td>\n",
       "      <td>Contact Owner</td>\n",
       "    </tr>\n",
       "    <tr>\n",
       "      <th>2</th>\n",
       "      <td>2022-05-16</td>\n",
       "      <td>1 out of 3</td>\n",
       "      <td>Super Area</td>\n",
       "      <td>Salt Lake City Sector 2</td>\n",
       "      <td>Kolkata</td>\n",
       "      <td>Semi-Furnished</td>\n",
       "      <td>Bachelors/Family</td>\n",
       "      <td>Contact Owner</td>\n",
       "    </tr>\n",
       "    <tr>\n",
       "      <th>3</th>\n",
       "      <td>2022-07-04</td>\n",
       "      <td>1 out of 2</td>\n",
       "      <td>Super Area</td>\n",
       "      <td>Dumdum Park</td>\n",
       "      <td>Kolkata</td>\n",
       "      <td>Unfurnished</td>\n",
       "      <td>Bachelors/Family</td>\n",
       "      <td>Contact Owner</td>\n",
       "    </tr>\n",
       "    <tr>\n",
       "      <th>4</th>\n",
       "      <td>2022-05-09</td>\n",
       "      <td>1 out of 2</td>\n",
       "      <td>Carpet Area</td>\n",
       "      <td>South Dum Dum</td>\n",
       "      <td>Kolkata</td>\n",
       "      <td>Unfurnished</td>\n",
       "      <td>Bachelors</td>\n",
       "      <td>Contact Owner</td>\n",
       "    </tr>\n",
       "    <tr>\n",
       "      <th>...</th>\n",
       "      <td>...</td>\n",
       "      <td>...</td>\n",
       "      <td>...</td>\n",
       "      <td>...</td>\n",
       "      <td>...</td>\n",
       "      <td>...</td>\n",
       "      <td>...</td>\n",
       "      <td>...</td>\n",
       "    </tr>\n",
       "    <tr>\n",
       "      <th>4741</th>\n",
       "      <td>2022-05-18</td>\n",
       "      <td>3 out of 5</td>\n",
       "      <td>Carpet Area</td>\n",
       "      <td>Bandam Kommu</td>\n",
       "      <td>Hyderabad</td>\n",
       "      <td>Semi-Furnished</td>\n",
       "      <td>Bachelors/Family</td>\n",
       "      <td>Contact Owner</td>\n",
       "    </tr>\n",
       "    <tr>\n",
       "      <th>4742</th>\n",
       "      <td>2022-05-15</td>\n",
       "      <td>1 out of 4</td>\n",
       "      <td>Super Area</td>\n",
       "      <td>Manikonda, Hyderabad</td>\n",
       "      <td>Hyderabad</td>\n",
       "      <td>Semi-Furnished</td>\n",
       "      <td>Bachelors/Family</td>\n",
       "      <td>Contact Owner</td>\n",
       "    </tr>\n",
       "    <tr>\n",
       "      <th>4743</th>\n",
       "      <td>2022-07-10</td>\n",
       "      <td>3 out of 5</td>\n",
       "      <td>Carpet Area</td>\n",
       "      <td>Himayath Nagar, NH 7</td>\n",
       "      <td>Hyderabad</td>\n",
       "      <td>Semi-Furnished</td>\n",
       "      <td>Bachelors/Family</td>\n",
       "      <td>Contact Agent</td>\n",
       "    </tr>\n",
       "    <tr>\n",
       "      <th>4744</th>\n",
       "      <td>2022-07-06</td>\n",
       "      <td>23 out of 34</td>\n",
       "      <td>Carpet Area</td>\n",
       "      <td>Gachibowli</td>\n",
       "      <td>Hyderabad</td>\n",
       "      <td>Semi-Furnished</td>\n",
       "      <td>Family</td>\n",
       "      <td>Contact Agent</td>\n",
       "    </tr>\n",
       "    <tr>\n",
       "      <th>4745</th>\n",
       "      <td>2022-05-04</td>\n",
       "      <td>4 out of 5</td>\n",
       "      <td>Carpet Area</td>\n",
       "      <td>Suchitra Circle</td>\n",
       "      <td>Hyderabad</td>\n",
       "      <td>Unfurnished</td>\n",
       "      <td>Bachelors</td>\n",
       "      <td>Contact Owner</td>\n",
       "    </tr>\n",
       "  </tbody>\n",
       "</table>\n",
       "<p>4746 rows × 8 columns</p>\n",
       "</div>"
      ],
      "text/plain": [
       "       Posted On            Floor    Area Type             Area Locality  \\\n",
       "0     2022-05-18  Ground out of 2   Super Area                    Bandel   \n",
       "1     2022-05-13       1 out of 3   Super Area  Phool Bagan, Kankurgachi   \n",
       "2     2022-05-16       1 out of 3   Super Area   Salt Lake City Sector 2   \n",
       "3     2022-07-04       1 out of 2   Super Area               Dumdum Park   \n",
       "4     2022-05-09       1 out of 2  Carpet Area             South Dum Dum   \n",
       "...          ...              ...          ...                       ...   \n",
       "4741  2022-05-18       3 out of 5  Carpet Area              Bandam Kommu   \n",
       "4742  2022-05-15       1 out of 4   Super Area      Manikonda, Hyderabad   \n",
       "4743  2022-07-10       3 out of 5  Carpet Area      Himayath Nagar, NH 7   \n",
       "4744  2022-07-06     23 out of 34  Carpet Area                Gachibowli   \n",
       "4745  2022-05-04       4 out of 5  Carpet Area           Suchitra Circle   \n",
       "\n",
       "           City Furnishing Status  Tenant Preferred Point of Contact  \n",
       "0       Kolkata       Unfurnished  Bachelors/Family    Contact Owner  \n",
       "1       Kolkata    Semi-Furnished  Bachelors/Family    Contact Owner  \n",
       "2       Kolkata    Semi-Furnished  Bachelors/Family    Contact Owner  \n",
       "3       Kolkata       Unfurnished  Bachelors/Family    Contact Owner  \n",
       "4       Kolkata       Unfurnished         Bachelors    Contact Owner  \n",
       "...         ...               ...               ...              ...  \n",
       "4741  Hyderabad    Semi-Furnished  Bachelors/Family    Contact Owner  \n",
       "4742  Hyderabad    Semi-Furnished  Bachelors/Family    Contact Owner  \n",
       "4743  Hyderabad    Semi-Furnished  Bachelors/Family    Contact Agent  \n",
       "4744  Hyderabad    Semi-Furnished            Family    Contact Agent  \n",
       "4745  Hyderabad       Unfurnished         Bachelors    Contact Owner  \n",
       "\n",
       "[4746 rows x 8 columns]"
      ]
     },
     "execution_count": 6,
     "metadata": {},
     "output_type": "execute_result"
    }
   ],
   "source": [
    "df = data.select_dtypes('O')\n",
    "df"
   ]
  },
  {
   "cell_type": "code",
   "execution_count": 7,
   "id": "de290a98",
   "metadata": {
    "execution": {
     "iopub.execute_input": "2022-09-25T21:48:14.676706Z",
     "iopub.status.busy": "2022-09-25T21:48:14.676286Z",
     "iopub.status.idle": "2022-09-25T21:48:14.689925Z",
     "shell.execute_reply": "2022-09-25T21:48:14.688579Z"
    },
    "papermill": {
     "duration": 0.031841,
     "end_time": "2022-09-25T21:48:14.692456",
     "exception": false,
     "start_time": "2022-09-25T21:48:14.660615",
     "status": "completed"
    },
    "tags": []
   },
   "outputs": [
    {
     "data": {
      "text/plain": [
       "[('Posted On', 81),\n",
       " ('Floor', 480),\n",
       " ('Area Type', 3),\n",
       " ('Area Locality', 2235),\n",
       " ('City', 6),\n",
       " ('Furnishing Status', 3),\n",
       " ('Tenant Preferred', 3),\n",
       " ('Point of Contact', 3)]"
      ]
     },
     "execution_count": 7,
     "metadata": {},
     "output_type": "execute_result"
    }
   ],
   "source": [
    "[(df.columns[i], df.iloc[:, i].unique().shape[0]) for i in range(len(df.columns))]"
   ]
  },
  {
   "cell_type": "markdown",
   "id": "11bbc9b5",
   "metadata": {
    "papermill": {
     "duration": 0.014104,
     "end_time": "2022-09-25T21:48:14.720921",
     "exception": false,
     "start_time": "2022-09-25T21:48:14.706817",
     "status": "completed"
    },
    "tags": []
   },
   "source": [
    "#### There are too much unique values in 'Area Locality' column and they may hardly help in producing significant model fit.\n",
    "\n",
    "The 'Floor' column tells us about house situated in which floor along with the total floors present in the building. So making separate columns as 'Floor' and 'Total Floors'."
   ]
  },
  {
   "cell_type": "code",
   "execution_count": 8,
   "id": "51feae09",
   "metadata": {
    "execution": {
     "iopub.execute_input": "2022-09-25T21:48:14.751482Z",
     "iopub.status.busy": "2022-09-25T21:48:14.751073Z",
     "iopub.status.idle": "2022-09-25T21:48:14.775753Z",
     "shell.execute_reply": "2022-09-25T21:48:14.774868Z"
    },
    "papermill": {
     "duration": 0.042645,
     "end_time": "2022-09-25T21:48:14.777945",
     "exception": false,
     "start_time": "2022-09-25T21:48:14.735300",
     "status": "completed"
    },
    "tags": []
   },
   "outputs": [
    {
     "data": {
      "text/html": [
       "<div>\n",
       "<style scoped>\n",
       "    .dataframe tbody tr th:only-of-type {\n",
       "        vertical-align: middle;\n",
       "    }\n",
       "\n",
       "    .dataframe tbody tr th {\n",
       "        vertical-align: top;\n",
       "    }\n",
       "\n",
       "    .dataframe thead th {\n",
       "        text-align: right;\n",
       "    }\n",
       "</style>\n",
       "<table border=\"1\" class=\"dataframe\">\n",
       "  <thead>\n",
       "    <tr style=\"text-align: right;\">\n",
       "      <th></th>\n",
       "      <th>Posted On</th>\n",
       "      <th>BHK</th>\n",
       "      <th>Rent</th>\n",
       "      <th>Size</th>\n",
       "      <th>Floor</th>\n",
       "      <th>Area Type</th>\n",
       "      <th>City</th>\n",
       "      <th>Furnishing Status</th>\n",
       "      <th>Tenant Preferred</th>\n",
       "      <th>Bathroom</th>\n",
       "      <th>Point of Contact</th>\n",
       "      <th>Total Floors</th>\n",
       "    </tr>\n",
       "  </thead>\n",
       "  <tbody>\n",
       "    <tr>\n",
       "      <th>0</th>\n",
       "      <td>2022-05-18</td>\n",
       "      <td>2</td>\n",
       "      <td>10000</td>\n",
       "      <td>1100</td>\n",
       "      <td>Ground</td>\n",
       "      <td>Super Area</td>\n",
       "      <td>Kolkata</td>\n",
       "      <td>Unfurnished</td>\n",
       "      <td>Bachelors/Family</td>\n",
       "      <td>2</td>\n",
       "      <td>Contact Owner</td>\n",
       "      <td>2</td>\n",
       "    </tr>\n",
       "    <tr>\n",
       "      <th>1</th>\n",
       "      <td>2022-05-13</td>\n",
       "      <td>2</td>\n",
       "      <td>20000</td>\n",
       "      <td>800</td>\n",
       "      <td>1</td>\n",
       "      <td>Super Area</td>\n",
       "      <td>Kolkata</td>\n",
       "      <td>Semi-Furnished</td>\n",
       "      <td>Bachelors/Family</td>\n",
       "      <td>1</td>\n",
       "      <td>Contact Owner</td>\n",
       "      <td>3</td>\n",
       "    </tr>\n",
       "    <tr>\n",
       "      <th>2</th>\n",
       "      <td>2022-05-16</td>\n",
       "      <td>2</td>\n",
       "      <td>17000</td>\n",
       "      <td>1000</td>\n",
       "      <td>1</td>\n",
       "      <td>Super Area</td>\n",
       "      <td>Kolkata</td>\n",
       "      <td>Semi-Furnished</td>\n",
       "      <td>Bachelors/Family</td>\n",
       "      <td>1</td>\n",
       "      <td>Contact Owner</td>\n",
       "      <td>3</td>\n",
       "    </tr>\n",
       "    <tr>\n",
       "      <th>3</th>\n",
       "      <td>2022-07-04</td>\n",
       "      <td>2</td>\n",
       "      <td>10000</td>\n",
       "      <td>800</td>\n",
       "      <td>1</td>\n",
       "      <td>Super Area</td>\n",
       "      <td>Kolkata</td>\n",
       "      <td>Unfurnished</td>\n",
       "      <td>Bachelors/Family</td>\n",
       "      <td>1</td>\n",
       "      <td>Contact Owner</td>\n",
       "      <td>2</td>\n",
       "    </tr>\n",
       "    <tr>\n",
       "      <th>4</th>\n",
       "      <td>2022-05-09</td>\n",
       "      <td>2</td>\n",
       "      <td>7500</td>\n",
       "      <td>850</td>\n",
       "      <td>1</td>\n",
       "      <td>Carpet Area</td>\n",
       "      <td>Kolkata</td>\n",
       "      <td>Unfurnished</td>\n",
       "      <td>Bachelors</td>\n",
       "      <td>1</td>\n",
       "      <td>Contact Owner</td>\n",
       "      <td>2</td>\n",
       "    </tr>\n",
       "  </tbody>\n",
       "</table>\n",
       "</div>"
      ],
      "text/plain": [
       "    Posted On  BHK   Rent  Size   Floor    Area Type     City  \\\n",
       "0  2022-05-18    2  10000  1100  Ground   Super Area  Kolkata   \n",
       "1  2022-05-13    2  20000   800       1   Super Area  Kolkata   \n",
       "2  2022-05-16    2  17000  1000       1   Super Area  Kolkata   \n",
       "3  2022-07-04    2  10000   800       1   Super Area  Kolkata   \n",
       "4  2022-05-09    2   7500   850       1  Carpet Area  Kolkata   \n",
       "\n",
       "  Furnishing Status  Tenant Preferred  Bathroom Point of Contact Total Floors  \n",
       "0       Unfurnished  Bachelors/Family         2    Contact Owner            2  \n",
       "1    Semi-Furnished  Bachelors/Family         1    Contact Owner            3  \n",
       "2    Semi-Furnished  Bachelors/Family         1    Contact Owner            3  \n",
       "3       Unfurnished  Bachelors/Family         1    Contact Owner            2  \n",
       "4       Unfurnished         Bachelors         1    Contact Owner            2  "
      ]
     },
     "execution_count": 8,
     "metadata": {},
     "output_type": "execute_result"
    }
   ],
   "source": [
    "data.drop(columns='Area Locality', inplace=True)\n",
    "data[\"Total Floors\"] = data[\"Floor\"].apply(lambda floor:floor.split()[-1])\n",
    "data[\"Floor\"] = data[\"Floor\"].apply(lambda floor:floor.split()[0])\n",
    "data.head()"
   ]
  },
  {
   "cell_type": "markdown",
   "id": "553816b5",
   "metadata": {
    "papermill": {
     "duration": 0.014355,
     "end_time": "2022-09-25T21:48:14.806963",
     "exception": false,
     "start_time": "2022-09-25T21:48:14.792608",
     "status": "completed"
    },
    "tags": []
   },
   "source": [
    "# <div style=\"background-color:rgba(220, 75, 60, 0.75);padding:10px 10px 10px;border-radius:5px 25px 25px 5px;width:300px\">Data Visualization</div>"
   ]
  },
  {
   "cell_type": "markdown",
   "id": "dd0b2575",
   "metadata": {
    "papermill": {
     "duration": 0.014354,
     "end_time": "2022-09-25T21:48:14.835928",
     "exception": false,
     "start_time": "2022-09-25T21:48:14.821574",
     "status": "completed"
    },
    "tags": []
   },
   "source": [
    "<h4 style=\"background-color:rgb(244,164,96);padding:10px 10px 10px;border-radius:5px 25px 25px 5px;width:250px\">House Rent in Different Cities"
   ]
  },
  {
   "cell_type": "code",
   "execution_count": 9,
   "id": "e6e25ced",
   "metadata": {
    "_kg_hide-input": true,
    "execution": {
     "iopub.execute_input": "2022-09-25T21:48:14.867397Z",
     "iopub.status.busy": "2022-09-25T21:48:14.866729Z",
     "iopub.status.idle": "2022-09-25T21:48:15.968871Z",
     "shell.execute_reply": "2022-09-25T21:48:15.967569Z"
    },
    "papermill": {
     "duration": 1.120816,
     "end_time": "2022-09-25T21:48:15.971418",
     "exception": false,
     "start_time": "2022-09-25T21:48:14.850602",
     "status": "completed"
    },
    "tags": []
   },
   "outputs": [
    {
     "data": {
      "text/html": [
       "        <script type=\"text/javascript\">\n",
       "        window.PlotlyConfig = {MathJaxConfig: 'local'};\n",
       "        if (window.MathJax && window.MathJax.Hub && window.MathJax.Hub.Config) {window.MathJax.Hub.Config({SVG: {font: \"STIX-Web\"}});}\n",
       "        if (typeof require !== 'undefined') {\n",
       "        require.undef(\"plotly\");\n",
       "        requirejs.config({\n",
       "            paths: {\n",
       "                'plotly': ['https://cdn.plot.ly/plotly-2.12.1.min']\n",
       "            }\n",
       "        });\n",
       "        require(['plotly'], function(Plotly) {\n",
       "            window._Plotly = Plotly;\n",
       "        });\n",
       "        }\n",
       "        </script>\n",
       "        "
      ]
     },
     "metadata": {},
     "output_type": "display_data"
    },
    {
     "data": {
      "text/html": [
       "<div>                            <div id=\"480f124f-fe75-4ca0-86a2-20d2412d4a1b\" class=\"plotly-graph-div\" style=\"height:525px; width:100%;\"></div>            <script type=\"text/javascript\">                require([\"plotly\"], function(Plotly) {                    window.PLOTLYENV=window.PLOTLYENV || {};                                    if (document.getElementById(\"480f124f-fe75-4ca0-86a2-20d2412d4a1b\")) {                    Plotly.newPlot(                        \"480f124f-fe75-4ca0-86a2-20d2412d4a1b\",                        [{\"domain\":{\"x\":[0.0,1.0],\"y\":[0.0,1.0]},\"hole\":0.4,\"hovertemplate\":\"label=%{label}<br>value=%{value}<extra></extra>\",\"labels\":[\"Mumbai\",\"Chennai\",\"Bangalore\",\"Hyderabad\",\"Delhi\",\"Kolkata\"],\"legendgroup\":\"\",\"name\":\"\",\"showlegend\":true,\"values\":[972,891,886,868,605,524],\"type\":\"pie\"}],                        {\"template\":{\"data\":{\"histogram2dcontour\":[{\"type\":\"histogram2dcontour\",\"colorbar\":{\"outlinewidth\":0,\"ticks\":\"\"},\"colorscale\":[[0.0,\"#0d0887\"],[0.1111111111111111,\"#46039f\"],[0.2222222222222222,\"#7201a8\"],[0.3333333333333333,\"#9c179e\"],[0.4444444444444444,\"#bd3786\"],[0.5555555555555556,\"#d8576b\"],[0.6666666666666666,\"#ed7953\"],[0.7777777777777778,\"#fb9f3a\"],[0.8888888888888888,\"#fdca26\"],[1.0,\"#f0f921\"]]}],\"choropleth\":[{\"type\":\"choropleth\",\"colorbar\":{\"outlinewidth\":0,\"ticks\":\"\"}}],\"histogram2d\":[{\"type\":\"histogram2d\",\"colorbar\":{\"outlinewidth\":0,\"ticks\":\"\"},\"colorscale\":[[0.0,\"#0d0887\"],[0.1111111111111111,\"#46039f\"],[0.2222222222222222,\"#7201a8\"],[0.3333333333333333,\"#9c179e\"],[0.4444444444444444,\"#bd3786\"],[0.5555555555555556,\"#d8576b\"],[0.6666666666666666,\"#ed7953\"],[0.7777777777777778,\"#fb9f3a\"],[0.8888888888888888,\"#fdca26\"],[1.0,\"#f0f921\"]]}],\"heatmap\":[{\"type\":\"heatmap\",\"colorbar\":{\"outlinewidth\":0,\"ticks\":\"\"},\"colorscale\":[[0.0,\"#0d0887\"],[0.1111111111111111,\"#46039f\"],[0.2222222222222222,\"#7201a8\"],[0.3333333333333333,\"#9c179e\"],[0.4444444444444444,\"#bd3786\"],[0.5555555555555556,\"#d8576b\"],[0.6666666666666666,\"#ed7953\"],[0.7777777777777778,\"#fb9f3a\"],[0.8888888888888888,\"#fdca26\"],[1.0,\"#f0f921\"]]}],\"heatmapgl\":[{\"type\":\"heatmapgl\",\"colorbar\":{\"outlinewidth\":0,\"ticks\":\"\"},\"colorscale\":[[0.0,\"#0d0887\"],[0.1111111111111111,\"#46039f\"],[0.2222222222222222,\"#7201a8\"],[0.3333333333333333,\"#9c179e\"],[0.4444444444444444,\"#bd3786\"],[0.5555555555555556,\"#d8576b\"],[0.6666666666666666,\"#ed7953\"],[0.7777777777777778,\"#fb9f3a\"],[0.8888888888888888,\"#fdca26\"],[1.0,\"#f0f921\"]]}],\"contourcarpet\":[{\"type\":\"contourcarpet\",\"colorbar\":{\"outlinewidth\":0,\"ticks\":\"\"}}],\"contour\":[{\"type\":\"contour\",\"colorbar\":{\"outlinewidth\":0,\"ticks\":\"\"},\"colorscale\":[[0.0,\"#0d0887\"],[0.1111111111111111,\"#46039f\"],[0.2222222222222222,\"#7201a8\"],[0.3333333333333333,\"#9c179e\"],[0.4444444444444444,\"#bd3786\"],[0.5555555555555556,\"#d8576b\"],[0.6666666666666666,\"#ed7953\"],[0.7777777777777778,\"#fb9f3a\"],[0.8888888888888888,\"#fdca26\"],[1.0,\"#f0f921\"]]}],\"surface\":[{\"type\":\"surface\",\"colorbar\":{\"outlinewidth\":0,\"ticks\":\"\"},\"colorscale\":[[0.0,\"#0d0887\"],[0.1111111111111111,\"#46039f\"],[0.2222222222222222,\"#7201a8\"],[0.3333333333333333,\"#9c179e\"],[0.4444444444444444,\"#bd3786\"],[0.5555555555555556,\"#d8576b\"],[0.6666666666666666,\"#ed7953\"],[0.7777777777777778,\"#fb9f3a\"],[0.8888888888888888,\"#fdca26\"],[1.0,\"#f0f921\"]]}],\"mesh3d\":[{\"type\":\"mesh3d\",\"colorbar\":{\"outlinewidth\":0,\"ticks\":\"\"}}],\"scatter\":[{\"fillpattern\":{\"fillmode\":\"overlay\",\"size\":10,\"solidity\":0.2},\"type\":\"scatter\"}],\"parcoords\":[{\"type\":\"parcoords\",\"line\":{\"colorbar\":{\"outlinewidth\":0,\"ticks\":\"\"}}}],\"scatterpolargl\":[{\"type\":\"scatterpolargl\",\"marker\":{\"colorbar\":{\"outlinewidth\":0,\"ticks\":\"\"}}}],\"bar\":[{\"error_x\":{\"color\":\"#2a3f5f\"},\"error_y\":{\"color\":\"#2a3f5f\"},\"marker\":{\"line\":{\"color\":\"#E5ECF6\",\"width\":0.5},\"pattern\":{\"fillmode\":\"overlay\",\"size\":10,\"solidity\":0.2}},\"type\":\"bar\"}],\"scattergeo\":[{\"type\":\"scattergeo\",\"marker\":{\"colorbar\":{\"outlinewidth\":0,\"ticks\":\"\"}}}],\"scatterpolar\":[{\"type\":\"scatterpolar\",\"marker\":{\"colorbar\":{\"outlinewidth\":0,\"ticks\":\"\"}}}],\"histogram\":[{\"marker\":{\"pattern\":{\"fillmode\":\"overlay\",\"size\":10,\"solidity\":0.2}},\"type\":\"histogram\"}],\"scattergl\":[{\"type\":\"scattergl\",\"marker\":{\"colorbar\":{\"outlinewidth\":0,\"ticks\":\"\"}}}],\"scatter3d\":[{\"type\":\"scatter3d\",\"line\":{\"colorbar\":{\"outlinewidth\":0,\"ticks\":\"\"}},\"marker\":{\"colorbar\":{\"outlinewidth\":0,\"ticks\":\"\"}}}],\"scattermapbox\":[{\"type\":\"scattermapbox\",\"marker\":{\"colorbar\":{\"outlinewidth\":0,\"ticks\":\"\"}}}],\"scatterternary\":[{\"type\":\"scatterternary\",\"marker\":{\"colorbar\":{\"outlinewidth\":0,\"ticks\":\"\"}}}],\"scattercarpet\":[{\"type\":\"scattercarpet\",\"marker\":{\"colorbar\":{\"outlinewidth\":0,\"ticks\":\"\"}}}],\"carpet\":[{\"aaxis\":{\"endlinecolor\":\"#2a3f5f\",\"gridcolor\":\"white\",\"linecolor\":\"white\",\"minorgridcolor\":\"white\",\"startlinecolor\":\"#2a3f5f\"},\"baxis\":{\"endlinecolor\":\"#2a3f5f\",\"gridcolor\":\"white\",\"linecolor\":\"white\",\"minorgridcolor\":\"white\",\"startlinecolor\":\"#2a3f5f\"},\"type\":\"carpet\"}],\"table\":[{\"cells\":{\"fill\":{\"color\":\"#EBF0F8\"},\"line\":{\"color\":\"white\"}},\"header\":{\"fill\":{\"color\":\"#C8D4E3\"},\"line\":{\"color\":\"white\"}},\"type\":\"table\"}],\"barpolar\":[{\"marker\":{\"line\":{\"color\":\"#E5ECF6\",\"width\":0.5},\"pattern\":{\"fillmode\":\"overlay\",\"size\":10,\"solidity\":0.2}},\"type\":\"barpolar\"}],\"pie\":[{\"automargin\":true,\"type\":\"pie\"}]},\"layout\":{\"autotypenumbers\":\"strict\",\"colorway\":[\"#636efa\",\"#EF553B\",\"#00cc96\",\"#ab63fa\",\"#FFA15A\",\"#19d3f3\",\"#FF6692\",\"#B6E880\",\"#FF97FF\",\"#FECB52\"],\"font\":{\"color\":\"#2a3f5f\"},\"hovermode\":\"closest\",\"hoverlabel\":{\"align\":\"left\"},\"paper_bgcolor\":\"white\",\"plot_bgcolor\":\"#E5ECF6\",\"polar\":{\"bgcolor\":\"#E5ECF6\",\"angularaxis\":{\"gridcolor\":\"white\",\"linecolor\":\"white\",\"ticks\":\"\"},\"radialaxis\":{\"gridcolor\":\"white\",\"linecolor\":\"white\",\"ticks\":\"\"}},\"ternary\":{\"bgcolor\":\"#E5ECF6\",\"aaxis\":{\"gridcolor\":\"white\",\"linecolor\":\"white\",\"ticks\":\"\"},\"baxis\":{\"gridcolor\":\"white\",\"linecolor\":\"white\",\"ticks\":\"\"},\"caxis\":{\"gridcolor\":\"white\",\"linecolor\":\"white\",\"ticks\":\"\"}},\"coloraxis\":{\"colorbar\":{\"outlinewidth\":0,\"ticks\":\"\"}},\"colorscale\":{\"sequential\":[[0.0,\"#0d0887\"],[0.1111111111111111,\"#46039f\"],[0.2222222222222222,\"#7201a8\"],[0.3333333333333333,\"#9c179e\"],[0.4444444444444444,\"#bd3786\"],[0.5555555555555556,\"#d8576b\"],[0.6666666666666666,\"#ed7953\"],[0.7777777777777778,\"#fb9f3a\"],[0.8888888888888888,\"#fdca26\"],[1.0,\"#f0f921\"]],\"sequentialminus\":[[0.0,\"#0d0887\"],[0.1111111111111111,\"#46039f\"],[0.2222222222222222,\"#7201a8\"],[0.3333333333333333,\"#9c179e\"],[0.4444444444444444,\"#bd3786\"],[0.5555555555555556,\"#d8576b\"],[0.6666666666666666,\"#ed7953\"],[0.7777777777777778,\"#fb9f3a\"],[0.8888888888888888,\"#fdca26\"],[1.0,\"#f0f921\"]],\"diverging\":[[0,\"#8e0152\"],[0.1,\"#c51b7d\"],[0.2,\"#de77ae\"],[0.3,\"#f1b6da\"],[0.4,\"#fde0ef\"],[0.5,\"#f7f7f7\"],[0.6,\"#e6f5d0\"],[0.7,\"#b8e186\"],[0.8,\"#7fbc41\"],[0.9,\"#4d9221\"],[1,\"#276419\"]]},\"xaxis\":{\"gridcolor\":\"white\",\"linecolor\":\"white\",\"ticks\":\"\",\"title\":{\"standoff\":15},\"zerolinecolor\":\"white\",\"automargin\":true,\"zerolinewidth\":2},\"yaxis\":{\"gridcolor\":\"white\",\"linecolor\":\"white\",\"ticks\":\"\",\"title\":{\"standoff\":15},\"zerolinecolor\":\"white\",\"automargin\":true,\"zerolinewidth\":2},\"scene\":{\"xaxis\":{\"backgroundcolor\":\"#E5ECF6\",\"gridcolor\":\"white\",\"linecolor\":\"white\",\"showbackground\":true,\"ticks\":\"\",\"zerolinecolor\":\"white\",\"gridwidth\":2},\"yaxis\":{\"backgroundcolor\":\"#E5ECF6\",\"gridcolor\":\"white\",\"linecolor\":\"white\",\"showbackground\":true,\"ticks\":\"\",\"zerolinecolor\":\"white\",\"gridwidth\":2},\"zaxis\":{\"backgroundcolor\":\"#E5ECF6\",\"gridcolor\":\"white\",\"linecolor\":\"white\",\"showbackground\":true,\"ticks\":\"\",\"zerolinecolor\":\"white\",\"gridwidth\":2}},\"shapedefaults\":{\"line\":{\"color\":\"#2a3f5f\"}},\"annotationdefaults\":{\"arrowcolor\":\"#2a3f5f\",\"arrowhead\":0,\"arrowwidth\":1},\"geo\":{\"bgcolor\":\"white\",\"landcolor\":\"#E5ECF6\",\"subunitcolor\":\"white\",\"showland\":true,\"showlakes\":true,\"lakecolor\":\"white\"},\"title\":{\"x\":0.05},\"mapbox\":{\"style\":\"light\"}}},\"legend\":{\"tracegroupgap\":0},\"title\":{\"text\":\"House Rent in different Cities\"}},                        {\"responsive\": true}                    ).then(function(){\n",
       "                            \n",
       "var gd = document.getElementById('480f124f-fe75-4ca0-86a2-20d2412d4a1b');\n",
       "var x = new MutationObserver(function (mutations, observer) {{\n",
       "        var display = window.getComputedStyle(gd).display;\n",
       "        if (!display || display === 'none') {{\n",
       "            console.log([gd, 'removed!']);\n",
       "            Plotly.purge(gd);\n",
       "            observer.disconnect();\n",
       "        }}\n",
       "}});\n",
       "\n",
       "// Listen for the removal of the full notebook cells\n",
       "var notebookContainer = gd.closest('#notebook-container');\n",
       "if (notebookContainer) {{\n",
       "    x.observe(notebookContainer, {childList: true});\n",
       "}}\n",
       "\n",
       "// Listen for the clearing of the current output cell\n",
       "var outputEl = gd.closest('.output');\n",
       "if (outputEl) {{\n",
       "    x.observe(outputEl, {childList: true});\n",
       "}}\n",
       "\n",
       "                        })                };                });            </script>        </div>"
      ]
     },
     "metadata": {},
     "output_type": "display_data"
    }
   ],
   "source": [
    "city_count = data['City'].value_counts()\n",
    "px.pie(labels=city_count.index.tolist(), values=city_count.tolist(), names=city_count.index.tolist(), hole=0.4, title='House Rent in different Cities')"
   ]
  },
  {
   "cell_type": "markdown",
   "id": "05da30b7",
   "metadata": {
    "papermill": {
     "duration": 0.015137,
     "end_time": "2022-09-25T21:48:16.002305",
     "exception": false,
     "start_time": "2022-09-25T21:48:15.987168",
     "status": "completed"
    },
    "tags": []
   },
   "source": [
    "<h4 style=\"background-color:rgb(244,164,96);padding:10px 10px 10px;border-radius:5px 25px 25px 5px;width:230px\">Area Type of the Houses"
   ]
  },
  {
   "cell_type": "code",
   "execution_count": 10,
   "id": "e20e241b",
   "metadata": {
    "_kg_hide-input": true,
    "execution": {
     "iopub.execute_input": "2022-09-25T21:48:16.034795Z",
     "iopub.status.busy": "2022-09-25T21:48:16.034402Z",
     "iopub.status.idle": "2022-09-25T21:48:16.085386Z",
     "shell.execute_reply": "2022-09-25T21:48:16.084338Z"
    },
    "papermill": {
     "duration": 0.070411,
     "end_time": "2022-09-25T21:48:16.087937",
     "exception": false,
     "start_time": "2022-09-25T21:48:16.017526",
     "status": "completed"
    },
    "tags": []
   },
   "outputs": [
    {
     "data": {
      "text/html": [
       "<div>                            <div id=\"a0df0576-85a0-4288-a854-2fb56f6bc005\" class=\"plotly-graph-div\" style=\"height:525px; width:100%;\"></div>            <script type=\"text/javascript\">                require([\"plotly\"], function(Plotly) {                    window.PLOTLYENV=window.PLOTLYENV || {};                                    if (document.getElementById(\"a0df0576-85a0-4288-a854-2fb56f6bc005\")) {                    Plotly.newPlot(                        \"a0df0576-85a0-4288-a854-2fb56f6bc005\",                        [{\"domain\":{\"x\":[0.0,1.0],\"y\":[0.0,1.0]},\"hole\":0.4,\"hovertemplate\":\"label=%{label}<br>value=%{value}<extra></extra>\",\"labels\":[\"Super Area\",\"Carpet Area\",\"Built Area\"],\"legendgroup\":\"\",\"name\":\"\",\"showlegend\":true,\"values\":[2446,2298,2],\"type\":\"pie\"}],                        {\"template\":{\"data\":{\"histogram2dcontour\":[{\"type\":\"histogram2dcontour\",\"colorbar\":{\"outlinewidth\":0,\"ticks\":\"\"},\"colorscale\":[[0.0,\"#0d0887\"],[0.1111111111111111,\"#46039f\"],[0.2222222222222222,\"#7201a8\"],[0.3333333333333333,\"#9c179e\"],[0.4444444444444444,\"#bd3786\"],[0.5555555555555556,\"#d8576b\"],[0.6666666666666666,\"#ed7953\"],[0.7777777777777778,\"#fb9f3a\"],[0.8888888888888888,\"#fdca26\"],[1.0,\"#f0f921\"]]}],\"choropleth\":[{\"type\":\"choropleth\",\"colorbar\":{\"outlinewidth\":0,\"ticks\":\"\"}}],\"histogram2d\":[{\"type\":\"histogram2d\",\"colorbar\":{\"outlinewidth\":0,\"ticks\":\"\"},\"colorscale\":[[0.0,\"#0d0887\"],[0.1111111111111111,\"#46039f\"],[0.2222222222222222,\"#7201a8\"],[0.3333333333333333,\"#9c179e\"],[0.4444444444444444,\"#bd3786\"],[0.5555555555555556,\"#d8576b\"],[0.6666666666666666,\"#ed7953\"],[0.7777777777777778,\"#fb9f3a\"],[0.8888888888888888,\"#fdca26\"],[1.0,\"#f0f921\"]]}],\"heatmap\":[{\"type\":\"heatmap\",\"colorbar\":{\"outlinewidth\":0,\"ticks\":\"\"},\"colorscale\":[[0.0,\"#0d0887\"],[0.1111111111111111,\"#46039f\"],[0.2222222222222222,\"#7201a8\"],[0.3333333333333333,\"#9c179e\"],[0.4444444444444444,\"#bd3786\"],[0.5555555555555556,\"#d8576b\"],[0.6666666666666666,\"#ed7953\"],[0.7777777777777778,\"#fb9f3a\"],[0.8888888888888888,\"#fdca26\"],[1.0,\"#f0f921\"]]}],\"heatmapgl\":[{\"type\":\"heatmapgl\",\"colorbar\":{\"outlinewidth\":0,\"ticks\":\"\"},\"colorscale\":[[0.0,\"#0d0887\"],[0.1111111111111111,\"#46039f\"],[0.2222222222222222,\"#7201a8\"],[0.3333333333333333,\"#9c179e\"],[0.4444444444444444,\"#bd3786\"],[0.5555555555555556,\"#d8576b\"],[0.6666666666666666,\"#ed7953\"],[0.7777777777777778,\"#fb9f3a\"],[0.8888888888888888,\"#fdca26\"],[1.0,\"#f0f921\"]]}],\"contourcarpet\":[{\"type\":\"contourcarpet\",\"colorbar\":{\"outlinewidth\":0,\"ticks\":\"\"}}],\"contour\":[{\"type\":\"contour\",\"colorbar\":{\"outlinewidth\":0,\"ticks\":\"\"},\"colorscale\":[[0.0,\"#0d0887\"],[0.1111111111111111,\"#46039f\"],[0.2222222222222222,\"#7201a8\"],[0.3333333333333333,\"#9c179e\"],[0.4444444444444444,\"#bd3786\"],[0.5555555555555556,\"#d8576b\"],[0.6666666666666666,\"#ed7953\"],[0.7777777777777778,\"#fb9f3a\"],[0.8888888888888888,\"#fdca26\"],[1.0,\"#f0f921\"]]}],\"surface\":[{\"type\":\"surface\",\"colorbar\":{\"outlinewidth\":0,\"ticks\":\"\"},\"colorscale\":[[0.0,\"#0d0887\"],[0.1111111111111111,\"#46039f\"],[0.2222222222222222,\"#7201a8\"],[0.3333333333333333,\"#9c179e\"],[0.4444444444444444,\"#bd3786\"],[0.5555555555555556,\"#d8576b\"],[0.6666666666666666,\"#ed7953\"],[0.7777777777777778,\"#fb9f3a\"],[0.8888888888888888,\"#fdca26\"],[1.0,\"#f0f921\"]]}],\"mesh3d\":[{\"type\":\"mesh3d\",\"colorbar\":{\"outlinewidth\":0,\"ticks\":\"\"}}],\"scatter\":[{\"fillpattern\":{\"fillmode\":\"overlay\",\"size\":10,\"solidity\":0.2},\"type\":\"scatter\"}],\"parcoords\":[{\"type\":\"parcoords\",\"line\":{\"colorbar\":{\"outlinewidth\":0,\"ticks\":\"\"}}}],\"scatterpolargl\":[{\"type\":\"scatterpolargl\",\"marker\":{\"colorbar\":{\"outlinewidth\":0,\"ticks\":\"\"}}}],\"bar\":[{\"error_x\":{\"color\":\"#2a3f5f\"},\"error_y\":{\"color\":\"#2a3f5f\"},\"marker\":{\"line\":{\"color\":\"#E5ECF6\",\"width\":0.5},\"pattern\":{\"fillmode\":\"overlay\",\"size\":10,\"solidity\":0.2}},\"type\":\"bar\"}],\"scattergeo\":[{\"type\":\"scattergeo\",\"marker\":{\"colorbar\":{\"outlinewidth\":0,\"ticks\":\"\"}}}],\"scatterpolar\":[{\"type\":\"scatterpolar\",\"marker\":{\"colorbar\":{\"outlinewidth\":0,\"ticks\":\"\"}}}],\"histogram\":[{\"marker\":{\"pattern\":{\"fillmode\":\"overlay\",\"size\":10,\"solidity\":0.2}},\"type\":\"histogram\"}],\"scattergl\":[{\"type\":\"scattergl\",\"marker\":{\"colorbar\":{\"outlinewidth\":0,\"ticks\":\"\"}}}],\"scatter3d\":[{\"type\":\"scatter3d\",\"line\":{\"colorbar\":{\"outlinewidth\":0,\"ticks\":\"\"}},\"marker\":{\"colorbar\":{\"outlinewidth\":0,\"ticks\":\"\"}}}],\"scattermapbox\":[{\"type\":\"scattermapbox\",\"marker\":{\"colorbar\":{\"outlinewidth\":0,\"ticks\":\"\"}}}],\"scatterternary\":[{\"type\":\"scatterternary\",\"marker\":{\"colorbar\":{\"outlinewidth\":0,\"ticks\":\"\"}}}],\"scattercarpet\":[{\"type\":\"scattercarpet\",\"marker\":{\"colorbar\":{\"outlinewidth\":0,\"ticks\":\"\"}}}],\"carpet\":[{\"aaxis\":{\"endlinecolor\":\"#2a3f5f\",\"gridcolor\":\"white\",\"linecolor\":\"white\",\"minorgridcolor\":\"white\",\"startlinecolor\":\"#2a3f5f\"},\"baxis\":{\"endlinecolor\":\"#2a3f5f\",\"gridcolor\":\"white\",\"linecolor\":\"white\",\"minorgridcolor\":\"white\",\"startlinecolor\":\"#2a3f5f\"},\"type\":\"carpet\"}],\"table\":[{\"cells\":{\"fill\":{\"color\":\"#EBF0F8\"},\"line\":{\"color\":\"white\"}},\"header\":{\"fill\":{\"color\":\"#C8D4E3\"},\"line\":{\"color\":\"white\"}},\"type\":\"table\"}],\"barpolar\":[{\"marker\":{\"line\":{\"color\":\"#E5ECF6\",\"width\":0.5},\"pattern\":{\"fillmode\":\"overlay\",\"size\":10,\"solidity\":0.2}},\"type\":\"barpolar\"}],\"pie\":[{\"automargin\":true,\"type\":\"pie\"}]},\"layout\":{\"autotypenumbers\":\"strict\",\"colorway\":[\"#636efa\",\"#EF553B\",\"#00cc96\",\"#ab63fa\",\"#FFA15A\",\"#19d3f3\",\"#FF6692\",\"#B6E880\",\"#FF97FF\",\"#FECB52\"],\"font\":{\"color\":\"#2a3f5f\"},\"hovermode\":\"closest\",\"hoverlabel\":{\"align\":\"left\"},\"paper_bgcolor\":\"white\",\"plot_bgcolor\":\"#E5ECF6\",\"polar\":{\"bgcolor\":\"#E5ECF6\",\"angularaxis\":{\"gridcolor\":\"white\",\"linecolor\":\"white\",\"ticks\":\"\"},\"radialaxis\":{\"gridcolor\":\"white\",\"linecolor\":\"white\",\"ticks\":\"\"}},\"ternary\":{\"bgcolor\":\"#E5ECF6\",\"aaxis\":{\"gridcolor\":\"white\",\"linecolor\":\"white\",\"ticks\":\"\"},\"baxis\":{\"gridcolor\":\"white\",\"linecolor\":\"white\",\"ticks\":\"\"},\"caxis\":{\"gridcolor\":\"white\",\"linecolor\":\"white\",\"ticks\":\"\"}},\"coloraxis\":{\"colorbar\":{\"outlinewidth\":0,\"ticks\":\"\"}},\"colorscale\":{\"sequential\":[[0.0,\"#0d0887\"],[0.1111111111111111,\"#46039f\"],[0.2222222222222222,\"#7201a8\"],[0.3333333333333333,\"#9c179e\"],[0.4444444444444444,\"#bd3786\"],[0.5555555555555556,\"#d8576b\"],[0.6666666666666666,\"#ed7953\"],[0.7777777777777778,\"#fb9f3a\"],[0.8888888888888888,\"#fdca26\"],[1.0,\"#f0f921\"]],\"sequentialminus\":[[0.0,\"#0d0887\"],[0.1111111111111111,\"#46039f\"],[0.2222222222222222,\"#7201a8\"],[0.3333333333333333,\"#9c179e\"],[0.4444444444444444,\"#bd3786\"],[0.5555555555555556,\"#d8576b\"],[0.6666666666666666,\"#ed7953\"],[0.7777777777777778,\"#fb9f3a\"],[0.8888888888888888,\"#fdca26\"],[1.0,\"#f0f921\"]],\"diverging\":[[0,\"#8e0152\"],[0.1,\"#c51b7d\"],[0.2,\"#de77ae\"],[0.3,\"#f1b6da\"],[0.4,\"#fde0ef\"],[0.5,\"#f7f7f7\"],[0.6,\"#e6f5d0\"],[0.7,\"#b8e186\"],[0.8,\"#7fbc41\"],[0.9,\"#4d9221\"],[1,\"#276419\"]]},\"xaxis\":{\"gridcolor\":\"white\",\"linecolor\":\"white\",\"ticks\":\"\",\"title\":{\"standoff\":15},\"zerolinecolor\":\"white\",\"automargin\":true,\"zerolinewidth\":2},\"yaxis\":{\"gridcolor\":\"white\",\"linecolor\":\"white\",\"ticks\":\"\",\"title\":{\"standoff\":15},\"zerolinecolor\":\"white\",\"automargin\":true,\"zerolinewidth\":2},\"scene\":{\"xaxis\":{\"backgroundcolor\":\"#E5ECF6\",\"gridcolor\":\"white\",\"linecolor\":\"white\",\"showbackground\":true,\"ticks\":\"\",\"zerolinecolor\":\"white\",\"gridwidth\":2},\"yaxis\":{\"backgroundcolor\":\"#E5ECF6\",\"gridcolor\":\"white\",\"linecolor\":\"white\",\"showbackground\":true,\"ticks\":\"\",\"zerolinecolor\":\"white\",\"gridwidth\":2},\"zaxis\":{\"backgroundcolor\":\"#E5ECF6\",\"gridcolor\":\"white\",\"linecolor\":\"white\",\"showbackground\":true,\"ticks\":\"\",\"zerolinecolor\":\"white\",\"gridwidth\":2}},\"shapedefaults\":{\"line\":{\"color\":\"#2a3f5f\"}},\"annotationdefaults\":{\"arrowcolor\":\"#2a3f5f\",\"arrowhead\":0,\"arrowwidth\":1},\"geo\":{\"bgcolor\":\"white\",\"landcolor\":\"#E5ECF6\",\"subunitcolor\":\"white\",\"showland\":true,\"showlakes\":true,\"lakecolor\":\"white\"},\"title\":{\"x\":0.05},\"mapbox\":{\"style\":\"light\"}}},\"legend\":{\"tracegroupgap\":0},\"title\":{\"text\":\"Area type of the houses\"}},                        {\"responsive\": true}                    ).then(function(){\n",
       "                            \n",
       "var gd = document.getElementById('a0df0576-85a0-4288-a854-2fb56f6bc005');\n",
       "var x = new MutationObserver(function (mutations, observer) {{\n",
       "        var display = window.getComputedStyle(gd).display;\n",
       "        if (!display || display === 'none') {{\n",
       "            console.log([gd, 'removed!']);\n",
       "            Plotly.purge(gd);\n",
       "            observer.disconnect();\n",
       "        }}\n",
       "}});\n",
       "\n",
       "// Listen for the removal of the full notebook cells\n",
       "var notebookContainer = gd.closest('#notebook-container');\n",
       "if (notebookContainer) {{\n",
       "    x.observe(notebookContainer, {childList: true});\n",
       "}}\n",
       "\n",
       "// Listen for the clearing of the current output cell\n",
       "var outputEl = gd.closest('.output');\n",
       "if (outputEl) {{\n",
       "    x.observe(outputEl, {childList: true});\n",
       "}}\n",
       "\n",
       "                        })                };                });            </script>        </div>"
      ]
     },
     "metadata": {},
     "output_type": "display_data"
    }
   ],
   "source": [
    "at_count = data['Area Type'].value_counts()\n",
    "px.pie(labels=at_count.index.tolist(), values=at_count.tolist(), names=at_count.index, hole=0.4, title='Area type of the houses')"
   ]
  },
  {
   "cell_type": "markdown",
   "id": "4603de31",
   "metadata": {
    "papermill": {
     "duration": 0.015755,
     "end_time": "2022-09-25T21:48:16.119669",
     "exception": false,
     "start_time": "2022-09-25T21:48:16.103914",
     "status": "completed"
    },
    "tags": []
   },
   "source": [
    "<h4 style=\"background-color:rgb(244,164,96);padding:10px 10px 10px;border-radius:5px 25px 25px 5px;width:280px\">Furnishing Status of the Houses"
   ]
  },
  {
   "cell_type": "code",
   "execution_count": 11,
   "id": "729a2efb",
   "metadata": {
    "_kg_hide-input": true,
    "execution": {
     "iopub.execute_input": "2022-09-25T21:48:16.154409Z",
     "iopub.status.busy": "2022-09-25T21:48:16.154025Z",
     "iopub.status.idle": "2022-09-25T21:48:16.205812Z",
     "shell.execute_reply": "2022-09-25T21:48:16.204827Z"
    },
    "papermill": {
     "duration": 0.071886,
     "end_time": "2022-09-25T21:48:16.208183",
     "exception": false,
     "start_time": "2022-09-25T21:48:16.136297",
     "status": "completed"
    },
    "tags": []
   },
   "outputs": [
    {
     "data": {
      "text/html": [
       "<div>                            <div id=\"c91e30ec-b6af-4db8-bf8f-fce55e4ed1bf\" class=\"plotly-graph-div\" style=\"height:525px; width:100%;\"></div>            <script type=\"text/javascript\">                require([\"plotly\"], function(Plotly) {                    window.PLOTLYENV=window.PLOTLYENV || {};                                    if (document.getElementById(\"c91e30ec-b6af-4db8-bf8f-fce55e4ed1bf\")) {                    Plotly.newPlot(                        \"c91e30ec-b6af-4db8-bf8f-fce55e4ed1bf\",                        [{\"domain\":{\"x\":[0.0,1.0],\"y\":[0.0,1.0]},\"hole\":0.4,\"hovertemplate\":\"label=%{label}<br>value=%{value}<extra></extra>\",\"labels\":[\"Semi-Furnished\",\"Unfurnished\",\"Furnished\"],\"legendgroup\":\"\",\"name\":\"\",\"showlegend\":true,\"values\":[2251,1815,680],\"type\":\"pie\"}],                        {\"template\":{\"data\":{\"histogram2dcontour\":[{\"type\":\"histogram2dcontour\",\"colorbar\":{\"outlinewidth\":0,\"ticks\":\"\"},\"colorscale\":[[0.0,\"#0d0887\"],[0.1111111111111111,\"#46039f\"],[0.2222222222222222,\"#7201a8\"],[0.3333333333333333,\"#9c179e\"],[0.4444444444444444,\"#bd3786\"],[0.5555555555555556,\"#d8576b\"],[0.6666666666666666,\"#ed7953\"],[0.7777777777777778,\"#fb9f3a\"],[0.8888888888888888,\"#fdca26\"],[1.0,\"#f0f921\"]]}],\"choropleth\":[{\"type\":\"choropleth\",\"colorbar\":{\"outlinewidth\":0,\"ticks\":\"\"}}],\"histogram2d\":[{\"type\":\"histogram2d\",\"colorbar\":{\"outlinewidth\":0,\"ticks\":\"\"},\"colorscale\":[[0.0,\"#0d0887\"],[0.1111111111111111,\"#46039f\"],[0.2222222222222222,\"#7201a8\"],[0.3333333333333333,\"#9c179e\"],[0.4444444444444444,\"#bd3786\"],[0.5555555555555556,\"#d8576b\"],[0.6666666666666666,\"#ed7953\"],[0.7777777777777778,\"#fb9f3a\"],[0.8888888888888888,\"#fdca26\"],[1.0,\"#f0f921\"]]}],\"heatmap\":[{\"type\":\"heatmap\",\"colorbar\":{\"outlinewidth\":0,\"ticks\":\"\"},\"colorscale\":[[0.0,\"#0d0887\"],[0.1111111111111111,\"#46039f\"],[0.2222222222222222,\"#7201a8\"],[0.3333333333333333,\"#9c179e\"],[0.4444444444444444,\"#bd3786\"],[0.5555555555555556,\"#d8576b\"],[0.6666666666666666,\"#ed7953\"],[0.7777777777777778,\"#fb9f3a\"],[0.8888888888888888,\"#fdca26\"],[1.0,\"#f0f921\"]]}],\"heatmapgl\":[{\"type\":\"heatmapgl\",\"colorbar\":{\"outlinewidth\":0,\"ticks\":\"\"},\"colorscale\":[[0.0,\"#0d0887\"],[0.1111111111111111,\"#46039f\"],[0.2222222222222222,\"#7201a8\"],[0.3333333333333333,\"#9c179e\"],[0.4444444444444444,\"#bd3786\"],[0.5555555555555556,\"#d8576b\"],[0.6666666666666666,\"#ed7953\"],[0.7777777777777778,\"#fb9f3a\"],[0.8888888888888888,\"#fdca26\"],[1.0,\"#f0f921\"]]}],\"contourcarpet\":[{\"type\":\"contourcarpet\",\"colorbar\":{\"outlinewidth\":0,\"ticks\":\"\"}}],\"contour\":[{\"type\":\"contour\",\"colorbar\":{\"outlinewidth\":0,\"ticks\":\"\"},\"colorscale\":[[0.0,\"#0d0887\"],[0.1111111111111111,\"#46039f\"],[0.2222222222222222,\"#7201a8\"],[0.3333333333333333,\"#9c179e\"],[0.4444444444444444,\"#bd3786\"],[0.5555555555555556,\"#d8576b\"],[0.6666666666666666,\"#ed7953\"],[0.7777777777777778,\"#fb9f3a\"],[0.8888888888888888,\"#fdca26\"],[1.0,\"#f0f921\"]]}],\"surface\":[{\"type\":\"surface\",\"colorbar\":{\"outlinewidth\":0,\"ticks\":\"\"},\"colorscale\":[[0.0,\"#0d0887\"],[0.1111111111111111,\"#46039f\"],[0.2222222222222222,\"#7201a8\"],[0.3333333333333333,\"#9c179e\"],[0.4444444444444444,\"#bd3786\"],[0.5555555555555556,\"#d8576b\"],[0.6666666666666666,\"#ed7953\"],[0.7777777777777778,\"#fb9f3a\"],[0.8888888888888888,\"#fdca26\"],[1.0,\"#f0f921\"]]}],\"mesh3d\":[{\"type\":\"mesh3d\",\"colorbar\":{\"outlinewidth\":0,\"ticks\":\"\"}}],\"scatter\":[{\"fillpattern\":{\"fillmode\":\"overlay\",\"size\":10,\"solidity\":0.2},\"type\":\"scatter\"}],\"parcoords\":[{\"type\":\"parcoords\",\"line\":{\"colorbar\":{\"outlinewidth\":0,\"ticks\":\"\"}}}],\"scatterpolargl\":[{\"type\":\"scatterpolargl\",\"marker\":{\"colorbar\":{\"outlinewidth\":0,\"ticks\":\"\"}}}],\"bar\":[{\"error_x\":{\"color\":\"#2a3f5f\"},\"error_y\":{\"color\":\"#2a3f5f\"},\"marker\":{\"line\":{\"color\":\"#E5ECF6\",\"width\":0.5},\"pattern\":{\"fillmode\":\"overlay\",\"size\":10,\"solidity\":0.2}},\"type\":\"bar\"}],\"scattergeo\":[{\"type\":\"scattergeo\",\"marker\":{\"colorbar\":{\"outlinewidth\":0,\"ticks\":\"\"}}}],\"scatterpolar\":[{\"type\":\"scatterpolar\",\"marker\":{\"colorbar\":{\"outlinewidth\":0,\"ticks\":\"\"}}}],\"histogram\":[{\"marker\":{\"pattern\":{\"fillmode\":\"overlay\",\"size\":10,\"solidity\":0.2}},\"type\":\"histogram\"}],\"scattergl\":[{\"type\":\"scattergl\",\"marker\":{\"colorbar\":{\"outlinewidth\":0,\"ticks\":\"\"}}}],\"scatter3d\":[{\"type\":\"scatter3d\",\"line\":{\"colorbar\":{\"outlinewidth\":0,\"ticks\":\"\"}},\"marker\":{\"colorbar\":{\"outlinewidth\":0,\"ticks\":\"\"}}}],\"scattermapbox\":[{\"type\":\"scattermapbox\",\"marker\":{\"colorbar\":{\"outlinewidth\":0,\"ticks\":\"\"}}}],\"scatterternary\":[{\"type\":\"scatterternary\",\"marker\":{\"colorbar\":{\"outlinewidth\":0,\"ticks\":\"\"}}}],\"scattercarpet\":[{\"type\":\"scattercarpet\",\"marker\":{\"colorbar\":{\"outlinewidth\":0,\"ticks\":\"\"}}}],\"carpet\":[{\"aaxis\":{\"endlinecolor\":\"#2a3f5f\",\"gridcolor\":\"white\",\"linecolor\":\"white\",\"minorgridcolor\":\"white\",\"startlinecolor\":\"#2a3f5f\"},\"baxis\":{\"endlinecolor\":\"#2a3f5f\",\"gridcolor\":\"white\",\"linecolor\":\"white\",\"minorgridcolor\":\"white\",\"startlinecolor\":\"#2a3f5f\"},\"type\":\"carpet\"}],\"table\":[{\"cells\":{\"fill\":{\"color\":\"#EBF0F8\"},\"line\":{\"color\":\"white\"}},\"header\":{\"fill\":{\"color\":\"#C8D4E3\"},\"line\":{\"color\":\"white\"}},\"type\":\"table\"}],\"barpolar\":[{\"marker\":{\"line\":{\"color\":\"#E5ECF6\",\"width\":0.5},\"pattern\":{\"fillmode\":\"overlay\",\"size\":10,\"solidity\":0.2}},\"type\":\"barpolar\"}],\"pie\":[{\"automargin\":true,\"type\":\"pie\"}]},\"layout\":{\"autotypenumbers\":\"strict\",\"colorway\":[\"#636efa\",\"#EF553B\",\"#00cc96\",\"#ab63fa\",\"#FFA15A\",\"#19d3f3\",\"#FF6692\",\"#B6E880\",\"#FF97FF\",\"#FECB52\"],\"font\":{\"color\":\"#2a3f5f\"},\"hovermode\":\"closest\",\"hoverlabel\":{\"align\":\"left\"},\"paper_bgcolor\":\"white\",\"plot_bgcolor\":\"#E5ECF6\",\"polar\":{\"bgcolor\":\"#E5ECF6\",\"angularaxis\":{\"gridcolor\":\"white\",\"linecolor\":\"white\",\"ticks\":\"\"},\"radialaxis\":{\"gridcolor\":\"white\",\"linecolor\":\"white\",\"ticks\":\"\"}},\"ternary\":{\"bgcolor\":\"#E5ECF6\",\"aaxis\":{\"gridcolor\":\"white\",\"linecolor\":\"white\",\"ticks\":\"\"},\"baxis\":{\"gridcolor\":\"white\",\"linecolor\":\"white\",\"ticks\":\"\"},\"caxis\":{\"gridcolor\":\"white\",\"linecolor\":\"white\",\"ticks\":\"\"}},\"coloraxis\":{\"colorbar\":{\"outlinewidth\":0,\"ticks\":\"\"}},\"colorscale\":{\"sequential\":[[0.0,\"#0d0887\"],[0.1111111111111111,\"#46039f\"],[0.2222222222222222,\"#7201a8\"],[0.3333333333333333,\"#9c179e\"],[0.4444444444444444,\"#bd3786\"],[0.5555555555555556,\"#d8576b\"],[0.6666666666666666,\"#ed7953\"],[0.7777777777777778,\"#fb9f3a\"],[0.8888888888888888,\"#fdca26\"],[1.0,\"#f0f921\"]],\"sequentialminus\":[[0.0,\"#0d0887\"],[0.1111111111111111,\"#46039f\"],[0.2222222222222222,\"#7201a8\"],[0.3333333333333333,\"#9c179e\"],[0.4444444444444444,\"#bd3786\"],[0.5555555555555556,\"#d8576b\"],[0.6666666666666666,\"#ed7953\"],[0.7777777777777778,\"#fb9f3a\"],[0.8888888888888888,\"#fdca26\"],[1.0,\"#f0f921\"]],\"diverging\":[[0,\"#8e0152\"],[0.1,\"#c51b7d\"],[0.2,\"#de77ae\"],[0.3,\"#f1b6da\"],[0.4,\"#fde0ef\"],[0.5,\"#f7f7f7\"],[0.6,\"#e6f5d0\"],[0.7,\"#b8e186\"],[0.8,\"#7fbc41\"],[0.9,\"#4d9221\"],[1,\"#276419\"]]},\"xaxis\":{\"gridcolor\":\"white\",\"linecolor\":\"white\",\"ticks\":\"\",\"title\":{\"standoff\":15},\"zerolinecolor\":\"white\",\"automargin\":true,\"zerolinewidth\":2},\"yaxis\":{\"gridcolor\":\"white\",\"linecolor\":\"white\",\"ticks\":\"\",\"title\":{\"standoff\":15},\"zerolinecolor\":\"white\",\"automargin\":true,\"zerolinewidth\":2},\"scene\":{\"xaxis\":{\"backgroundcolor\":\"#E5ECF6\",\"gridcolor\":\"white\",\"linecolor\":\"white\",\"showbackground\":true,\"ticks\":\"\",\"zerolinecolor\":\"white\",\"gridwidth\":2},\"yaxis\":{\"backgroundcolor\":\"#E5ECF6\",\"gridcolor\":\"white\",\"linecolor\":\"white\",\"showbackground\":true,\"ticks\":\"\",\"zerolinecolor\":\"white\",\"gridwidth\":2},\"zaxis\":{\"backgroundcolor\":\"#E5ECF6\",\"gridcolor\":\"white\",\"linecolor\":\"white\",\"showbackground\":true,\"ticks\":\"\",\"zerolinecolor\":\"white\",\"gridwidth\":2}},\"shapedefaults\":{\"line\":{\"color\":\"#2a3f5f\"}},\"annotationdefaults\":{\"arrowcolor\":\"#2a3f5f\",\"arrowhead\":0,\"arrowwidth\":1},\"geo\":{\"bgcolor\":\"white\",\"landcolor\":\"#E5ECF6\",\"subunitcolor\":\"white\",\"showland\":true,\"showlakes\":true,\"lakecolor\":\"white\"},\"title\":{\"x\":0.05},\"mapbox\":{\"style\":\"light\"}}},\"legend\":{\"tracegroupgap\":0},\"title\":{\"text\":\"Furnishing Status of the houses\"}},                        {\"responsive\": true}                    ).then(function(){\n",
       "                            \n",
       "var gd = document.getElementById('c91e30ec-b6af-4db8-bf8f-fce55e4ed1bf');\n",
       "var x = new MutationObserver(function (mutations, observer) {{\n",
       "        var display = window.getComputedStyle(gd).display;\n",
       "        if (!display || display === 'none') {{\n",
       "            console.log([gd, 'removed!']);\n",
       "            Plotly.purge(gd);\n",
       "            observer.disconnect();\n",
       "        }}\n",
       "}});\n",
       "\n",
       "// Listen for the removal of the full notebook cells\n",
       "var notebookContainer = gd.closest('#notebook-container');\n",
       "if (notebookContainer) {{\n",
       "    x.observe(notebookContainer, {childList: true});\n",
       "}}\n",
       "\n",
       "// Listen for the clearing of the current output cell\n",
       "var outputEl = gd.closest('.output');\n",
       "if (outputEl) {{\n",
       "    x.observe(outputEl, {childList: true});\n",
       "}}\n",
       "\n",
       "                        })                };                });            </script>        </div>"
      ]
     },
     "metadata": {},
     "output_type": "display_data"
    }
   ],
   "source": [
    "fs_count = data['Furnishing Status'].value_counts()\n",
    "px.pie(labels=fs_count.index.tolist(), values=fs_count.tolist(), names=fs_count.index, hole=0.4, title='Furnishing Status of the houses')"
   ]
  },
  {
   "cell_type": "markdown",
   "id": "42ff8832",
   "metadata": {
    "papermill": {
     "duration": 0.015308,
     "end_time": "2022-09-25T21:48:16.239333",
     "exception": false,
     "start_time": "2022-09-25T21:48:16.224025",
     "status": "completed"
    },
    "tags": []
   },
   "source": [
    "<h4 style=\"background-color:rgb(244,164,96);padding:10px 10px 10px;border-radius:5px 25px 25px 5px;width:150px\">Tenant Preferred"
   ]
  },
  {
   "cell_type": "code",
   "execution_count": 12,
   "id": "6e459353",
   "metadata": {
    "_kg_hide-input": true,
    "execution": {
     "iopub.execute_input": "2022-09-25T21:48:16.272345Z",
     "iopub.status.busy": "2022-09-25T21:48:16.271528Z",
     "iopub.status.idle": "2022-09-25T21:48:16.321603Z",
     "shell.execute_reply": "2022-09-25T21:48:16.320392Z"
    },
    "papermill": {
     "duration": 0.069144,
     "end_time": "2022-09-25T21:48:16.323985",
     "exception": false,
     "start_time": "2022-09-25T21:48:16.254841",
     "status": "completed"
    },
    "tags": []
   },
   "outputs": [
    {
     "data": {
      "text/html": [
       "<div>                            <div id=\"52895233-25b0-45ac-84b5-4a071eda36c8\" class=\"plotly-graph-div\" style=\"height:525px; width:100%;\"></div>            <script type=\"text/javascript\">                require([\"plotly\"], function(Plotly) {                    window.PLOTLYENV=window.PLOTLYENV || {};                                    if (document.getElementById(\"52895233-25b0-45ac-84b5-4a071eda36c8\")) {                    Plotly.newPlot(                        \"52895233-25b0-45ac-84b5-4a071eda36c8\",                        [{\"domain\":{\"x\":[0.0,1.0],\"y\":[0.0,1.0]},\"hole\":0.4,\"hovertemplate\":\"label=%{label}<br>value=%{value}<extra></extra>\",\"labels\":[\"Bachelors/Family\",\"Bachelors\",\"Family\"],\"legendgroup\":\"\",\"name\":\"\",\"showlegend\":true,\"values\":[3444,830,472],\"type\":\"pie\"}],                        {\"template\":{\"data\":{\"histogram2dcontour\":[{\"type\":\"histogram2dcontour\",\"colorbar\":{\"outlinewidth\":0,\"ticks\":\"\"},\"colorscale\":[[0.0,\"#0d0887\"],[0.1111111111111111,\"#46039f\"],[0.2222222222222222,\"#7201a8\"],[0.3333333333333333,\"#9c179e\"],[0.4444444444444444,\"#bd3786\"],[0.5555555555555556,\"#d8576b\"],[0.6666666666666666,\"#ed7953\"],[0.7777777777777778,\"#fb9f3a\"],[0.8888888888888888,\"#fdca26\"],[1.0,\"#f0f921\"]]}],\"choropleth\":[{\"type\":\"choropleth\",\"colorbar\":{\"outlinewidth\":0,\"ticks\":\"\"}}],\"histogram2d\":[{\"type\":\"histogram2d\",\"colorbar\":{\"outlinewidth\":0,\"ticks\":\"\"},\"colorscale\":[[0.0,\"#0d0887\"],[0.1111111111111111,\"#46039f\"],[0.2222222222222222,\"#7201a8\"],[0.3333333333333333,\"#9c179e\"],[0.4444444444444444,\"#bd3786\"],[0.5555555555555556,\"#d8576b\"],[0.6666666666666666,\"#ed7953\"],[0.7777777777777778,\"#fb9f3a\"],[0.8888888888888888,\"#fdca26\"],[1.0,\"#f0f921\"]]}],\"heatmap\":[{\"type\":\"heatmap\",\"colorbar\":{\"outlinewidth\":0,\"ticks\":\"\"},\"colorscale\":[[0.0,\"#0d0887\"],[0.1111111111111111,\"#46039f\"],[0.2222222222222222,\"#7201a8\"],[0.3333333333333333,\"#9c179e\"],[0.4444444444444444,\"#bd3786\"],[0.5555555555555556,\"#d8576b\"],[0.6666666666666666,\"#ed7953\"],[0.7777777777777778,\"#fb9f3a\"],[0.8888888888888888,\"#fdca26\"],[1.0,\"#f0f921\"]]}],\"heatmapgl\":[{\"type\":\"heatmapgl\",\"colorbar\":{\"outlinewidth\":0,\"ticks\":\"\"},\"colorscale\":[[0.0,\"#0d0887\"],[0.1111111111111111,\"#46039f\"],[0.2222222222222222,\"#7201a8\"],[0.3333333333333333,\"#9c179e\"],[0.4444444444444444,\"#bd3786\"],[0.5555555555555556,\"#d8576b\"],[0.6666666666666666,\"#ed7953\"],[0.7777777777777778,\"#fb9f3a\"],[0.8888888888888888,\"#fdca26\"],[1.0,\"#f0f921\"]]}],\"contourcarpet\":[{\"type\":\"contourcarpet\",\"colorbar\":{\"outlinewidth\":0,\"ticks\":\"\"}}],\"contour\":[{\"type\":\"contour\",\"colorbar\":{\"outlinewidth\":0,\"ticks\":\"\"},\"colorscale\":[[0.0,\"#0d0887\"],[0.1111111111111111,\"#46039f\"],[0.2222222222222222,\"#7201a8\"],[0.3333333333333333,\"#9c179e\"],[0.4444444444444444,\"#bd3786\"],[0.5555555555555556,\"#d8576b\"],[0.6666666666666666,\"#ed7953\"],[0.7777777777777778,\"#fb9f3a\"],[0.8888888888888888,\"#fdca26\"],[1.0,\"#f0f921\"]]}],\"surface\":[{\"type\":\"surface\",\"colorbar\":{\"outlinewidth\":0,\"ticks\":\"\"},\"colorscale\":[[0.0,\"#0d0887\"],[0.1111111111111111,\"#46039f\"],[0.2222222222222222,\"#7201a8\"],[0.3333333333333333,\"#9c179e\"],[0.4444444444444444,\"#bd3786\"],[0.5555555555555556,\"#d8576b\"],[0.6666666666666666,\"#ed7953\"],[0.7777777777777778,\"#fb9f3a\"],[0.8888888888888888,\"#fdca26\"],[1.0,\"#f0f921\"]]}],\"mesh3d\":[{\"type\":\"mesh3d\",\"colorbar\":{\"outlinewidth\":0,\"ticks\":\"\"}}],\"scatter\":[{\"fillpattern\":{\"fillmode\":\"overlay\",\"size\":10,\"solidity\":0.2},\"type\":\"scatter\"}],\"parcoords\":[{\"type\":\"parcoords\",\"line\":{\"colorbar\":{\"outlinewidth\":0,\"ticks\":\"\"}}}],\"scatterpolargl\":[{\"type\":\"scatterpolargl\",\"marker\":{\"colorbar\":{\"outlinewidth\":0,\"ticks\":\"\"}}}],\"bar\":[{\"error_x\":{\"color\":\"#2a3f5f\"},\"error_y\":{\"color\":\"#2a3f5f\"},\"marker\":{\"line\":{\"color\":\"#E5ECF6\",\"width\":0.5},\"pattern\":{\"fillmode\":\"overlay\",\"size\":10,\"solidity\":0.2}},\"type\":\"bar\"}],\"scattergeo\":[{\"type\":\"scattergeo\",\"marker\":{\"colorbar\":{\"outlinewidth\":0,\"ticks\":\"\"}}}],\"scatterpolar\":[{\"type\":\"scatterpolar\",\"marker\":{\"colorbar\":{\"outlinewidth\":0,\"ticks\":\"\"}}}],\"histogram\":[{\"marker\":{\"pattern\":{\"fillmode\":\"overlay\",\"size\":10,\"solidity\":0.2}},\"type\":\"histogram\"}],\"scattergl\":[{\"type\":\"scattergl\",\"marker\":{\"colorbar\":{\"outlinewidth\":0,\"ticks\":\"\"}}}],\"scatter3d\":[{\"type\":\"scatter3d\",\"line\":{\"colorbar\":{\"outlinewidth\":0,\"ticks\":\"\"}},\"marker\":{\"colorbar\":{\"outlinewidth\":0,\"ticks\":\"\"}}}],\"scattermapbox\":[{\"type\":\"scattermapbox\",\"marker\":{\"colorbar\":{\"outlinewidth\":0,\"ticks\":\"\"}}}],\"scatterternary\":[{\"type\":\"scatterternary\",\"marker\":{\"colorbar\":{\"outlinewidth\":0,\"ticks\":\"\"}}}],\"scattercarpet\":[{\"type\":\"scattercarpet\",\"marker\":{\"colorbar\":{\"outlinewidth\":0,\"ticks\":\"\"}}}],\"carpet\":[{\"aaxis\":{\"endlinecolor\":\"#2a3f5f\",\"gridcolor\":\"white\",\"linecolor\":\"white\",\"minorgridcolor\":\"white\",\"startlinecolor\":\"#2a3f5f\"},\"baxis\":{\"endlinecolor\":\"#2a3f5f\",\"gridcolor\":\"white\",\"linecolor\":\"white\",\"minorgridcolor\":\"white\",\"startlinecolor\":\"#2a3f5f\"},\"type\":\"carpet\"}],\"table\":[{\"cells\":{\"fill\":{\"color\":\"#EBF0F8\"},\"line\":{\"color\":\"white\"}},\"header\":{\"fill\":{\"color\":\"#C8D4E3\"},\"line\":{\"color\":\"white\"}},\"type\":\"table\"}],\"barpolar\":[{\"marker\":{\"line\":{\"color\":\"#E5ECF6\",\"width\":0.5},\"pattern\":{\"fillmode\":\"overlay\",\"size\":10,\"solidity\":0.2}},\"type\":\"barpolar\"}],\"pie\":[{\"automargin\":true,\"type\":\"pie\"}]},\"layout\":{\"autotypenumbers\":\"strict\",\"colorway\":[\"#636efa\",\"#EF553B\",\"#00cc96\",\"#ab63fa\",\"#FFA15A\",\"#19d3f3\",\"#FF6692\",\"#B6E880\",\"#FF97FF\",\"#FECB52\"],\"font\":{\"color\":\"#2a3f5f\"},\"hovermode\":\"closest\",\"hoverlabel\":{\"align\":\"left\"},\"paper_bgcolor\":\"white\",\"plot_bgcolor\":\"#E5ECF6\",\"polar\":{\"bgcolor\":\"#E5ECF6\",\"angularaxis\":{\"gridcolor\":\"white\",\"linecolor\":\"white\",\"ticks\":\"\"},\"radialaxis\":{\"gridcolor\":\"white\",\"linecolor\":\"white\",\"ticks\":\"\"}},\"ternary\":{\"bgcolor\":\"#E5ECF6\",\"aaxis\":{\"gridcolor\":\"white\",\"linecolor\":\"white\",\"ticks\":\"\"},\"baxis\":{\"gridcolor\":\"white\",\"linecolor\":\"white\",\"ticks\":\"\"},\"caxis\":{\"gridcolor\":\"white\",\"linecolor\":\"white\",\"ticks\":\"\"}},\"coloraxis\":{\"colorbar\":{\"outlinewidth\":0,\"ticks\":\"\"}},\"colorscale\":{\"sequential\":[[0.0,\"#0d0887\"],[0.1111111111111111,\"#46039f\"],[0.2222222222222222,\"#7201a8\"],[0.3333333333333333,\"#9c179e\"],[0.4444444444444444,\"#bd3786\"],[0.5555555555555556,\"#d8576b\"],[0.6666666666666666,\"#ed7953\"],[0.7777777777777778,\"#fb9f3a\"],[0.8888888888888888,\"#fdca26\"],[1.0,\"#f0f921\"]],\"sequentialminus\":[[0.0,\"#0d0887\"],[0.1111111111111111,\"#46039f\"],[0.2222222222222222,\"#7201a8\"],[0.3333333333333333,\"#9c179e\"],[0.4444444444444444,\"#bd3786\"],[0.5555555555555556,\"#d8576b\"],[0.6666666666666666,\"#ed7953\"],[0.7777777777777778,\"#fb9f3a\"],[0.8888888888888888,\"#fdca26\"],[1.0,\"#f0f921\"]],\"diverging\":[[0,\"#8e0152\"],[0.1,\"#c51b7d\"],[0.2,\"#de77ae\"],[0.3,\"#f1b6da\"],[0.4,\"#fde0ef\"],[0.5,\"#f7f7f7\"],[0.6,\"#e6f5d0\"],[0.7,\"#b8e186\"],[0.8,\"#7fbc41\"],[0.9,\"#4d9221\"],[1,\"#276419\"]]},\"xaxis\":{\"gridcolor\":\"white\",\"linecolor\":\"white\",\"ticks\":\"\",\"title\":{\"standoff\":15},\"zerolinecolor\":\"white\",\"automargin\":true,\"zerolinewidth\":2},\"yaxis\":{\"gridcolor\":\"white\",\"linecolor\":\"white\",\"ticks\":\"\",\"title\":{\"standoff\":15},\"zerolinecolor\":\"white\",\"automargin\":true,\"zerolinewidth\":2},\"scene\":{\"xaxis\":{\"backgroundcolor\":\"#E5ECF6\",\"gridcolor\":\"white\",\"linecolor\":\"white\",\"showbackground\":true,\"ticks\":\"\",\"zerolinecolor\":\"white\",\"gridwidth\":2},\"yaxis\":{\"backgroundcolor\":\"#E5ECF6\",\"gridcolor\":\"white\",\"linecolor\":\"white\",\"showbackground\":true,\"ticks\":\"\",\"zerolinecolor\":\"white\",\"gridwidth\":2},\"zaxis\":{\"backgroundcolor\":\"#E5ECF6\",\"gridcolor\":\"white\",\"linecolor\":\"white\",\"showbackground\":true,\"ticks\":\"\",\"zerolinecolor\":\"white\",\"gridwidth\":2}},\"shapedefaults\":{\"line\":{\"color\":\"#2a3f5f\"}},\"annotationdefaults\":{\"arrowcolor\":\"#2a3f5f\",\"arrowhead\":0,\"arrowwidth\":1},\"geo\":{\"bgcolor\":\"white\",\"landcolor\":\"#E5ECF6\",\"subunitcolor\":\"white\",\"showland\":true,\"showlakes\":true,\"lakecolor\":\"white\"},\"title\":{\"x\":0.05},\"mapbox\":{\"style\":\"light\"}}},\"legend\":{\"tracegroupgap\":0},\"title\":{\"text\":\"Tenant preferred\"}},                        {\"responsive\": true}                    ).then(function(){\n",
       "                            \n",
       "var gd = document.getElementById('52895233-25b0-45ac-84b5-4a071eda36c8');\n",
       "var x = new MutationObserver(function (mutations, observer) {{\n",
       "        var display = window.getComputedStyle(gd).display;\n",
       "        if (!display || display === 'none') {{\n",
       "            console.log([gd, 'removed!']);\n",
       "            Plotly.purge(gd);\n",
       "            observer.disconnect();\n",
       "        }}\n",
       "}});\n",
       "\n",
       "// Listen for the removal of the full notebook cells\n",
       "var notebookContainer = gd.closest('#notebook-container');\n",
       "if (notebookContainer) {{\n",
       "    x.observe(notebookContainer, {childList: true});\n",
       "}}\n",
       "\n",
       "// Listen for the clearing of the current output cell\n",
       "var outputEl = gd.closest('.output');\n",
       "if (outputEl) {{\n",
       "    x.observe(outputEl, {childList: true});\n",
       "}}\n",
       "\n",
       "                        })                };                });            </script>        </div>"
      ]
     },
     "metadata": {},
     "output_type": "display_data"
    }
   ],
   "source": [
    "tp_count = data['Tenant Preferred'].value_counts()\n",
    "px.pie(labels=tp_count.index.tolist(), values=tp_count.tolist(), names=tp_count.index, hole=0.4, title='Tenant preferred')"
   ]
  },
  {
   "cell_type": "markdown",
   "id": "41ed5ce2",
   "metadata": {
    "papermill": {
     "duration": 0.015338,
     "end_time": "2022-09-25T21:48:16.355364",
     "exception": false,
     "start_time": "2022-09-25T21:48:16.340026",
     "status": "completed"
    },
    "tags": []
   },
   "source": [
    "<h4 style=\"background-color:rgb(244,164,96);padding:10px 10px 10px;border-radius:5px 25px 25px 5px;width:330px\">Average Rental Value in Different Cities"
   ]
  },
  {
   "cell_type": "code",
   "execution_count": 13,
   "id": "27ff782e",
   "metadata": {
    "_kg_hide-input": true,
    "execution": {
     "iopub.execute_input": "2022-09-25T21:48:16.389413Z",
     "iopub.status.busy": "2022-09-25T21:48:16.389036Z",
     "iopub.status.idle": "2022-09-25T21:48:16.495449Z",
     "shell.execute_reply": "2022-09-25T21:48:16.494274Z"
    },
    "papermill": {
     "duration": 0.125945,
     "end_time": "2022-09-25T21:48:16.497709",
     "exception": false,
     "start_time": "2022-09-25T21:48:16.371764",
     "status": "completed"
    },
    "tags": []
   },
   "outputs": [
    {
     "data": {
      "text/html": [
       "<div>                            <div id=\"bbe57c1b-f27c-480e-8cab-68b70574007a\" class=\"plotly-graph-div\" style=\"height:525px; width:100%;\"></div>            <script type=\"text/javascript\">                require([\"plotly\"], function(Plotly) {                    window.PLOTLYENV=window.PLOTLYENV || {};                                    if (document.getElementById(\"bbe57c1b-f27c-480e-8cab-68b70574007a\")) {                    Plotly.newPlot(                        \"bbe57c1b-f27c-480e-8cab-68b70574007a\",                        [{\"alignmentgroup\":\"True\",\"hovertemplate\":\"x=%{x}<br>y=%{y}<br>color=%{marker.color}<extra></extra>\",\"legendgroup\":\"\",\"marker\":{\"color\":[11645.173664122138,85321.20473251029,24966.365688487585,29461.98347107438,21614.092031425364,20555.048387096773],\"coloraxis\":\"coloraxis\",\"pattern\":{\"shape\":\"\"}},\"name\":\"\",\"offsetgroup\":\"\",\"orientation\":\"v\",\"showlegend\":false,\"textposition\":\"auto\",\"x\":[\"Kolkata\",\"Mumbai\",\"Bangalore\",\"Delhi\",\"Chennai\",\"Hyderabad\"],\"xaxis\":\"x\",\"y\":[11645.173664122138,85321.20473251029,24966.365688487585,29461.98347107438,21614.092031425364,20555.048387096773],\"yaxis\":\"y\",\"type\":\"bar\"}],                        {\"template\":{\"data\":{\"histogram2dcontour\":[{\"type\":\"histogram2dcontour\",\"colorbar\":{\"outlinewidth\":0,\"ticks\":\"\"},\"colorscale\":[[0.0,\"#0d0887\"],[0.1111111111111111,\"#46039f\"],[0.2222222222222222,\"#7201a8\"],[0.3333333333333333,\"#9c179e\"],[0.4444444444444444,\"#bd3786\"],[0.5555555555555556,\"#d8576b\"],[0.6666666666666666,\"#ed7953\"],[0.7777777777777778,\"#fb9f3a\"],[0.8888888888888888,\"#fdca26\"],[1.0,\"#f0f921\"]]}],\"choropleth\":[{\"type\":\"choropleth\",\"colorbar\":{\"outlinewidth\":0,\"ticks\":\"\"}}],\"histogram2d\":[{\"type\":\"histogram2d\",\"colorbar\":{\"outlinewidth\":0,\"ticks\":\"\"},\"colorscale\":[[0.0,\"#0d0887\"],[0.1111111111111111,\"#46039f\"],[0.2222222222222222,\"#7201a8\"],[0.3333333333333333,\"#9c179e\"],[0.4444444444444444,\"#bd3786\"],[0.5555555555555556,\"#d8576b\"],[0.6666666666666666,\"#ed7953\"],[0.7777777777777778,\"#fb9f3a\"],[0.8888888888888888,\"#fdca26\"],[1.0,\"#f0f921\"]]}],\"heatmap\":[{\"type\":\"heatmap\",\"colorbar\":{\"outlinewidth\":0,\"ticks\":\"\"},\"colorscale\":[[0.0,\"#0d0887\"],[0.1111111111111111,\"#46039f\"],[0.2222222222222222,\"#7201a8\"],[0.3333333333333333,\"#9c179e\"],[0.4444444444444444,\"#bd3786\"],[0.5555555555555556,\"#d8576b\"],[0.6666666666666666,\"#ed7953\"],[0.7777777777777778,\"#fb9f3a\"],[0.8888888888888888,\"#fdca26\"],[1.0,\"#f0f921\"]]}],\"heatmapgl\":[{\"type\":\"heatmapgl\",\"colorbar\":{\"outlinewidth\":0,\"ticks\":\"\"},\"colorscale\":[[0.0,\"#0d0887\"],[0.1111111111111111,\"#46039f\"],[0.2222222222222222,\"#7201a8\"],[0.3333333333333333,\"#9c179e\"],[0.4444444444444444,\"#bd3786\"],[0.5555555555555556,\"#d8576b\"],[0.6666666666666666,\"#ed7953\"],[0.7777777777777778,\"#fb9f3a\"],[0.8888888888888888,\"#fdca26\"],[1.0,\"#f0f921\"]]}],\"contourcarpet\":[{\"type\":\"contourcarpet\",\"colorbar\":{\"outlinewidth\":0,\"ticks\":\"\"}}],\"contour\":[{\"type\":\"contour\",\"colorbar\":{\"outlinewidth\":0,\"ticks\":\"\"},\"colorscale\":[[0.0,\"#0d0887\"],[0.1111111111111111,\"#46039f\"],[0.2222222222222222,\"#7201a8\"],[0.3333333333333333,\"#9c179e\"],[0.4444444444444444,\"#bd3786\"],[0.5555555555555556,\"#d8576b\"],[0.6666666666666666,\"#ed7953\"],[0.7777777777777778,\"#fb9f3a\"],[0.8888888888888888,\"#fdca26\"],[1.0,\"#f0f921\"]]}],\"surface\":[{\"type\":\"surface\",\"colorbar\":{\"outlinewidth\":0,\"ticks\":\"\"},\"colorscale\":[[0.0,\"#0d0887\"],[0.1111111111111111,\"#46039f\"],[0.2222222222222222,\"#7201a8\"],[0.3333333333333333,\"#9c179e\"],[0.4444444444444444,\"#bd3786\"],[0.5555555555555556,\"#d8576b\"],[0.6666666666666666,\"#ed7953\"],[0.7777777777777778,\"#fb9f3a\"],[0.8888888888888888,\"#fdca26\"],[1.0,\"#f0f921\"]]}],\"mesh3d\":[{\"type\":\"mesh3d\",\"colorbar\":{\"outlinewidth\":0,\"ticks\":\"\"}}],\"scatter\":[{\"fillpattern\":{\"fillmode\":\"overlay\",\"size\":10,\"solidity\":0.2},\"type\":\"scatter\"}],\"parcoords\":[{\"type\":\"parcoords\",\"line\":{\"colorbar\":{\"outlinewidth\":0,\"ticks\":\"\"}}}],\"scatterpolargl\":[{\"type\":\"scatterpolargl\",\"marker\":{\"colorbar\":{\"outlinewidth\":0,\"ticks\":\"\"}}}],\"bar\":[{\"error_x\":{\"color\":\"#2a3f5f\"},\"error_y\":{\"color\":\"#2a3f5f\"},\"marker\":{\"line\":{\"color\":\"#E5ECF6\",\"width\":0.5},\"pattern\":{\"fillmode\":\"overlay\",\"size\":10,\"solidity\":0.2}},\"type\":\"bar\"}],\"scattergeo\":[{\"type\":\"scattergeo\",\"marker\":{\"colorbar\":{\"outlinewidth\":0,\"ticks\":\"\"}}}],\"scatterpolar\":[{\"type\":\"scatterpolar\",\"marker\":{\"colorbar\":{\"outlinewidth\":0,\"ticks\":\"\"}}}],\"histogram\":[{\"marker\":{\"pattern\":{\"fillmode\":\"overlay\",\"size\":10,\"solidity\":0.2}},\"type\":\"histogram\"}],\"scattergl\":[{\"type\":\"scattergl\",\"marker\":{\"colorbar\":{\"outlinewidth\":0,\"ticks\":\"\"}}}],\"scatter3d\":[{\"type\":\"scatter3d\",\"line\":{\"colorbar\":{\"outlinewidth\":0,\"ticks\":\"\"}},\"marker\":{\"colorbar\":{\"outlinewidth\":0,\"ticks\":\"\"}}}],\"scattermapbox\":[{\"type\":\"scattermapbox\",\"marker\":{\"colorbar\":{\"outlinewidth\":0,\"ticks\":\"\"}}}],\"scatterternary\":[{\"type\":\"scatterternary\",\"marker\":{\"colorbar\":{\"outlinewidth\":0,\"ticks\":\"\"}}}],\"scattercarpet\":[{\"type\":\"scattercarpet\",\"marker\":{\"colorbar\":{\"outlinewidth\":0,\"ticks\":\"\"}}}],\"carpet\":[{\"aaxis\":{\"endlinecolor\":\"#2a3f5f\",\"gridcolor\":\"white\",\"linecolor\":\"white\",\"minorgridcolor\":\"white\",\"startlinecolor\":\"#2a3f5f\"},\"baxis\":{\"endlinecolor\":\"#2a3f5f\",\"gridcolor\":\"white\",\"linecolor\":\"white\",\"minorgridcolor\":\"white\",\"startlinecolor\":\"#2a3f5f\"},\"type\":\"carpet\"}],\"table\":[{\"cells\":{\"fill\":{\"color\":\"#EBF0F8\"},\"line\":{\"color\":\"white\"}},\"header\":{\"fill\":{\"color\":\"#C8D4E3\"},\"line\":{\"color\":\"white\"}},\"type\":\"table\"}],\"barpolar\":[{\"marker\":{\"line\":{\"color\":\"#E5ECF6\",\"width\":0.5},\"pattern\":{\"fillmode\":\"overlay\",\"size\":10,\"solidity\":0.2}},\"type\":\"barpolar\"}],\"pie\":[{\"automargin\":true,\"type\":\"pie\"}]},\"layout\":{\"autotypenumbers\":\"strict\",\"colorway\":[\"#636efa\",\"#EF553B\",\"#00cc96\",\"#ab63fa\",\"#FFA15A\",\"#19d3f3\",\"#FF6692\",\"#B6E880\",\"#FF97FF\",\"#FECB52\"],\"font\":{\"color\":\"#2a3f5f\"},\"hovermode\":\"closest\",\"hoverlabel\":{\"align\":\"left\"},\"paper_bgcolor\":\"white\",\"plot_bgcolor\":\"#E5ECF6\",\"polar\":{\"bgcolor\":\"#E5ECF6\",\"angularaxis\":{\"gridcolor\":\"white\",\"linecolor\":\"white\",\"ticks\":\"\"},\"radialaxis\":{\"gridcolor\":\"white\",\"linecolor\":\"white\",\"ticks\":\"\"}},\"ternary\":{\"bgcolor\":\"#E5ECF6\",\"aaxis\":{\"gridcolor\":\"white\",\"linecolor\":\"white\",\"ticks\":\"\"},\"baxis\":{\"gridcolor\":\"white\",\"linecolor\":\"white\",\"ticks\":\"\"},\"caxis\":{\"gridcolor\":\"white\",\"linecolor\":\"white\",\"ticks\":\"\"}},\"coloraxis\":{\"colorbar\":{\"outlinewidth\":0,\"ticks\":\"\"}},\"colorscale\":{\"sequential\":[[0.0,\"#0d0887\"],[0.1111111111111111,\"#46039f\"],[0.2222222222222222,\"#7201a8\"],[0.3333333333333333,\"#9c179e\"],[0.4444444444444444,\"#bd3786\"],[0.5555555555555556,\"#d8576b\"],[0.6666666666666666,\"#ed7953\"],[0.7777777777777778,\"#fb9f3a\"],[0.8888888888888888,\"#fdca26\"],[1.0,\"#f0f921\"]],\"sequentialminus\":[[0.0,\"#0d0887\"],[0.1111111111111111,\"#46039f\"],[0.2222222222222222,\"#7201a8\"],[0.3333333333333333,\"#9c179e\"],[0.4444444444444444,\"#bd3786\"],[0.5555555555555556,\"#d8576b\"],[0.6666666666666666,\"#ed7953\"],[0.7777777777777778,\"#fb9f3a\"],[0.8888888888888888,\"#fdca26\"],[1.0,\"#f0f921\"]],\"diverging\":[[0,\"#8e0152\"],[0.1,\"#c51b7d\"],[0.2,\"#de77ae\"],[0.3,\"#f1b6da\"],[0.4,\"#fde0ef\"],[0.5,\"#f7f7f7\"],[0.6,\"#e6f5d0\"],[0.7,\"#b8e186\"],[0.8,\"#7fbc41\"],[0.9,\"#4d9221\"],[1,\"#276419\"]]},\"xaxis\":{\"gridcolor\":\"white\",\"linecolor\":\"white\",\"ticks\":\"\",\"title\":{\"standoff\":15},\"zerolinecolor\":\"white\",\"automargin\":true,\"zerolinewidth\":2},\"yaxis\":{\"gridcolor\":\"white\",\"linecolor\":\"white\",\"ticks\":\"\",\"title\":{\"standoff\":15},\"zerolinecolor\":\"white\",\"automargin\":true,\"zerolinewidth\":2},\"scene\":{\"xaxis\":{\"backgroundcolor\":\"#E5ECF6\",\"gridcolor\":\"white\",\"linecolor\":\"white\",\"showbackground\":true,\"ticks\":\"\",\"zerolinecolor\":\"white\",\"gridwidth\":2},\"yaxis\":{\"backgroundcolor\":\"#E5ECF6\",\"gridcolor\":\"white\",\"linecolor\":\"white\",\"showbackground\":true,\"ticks\":\"\",\"zerolinecolor\":\"white\",\"gridwidth\":2},\"zaxis\":{\"backgroundcolor\":\"#E5ECF6\",\"gridcolor\":\"white\",\"linecolor\":\"white\",\"showbackground\":true,\"ticks\":\"\",\"zerolinecolor\":\"white\",\"gridwidth\":2}},\"shapedefaults\":{\"line\":{\"color\":\"#2a3f5f\"}},\"annotationdefaults\":{\"arrowcolor\":\"#2a3f5f\",\"arrowhead\":0,\"arrowwidth\":1},\"geo\":{\"bgcolor\":\"white\",\"landcolor\":\"#E5ECF6\",\"subunitcolor\":\"white\",\"showland\":true,\"showlakes\":true,\"lakecolor\":\"white\"},\"title\":{\"x\":0.05},\"mapbox\":{\"style\":\"light\"}}},\"xaxis\":{\"anchor\":\"y\",\"domain\":[0.0,1.0],\"title\":{\"text\":\"x\"}},\"yaxis\":{\"anchor\":\"x\",\"domain\":[0.0,1.0],\"title\":{\"text\":\"y\"}},\"coloraxis\":{\"colorbar\":{\"title\":{\"text\":\"color\"}},\"colorscale\":[[0.0,\"rgb(36, 86, 104)\"],[0.16666666666666666,\"rgb(15, 114, 121)\"],[0.3333333333333333,\"rgb(13, 143, 129)\"],[0.5,\"rgb(57, 171, 126)\"],[0.6666666666666666,\"rgb(110, 197, 116)\"],[0.8333333333333334,\"rgb(169, 220, 103)\"],[1.0,\"rgb(237, 239, 93)\"]]},\"legend\":{\"tracegroupgap\":0},\"margin\":{\"t\":60},\"barmode\":\"relative\"},                        {\"responsive\": true}                    ).then(function(){\n",
       "                            \n",
       "var gd = document.getElementById('bbe57c1b-f27c-480e-8cab-68b70574007a');\n",
       "var x = new MutationObserver(function (mutations, observer) {{\n",
       "        var display = window.getComputedStyle(gd).display;\n",
       "        if (!display || display === 'none') {{\n",
       "            console.log([gd, 'removed!']);\n",
       "            Plotly.purge(gd);\n",
       "            observer.disconnect();\n",
       "        }}\n",
       "}});\n",
       "\n",
       "// Listen for the removal of the full notebook cells\n",
       "var notebookContainer = gd.closest('#notebook-container');\n",
       "if (notebookContainer) {{\n",
       "    x.observe(notebookContainer, {childList: true});\n",
       "}}\n",
       "\n",
       "// Listen for the clearing of the current output cell\n",
       "var outputEl = gd.closest('.output');\n",
       "if (outputEl) {{\n",
       "    x.observe(outputEl, {childList: true});\n",
       "}}\n",
       "\n",
       "                        })                };                });            </script>        </div>"
      ]
     },
     "metadata": {},
     "output_type": "display_data"
    }
   ],
   "source": [
    "C = data['City'].unique().tolist()\n",
    "avg_rent = [data['Rent'].loc[data['City']==i].sum()/data['Rent'].loc[data['City']==i].shape[0] for i in C]\n",
    "\n",
    "px.bar(x=C, y=avg_rent, color=avg_rent, color_continuous_scale='Aggrnyl')"
   ]
  },
  {
   "cell_type": "markdown",
   "id": "306043ca",
   "metadata": {
    "papermill": {
     "duration": 0.015647,
     "end_time": "2022-09-25T21:48:16.529295",
     "exception": false,
     "start_time": "2022-09-25T21:48:16.513648",
     "status": "completed"
    },
    "tags": []
   },
   "source": [
    "<h4 style=\"background-color:rgb(244,164,96);padding:10px 10px 10px;border-radius:5px 25px 25px 5px;width:330px\">Distribution of the Size of the Houses"
   ]
  },
  {
   "cell_type": "code",
   "execution_count": 14,
   "id": "3ebd0867",
   "metadata": {
    "_kg_hide-input": true,
    "execution": {
     "iopub.execute_input": "2022-09-25T21:48:16.562578Z",
     "iopub.status.busy": "2022-09-25T21:48:16.562165Z",
     "iopub.status.idle": "2022-09-25T21:48:16.637962Z",
     "shell.execute_reply": "2022-09-25T21:48:16.636683Z"
    },
    "papermill": {
     "duration": 0.095331,
     "end_time": "2022-09-25T21:48:16.640429",
     "exception": false,
     "start_time": "2022-09-25T21:48:16.545098",
     "status": "completed"
    },
    "tags": []
   },
   "outputs": [
    {
     "data": {
      "text/html": [
       "<div>                            <div id=\"bd0cb2ad-842d-443e-b58d-999039efe5dd\" class=\"plotly-graph-div\" style=\"height:525px; width:100%;\"></div>            <script type=\"text/javascript\">                require([\"plotly\"], function(Plotly) {                    window.PLOTLYENV=window.PLOTLYENV || {};                                    if (document.getElementById(\"bd0cb2ad-842d-443e-b58d-999039efe5dd\")) {                    Plotly.newPlot(                        \"bd0cb2ad-842d-443e-b58d-999039efe5dd\",                        [{\"alignmentgroup\":\"True\",\"bingroup\":\"x\",\"hovertemplate\":\"Size=%{x}<br>count=%{y}<extra></extra>\",\"legendgroup\":\"\",\"marker\":{\"color\":\"crimson\",\"pattern\":{\"shape\":\"\"}},\"name\":\"\",\"offsetgroup\":\"\",\"orientation\":\"v\",\"showlegend\":false,\"x\":[1100,800,1000,800,850,600,700,250,800,1000,1200,400,250,375,900,1286,600,800,2000,660,650,400,300,1600,400,1000,355,1000,800,850,350,900,550,500,1100,850,800,630,900,270,630,1500,600,700,300,1300,400,650,2000,1068,150,450,800,1000,900,600,1200,1200,650,720,300,1200,700,2000,250,1100,300,600,800,680,680,850,850,700,1500,950,500,450,700,500,1800,500,480,1000,800,435,700,800,450,550,800,550,600,500,1000,300,1200,500,1200,900,1300,1600,1450,1100,950,600,700,750,1000,220,300,300,700,800,1600,1000,20,400,200,840,300,550,300,800,740,1300,650,490,250,250,450,300,750,250,751,900,400,1000,1000,1500,750,1200,700,700,1000,1200,550,800,280,1100,950,250,1000,1000,650,700,700,1000,900,700,700,450,120,800,1220,1100,700,800,670,1300,190,700,240,850,950,450,800,600,800,1100,800,2200,950,550,1800,1000,600,750,685,44,1200,500,1110,1000,392,700,750,1500,900,710,400,700,1000,250,500,450,1400,500,700,1200,450,500,400,1000,750,450,1000,500,1600,550,550,200,650,1000,680,720,500,800,160,1200,700,1000,1250,1600,700,450,839,230,1800,800,500,620,650,550,450,1350,600,1200,700,800,600,900,750,1250,1000,600,650,450,800,1000,1000,1400,600,723,320,900,1400,2160,650,800,800,500,1700,130,505,4000,1250,700,900,650,750,450,350,480,900,200,1100,800,1000,800,200,1190,900,1500,600,800,800,900,350,800,1600,1012,1200,700,1000,800,500,1200,450,950,350,450,550,300,1250,700,812,550,500,320,600,420,1100,220,700,1200,800,300,650,600,350,500,400,1750,1600,300,1100,830,600,500,900,1250,700,850,550,550,1200,1100,650,1050,960,650,550,500,450,850,300,1000,500,756,1000,150,800,700,420,800,288,900,850,350,600,1600,986,1330,1300,800,800,850,322,800,1500,3500,957,850,900,600,350,800,320,800,700,1200,750,1200,450,1430,450,800,400,650,450,600,1200,700,300,1200,1300,400,1320,1000,700,800,900,1700,600,850,550,650,800,475,200,400,500,550,800,1000,400,300,450,450,1100,450,1100,650,780,1100,800,500,400,450,550,600,200,500,450,1050,1000,1200,1100,220,350,1100,800,950,1200,700,500,570,650,1200,960,1250,120,950,600,750,1200,400,600,700,850,500,650,800,830,600,800,1200,1000,750,800,1200,750,1500,300,800,450,1200,500,900,460,530,650,700,400,1000,400,700,850,558,800,900,1600,150,1600,1000,700,175,450,1700,425,900,400,600,721,1150,2210,675,1320,250,720,1880,850,1050,320,750,450,1100,640,650,800,1600,460,1650,480,500,490,620,518,700,777,650,1800,2308,425,890,270,850,888,650,275,700,375,424,400,450,2079,586,610,488,1200,722,450,500,680,1150,830,550,470,410,710,750,800,435,500,800,540,1050,700,1600,600,300,550,932,450,600,424,560,450,3000,600,1400,630,1400,320,1000,1150,751,570,696,1600,2500,1150,1500,950,750,715,1337,737,750,760,750,650,1000,570,900,760,1500,1150,1100,1000,720,365,2000,400,1330,850,2000,700,900,650,2600,680,950,1783,1330,565,450,710,1514,1080,700,890,1250,300,720,825,500,750,750,360,1545,400,750,432,780,695,375,1095,475,790,661,700,420,750,950,1880,1350,330,750,925,1150,1105,1050,410,460,600,570,720,500,1460,415,1400,270,585,1755,550,1300,1200,600,700,385,500,850,900,400,600,750,628,1330,1064,1200,2200,630,650,845,1915,900,807,1100,1600,790,380,650,800,830,410,428,550,630,550,450,750,800,1050,850,2500,2000,1330,950,435,1300,650,1550,380,1454,860,680,433,710,700,550,2700,350,490,1225,1286,425,550,1224,950,425,1000,710,1300,433,650,1650,600,850,305,490,690,635,1100,250,1200,750,1100,700,1150,1379,500,1400,390,935,535,1250,3700,350,1350,1550,1100,950,400,700,850,900,1208,1150,1600,700,3200,330,225,1050,225,463,1900,1500,1000,450,700,355,1325,950,600,905,1500,455,850,1100,430,650,795,800,700,450,575,650,200,1200,656,1600,950,719,1100,3064,650,1450,720,670,1350,925,1450,1550,420,650,700,3400,935,980,2800,700,720,750,700,1000,3000,413,1755,1850,890,1200,1100,420,630,1705,1300,1355,450,1350,825,550,430,320,1100,1460,1250,1000,710,1350,400,1000,1500,500,2000,225,650,670,610,400,340,471,550,630,500,400,1000,1528,650,500,850,550,430,1030,250,500,1750,985,1050,700,1200,1000,550,806,1400,470,475,583,475,900,500,806,400,650,550,390,994,520,575,2750,470,2500,1100,480,750,2424,724,600,1076,800,1300,500,700,700,2170,225,485,225,478,1200,620,280,385,704,710,525,390,755,700,1000,2000,650,470,450,625,700,600,600,1100,370,950,825,650,750,900,805,742,550,745,800,1265,1800,325,902,1233,750,600,500,600,950,680,400,2120,1350,1600,430,1937,700,780,1300,1350,750,1400,2000,850,500,900,750,1100,5000,596,680,1950,1350,510,500,375,500,1500,1000,1260,475,620,490,710,720,770,1600,500,350,1000,3900,1000,660,600,900,750,1000,1500,1200,1200,280,1000,1800,694,3250,1740,750,1000,500,2000,550,270,960,1200,710,472,1000,800,650,1300,600,750,890,421,1300,350,800,650,650,650,680,800,1250,475,600,450,400,985,1450,650,805,650,515,1000,1050,777,831,1233,250,900,753,1800,670,2800,1197,880,1000,935,751,200,2500,500,430,1088,330,400,1200,700,1000,750,450,640,1190,850,330,685,400,500,550,2500,1100,650,1400,1050,850,550,750,1350,800,2650,975,1325,700,700,850,305,850,724,650,650,700,785,1250,1016,380,475,444,640,320,1100,1500,650,508,2500,720,750,430,623,1358,1000,1100,1255,450,650,955,700,1915,2308,1250,625,2200,870,1300,750,750,550,1250,1400,1330,1000,770,800,1691,550,800,615,663,400,625,1432,425,649,905,882,1200,736,1710,225,720,555,415,649,1000,1300,1065,854,1200,500,906,1800,500,450,1130,495,407,1092,610,500,750,750,850,350,300,695,415,450,850,805,700,1800,669,325,600,725,750,1050,600,1000,1110,650,1100,1100,1110,999,1000,2200,1256,750,889,750,385,1454,480,660,1600,434,1121,620,937,470,410,850,1500,888,380,360,565,2000,1358,661,450,1300,600,900,379,805,650,500,480,550,1600,1400,1500,1050,920,450,440,932,270,379,582,800,444,428,1880,888,490,937,710,1617,836,1200,950,460,585,550,375,700,750,2000,2046,750,730,750,229,910,1648,1100,560,850,450,820,750,410,490,700,3000,560,650,520,850,777,771,400,600,390,3200,450,500,410,160,750,585,1300,350,490,650,225,850,385,800,2500,1526,300,1800,800,890,700,465,900,1073,450,1350,800,600,650,550,840,1121,650,575,475,830,1337,420,310,1800,967,505,275,640,1500,850,900,430,1649,1100,1200,680,600,1560,4500,771,800,800,1425,1750,475,2000,1375,2800,650,600,649,950,225,1000,330,1200,1270,920,630,670,450,265,600,670,650,422,955,1100,300,900,785,1350,900,400,800,895,625,720,750,1663,660,700,377,650,650,2080,700,430,650,890,965,630,2100,1100,730,1380,1100,450,500,1100,868,750,540,2100,450,1600,560,500,305,970,480,720,950,3200,1450,774,450,1000,340,430,722,1152,641,810,800,875,700,420,1400,758,2880,480,550,900,400,760,2800,400,1962,1100,800,590,600,2500,670,960,1500,500,1120,2729,3354,800,1000,1040,1403,600,2608,850,400,1000,1350,800,350,900,2000,700,600,700,600,1400,600,770,900,500,1100,500,1260,1750,600,450,800,400,600,400,900,1200,1045,1021,1200,1000,1280,450,450,600,800,500,1680,2000,500,500,800,1100,1200,500,1155,440,1040,2900,1200,1600,3150,1000,1200,400,950,530,300,1000,450,600,1100,400,700,1105,1430,850,650,1200,600,400,2800,1100,900,1300,1000,1000,900,800,750,1100,1200,1000,1000,2000,550,1130,600,100,500,600,1200,850,600,600,700,400,400,1000,1200,1603,1200,420,1200,1771,1200,700,610,800,550,750,700,600,360,800,3700,1200,480,1000,800,900,1450,400,700,1000,450,773,1200,1000,150,865,600,800,200,600,1840,800,1600,600,1100,950,905,1200,1000,1080,600,1000,600,1100,300,1200,800,535,800,1159,2650,50,700,550,700,600,600,1000,1100,750,2900,990,1300,550,1360,600,1200,1050,840,1050,3250,500,900,1300,600,900,1100,1100,600,1250,415,1200,1200,1000,1300,1150,450,600,1000,1900,1700,1100,500,1757,300,500,1200,800,1281,1450,600,980,1500,1800,400,600,1100,1100,3500,1100,700,600,700,250,1200,1450,1221,1250,700,700,200,1200,600,600,1800,900,1000,500,1800,416,600,400,1200,1600,500,500,1800,900,550,600,1800,976,350,1100,500,600,1100,1150,850,600,900,300,1130,1200,1000,1700,1100,300,600,1000,1200,500,1050,350,1000,600,150,1400,1387,1350,1020,600,400,550,1400,1050,800,1100,1500,800,800,1200,450,1425,720,700,1100,1645,3276,500,600,600,1893,450,650,400,1296,1000,600,600,4800,1000,800,455,575,1066,850,1550,1000,800,450,1350,1350,600,2150,1080,1450,700,1200,2110,500,850,400,800,600,450,2080,2500,650,1100,1025,1100,350,1050,600,800,700,750,1600,1180,1400,750,580,350,1100,1900,1105,1080,1281,600,850,1200,900,1250,800,500,600,904,750,1252,1200,440,1600,1200,950,800,1000,2770,800,400,144,600,2200,1005,1200,1180,900,500,1100,1100,400,1250,600,780,1274,1200,400,500,1100,700,600,1200,900,1850,900,1050,1200,600,1480,400,4500,600,1100,600,1100,1320,500,600,650,300,1000,1200,650,600,400,1000,1100,1300,600,800,1115,1060,1278,1500,1000,4105,800,500,700,1055,1325,950,450,1200,400,400,600,500,400,1100,650,600,800,460,1380,500,825,700,1110,800,810,1150,700,300,1400,450,1603,1500,200,1500,600,150,750,1300,1900,300,700,1325,894,1100,600,500,1000,850,400,2400,1200,500,550,450,430,2430,500,600,805,950,1000,1350,1500,1000,800,1000,800,1550,1000,800,700,500,500,900,1200,1000,1680,1100,1200,900,1600,1475,300,400,550,400,500,1200,1300,2100,800,800,4341,1300,400,800,1000,400,1100,1200,600,1700,846,1100,700,110,900,420,800,1500,900,1600,5700,625,1760,600,1200,300,900,450,1050,580,600,550,1115,300,1200,900,1400,400,900,500,1360,1110,2400,1700,980,600,200,1300,750,850,600,3100,660,600,250,1200,630,840,500,1680,775,1000,900,500,550,1250,850,150,445,500,750,2000,500,730,750,600,2710,1190,435,750,1800,1200,600,450,1100,700,650,1768,1600,400,1200,500,700,2500,500,500,500,1280,200,750,900,1200,800,500,1000,850,900,600,600,600,1250,2000,532,1000,150,500,600,1100,1500,500,600,1200,1100,1550,1050,500,1500,1150,2000,110,500,1465,940,850,990,750,500,1430,600,900,1100,900,600,1000,1150,1250,1000,500,2000,850,990,850,1000,650,400,1000,1350,600,4000,950,777,1200,1600,1500,570,1800,1100,400,750,1400,1789,650,1200,460,500,1080,2000,1100,1025,650,800,2800,1100,1300,2000,2500,600,630,550,1025,500,1286,800,900,1618,500,450,850,1374,1600,400,1500,800,1580,700,700,550,450,4550,400,650,700,1333,1500,425,300,650,800,1200,500,1000,600,600,1875,1000,1300,350,900,200,700,1000,1700,600,650,750,1750,1950,1065,600,600,500,600,600,900,500,600,1710,600,1100,920,750,300,1660,400,300,300,2000,1200,300,700,850,700,455,1000,600,250,400,1200,500,350,1100,1650,1000,500,700,1200,600,925,2400,1500,600,435,650,700,890,600,1250,1350,2600,440,1150,450,1150,600,980,1850,625,100,1200,1200,1080,700,800,1880,1305,600,950,1188,500,875,2100,1200,2390,600,1150,1788,1250,600,1600,1520,550,1100,1100,1100,400,300,500,1100,1000,850,1020,1250,1400,600,200,300,400,450,1180,1460,1464,700,680,2750,800,600,1200,3200,1800,500,1200,750,700,1000,800,200,1800,400,600,1550,650,850,2000,180,140,450,2500,720,400,450,250,3000,550,450,2500,800,100,400,750,400,1100,450,850,600,750,500,350,623,2400,75,450,445,300,1670,550,350,650,70,100,800,60,2000,600,450,2200,600,2000,800,170,150,650,1250,600,2100,450,100,650,48,550,240,700,48,100,1901,50,1300,145,800,1100,450,300,1040,25,900,1100,380,450,550,180,1650,250,400,900,1900,892,400,100,60,80,450,520,350,600,950,450,450,850,200,3000,1500,700,530,800,45,900,450,650,900,900,120,600,615,225,800,400,800,60,1000,75,800,200,800,80,900,1125,900,1100,400,713,700,1000,54,200,200,800,1000,500,300,900,240,650,950,500,500,450,2800,150,400,100,400,900,1350,500,1700,400,110,1200,50,100,1000,63,1800,1440,55,1500,400,100,500,100,455,80,450,400,300,700,600,800,950,450,450,68,850,1000,600,65,1700,1800,1000,900,2300,75,200,200,200,450,750,400,84,90,90,500,75,512,1500,446,1100,125,1800,1300,2000,1200,125,730,160,1000,450,75,2000,2400,1800,1800,2200,2200,900,75,75,1800,160,2700,1050,1800,2700,499,450,60,2200,130,650,100,45,600,800,1500,30,55,900,1000,360,450,900,1100,700,400,950,3000,950,1100,497,100,70,55,300,400,500,650,630,450,500,200,95,272,800,50,400,450,1800,1800,2000,2700,2700,1800,2700,1800,1800,1200,600,350,100,1800,900,1150,1400,500,300,1800,500,500,80,1000,1600,1800,400,900,480,180,1000,1120,1800,1200,550,1400,1600,650,120,450,520,850,850,585,1600,950,120,500,200,550,650,2800,50,550,90,2925,150,450,750,975,106,750,80,96,500,1550,1000,400,450,1000,450,100,550,400,60,900,700,500,2000,400,1500,70,60,200,1650,1150,1800,4000,900,700,900,400,2700,2000,450,400,500,450,350,272,545,84,600,75,165,1100,500,150,70,250,70,300,1800,400,1250,480,84,84,600,600,720,75,1000,900,2200,900,550,450,470,125,400,2600,1500,80,1100,1000,800,50,1000,550,450,670,700,125,1872,650,550,84,90,1000,65,75,250,900,900,650,900,800,410,1500,2800,1800,1400,1600,1200,1150,110,300,750,450,410,800,120,650,400,810,700,1125,600,1300,1450,110,3500,4000,2500,3000,3500,240,1250,1000,900,900,1250,650,3200,900,1250,60,90,55,50,400,680,756,500,900,2000,40,100,950,200,900,750,1400,100,100,100,1000,400,70,450,900,42,400,900,1500,70,450,900,500,400,150,450,540,400,450,700,1450,1000,550,900,300,1100,600,450,550,1000,1250,1950,1750,25,700,1800,1000,200,1700,70,1700,450,1350,2550,650,650,1250,1250,1000,500,500,1550,3800,1150,2000,30,50,1205,1450,200,350,700,400,700,1000,450,1200,1200,900,84,200,1300,1300,200,300,550,950,750,950,350,2000,180,60,950,1400,200,450,600,350,300,95,550,900,25,325,80,77,60,100,1300,500,500,1200,250,700,1050,500,1100,1000,2400,3000,650,1000,700,1200,1710,600,1080,1300,1027,1350,950,1300,600,1428,920,600,810,1200,550,600,850,2117,900,1000,500,800,1550,1500,1700,700,400,450,500,770,150,850,1100,650,550,1000,250,790,600,700,550,500,1800,1550,1462,970,2300,700,674,750,1000,1030,1540,1800,1100,985,1200,1200,900,800,800,1500,680,800,875,880,1500,950,850,700,2000,450,400,350,1650,800,600,800,1600,700,800,2120,560,420,1000,1330,930,1900,1200,350,1000,1210,750,1150,800,930,2800,800,850,650,770,1800,1100,950,1250,400,575,1234,870,1162,2200,500,900,600,600,1600,2400,1600,400,1000,600,750,700,2200,500,700,1480,1700,830,1425,1550,200,1200,800,1261,425,940,2300,700,2400,1145,750,1250,900,800,800,900,600,250,910,1350,450,600,3600,800,850,1000,900,2400,400,1900,900,805,1200,800,1158,400,450,960,1400,970,1000,900,800,1100,800,800,898,800,600,2000,870,1100,650,1100,1250,1145,780,680,860,600,750,800,570,1150,350,894,600,900,550,717,660,700,800,1070,1000,1500,900,1700,900,805,750,1000,1500,3200,1700,1000,2036,610,1100,900,840,965,800,700,600,650,320,700,850,550,1400,1300,1125,780,2200,2500,1300,619,700,2100,2000,700,2000,600,550,300,800,850,450,500,115,800,600,800,1725,1330,2064,700,900,1066,700,900,700,950,850,600,750,850,1650,960,1200,650,800,1350,560,250,685,1021,1200,1557,550,800,917,960,1000,1000,579,800,1100,635,1700,600,2500,1920,850,1850,1375,700,700,675,900,1020,3000,800,600,890,1700,2000,800,1002,1225,610,1200,850,500,778,850,800,1200,750,550,1567,650,1150,4500,900,1450,850,550,600,1200,1450,560,1113,1600,550,1200,900,800,1200,1000,1100,700,650,1500,1175,750,1010,1050,1060,900,1000,450,1600,1760,618,1220,580,1651,705,700,1700,901,1100,1120,1300,1350,1340,250,700,650,490,700,580,1400,850,850,900,780,1246,300,900,350,900,1099,1530,2000,1095,780,1300,900,450,400,900,935,450,1020,1280,450,1120,1000,1000,750,1000,1100,3000,650,1500,500,700,450,700,1250,700,650,850,750,1780,980,700,600,800,1500,1402,1500,1300,1484,630,1150,800,600,2200,950,700,450,150,360,750,1065,650,1140,1525,1450,1200,1100,700,600,1200,2100,950,800,900,805,800,2300,1200,1200,4000,1500,500,1050,2550,650,800,1000,900,1475,360,1600,550,1800,1000,700,500,1132,1400,3300,1400,800,80,1000,1020,500,900,600,1100,1200,650,900,100,1100,585,740,550,786,1100,1500,1440,700,450,1200,1785,1050,700,450,803,1800,985,2880,850,1100,1100,1500,1975,400,914,1000,1170,350,1120,1100,500,1435,200,1444,350,800,1503,1200,900,625,860,960,550,1000,520,1500,966,1400,1300,1062,1850,600,1000,1065,950,740,700,880,890,1100,700,1155,1500,550,1000,550,2900,2100,1000,800,900,800,1015,1700,850,1260,800,550,800,1200,1570,570,900,700,500,1000,700,690,100,1200,1200,800,1157,780,2792,500,750,1800,500,1153,500,1000,510,730,950,730,1400,900,506,749,520,850,1000,600,1900,600,500,550,1200,1107,550,1150,600,1235,600,400,1400,800,700,900,400,850,1415,281,600,6000,1050,390,950,1500,200,926,1700,1068,1800,590,1400,550,520,900,700,400,2280,826,1050,700,800,850,502,925,500,950,930,950,800,950,1100,750,1000,950,800,500,1500,550,400,550,730,1000,975,1800,745,900,600,600,450,1030,833,1000,840,750,950,550,1125,700,1100,700,1250,1100,475,530,1050,830,809,900,700,1150,750,920,1050,1800,1000,1062,800,450,900,2240,500,750,1400,1200,1424,450,2700,805,434,1000,595,685,1075,1100,950,1500,1100,1100,1000,800,1500,1250,650,1650,2317,950,1700,1300,805,1109,300,700,950,1290,950,400,2000,939,1200,1800,1200,1200,1750,300,650,950,1610,900,550,700,800,580,950,700,600,200,600,550,600,1680,1100,600,820,1125,973,780,400,4000,1000,3500,350,800,700,550,2100,1700,1420,950,780,800,500,1000,750,1200,1152,843,900,1250,650,2600,700,720,3500,3000,1144,1750,1450,590,900,800,1000,1650,700,1280,700,980,900,450,1200,650,1903,650,450,900,550,750,1000,1050,650,400,1075,2000,720,1000,500,900,900,900,1000,1300,1383,800,1500,1350,2000,1200,1912,500,950,1000,1600,900,1265,1060,1050,1500,890,700,1146,700,800,640,909,2400,3800,400,886,1570,900,400,1600,1000,850,750,750,2000,1270,2000,1250,1000,1050,800,1625,1535,850,3800,4500,1100,3200,647,1798,1700,930,150,1200,1250,900,500,900,1100,1500,500,1300,300,800,1400,500,750,1200,1350,1400,450,2061,100,1100,1650,1500,1140,990,1700,1200,850,900,800,1000,1020,300,1800,919,25,1050,200,450,1000,1250,1900,1500,2395,1800,700,1700,1200,1600,745,2210,1450,1400,2000,1815,1000,1000,1200,2430,140,1200,1100,800,1500,1200,1350,2300,1300,1000,1210,1050,1600,300,300,1010,1850,1300,1100,2200,500,2290,1900,1600,800,1600,500,1500,650,3300,1200,800,1200,1000,1600,1200,1100,1250,1100,1600,1000,455,1473,4050,400,1300,2520,500,200,1200,1950,500,500,1150,242,720,1800,450,130,690,1000,1500,1150,1783,900,1725,680,550,1290,1450,1300,1450,1496,1850,1600,3500,1850,1210,1400,950,878,875,300,1800,1956,800,1175,1080,1955,950,800,1090,1450,1070,60,3133,900,60,600,750,900,1800,470,720,450,600,1100,1300,1500,1200,3000,2000,800,1000,1200,400,1250,700,1100,2050,1428,1700,1140,1000,1160,3000,450,1540,1000,1417,2100,550,1600,1200,500,1300,600,1565,350,1100,1200,2000,2200,1400,1950,130,1300,1675,1135,1800,1400,3698,950,650,100,950,1000,900,1800,1000,1800,1000,450,1771,1150,1000,1050,1500,750,1100,800,150,750,600,1080,1100,750,2405,1248,1110,2300,1000,800,3115,500,950,1374,1300,1150,450,927,1500,1200,1200,2800,562,1500,1950,1360,1800,950,780,500,1050,600,1800,1800,1900,1100,200,1400,1200,1600,1150,130,3800,1720,500,1200,2400,800,1300,1400,650,103,950,1500,1550,140,1800,2550,500,800,800,1300,600,1000,1000,500,8000,1100,1100,200,1800,190,1350,1200,400,1200,1400,1300,400,650,500,875,850,1730,1500,1600,900,925,1500,1600,1300,1200,133,950,1200,950,1095,400,2210,1450,192,80,1315,1600,1450,1900,2600,450,1000,100,1100,1200,1400,2000,1070,1450,1230,1000,1200,150,850,1300,4761,1250,100,1550,1300,1600,1200,1200,1970,650,1000,1500,1250,1940,700,700,100,300,980,800,1250,1000,1000,1800,2000,1500,1050,1100,1000,700,750,450,1000,1500,1550,1450,650,650,1500,900,1645,600,1250,1300,1000,1500,1150,110,103,1050,60,1170,167,500,600,600,200,600,900,800,1000,3200,1400,550,540,400,1225,1430,1200,1197,1150,500,1200,500,1600,1100,1220,1500,500,850,1000,100,1140,1100,1400,1350,180,1250,1300,840,1200,700,2700,1100,1000,1000,1600,1550,600,500,1100,1000,1000,1800,1300,1100,950,1000,1200,2800,550,1000,800,600,1800,500,1000,1100,1450,550,933,1100,1030,1150,850,1000,1400,2700,1700,1742,1000,1440,1600,1838,1200,200,1050,400,1350,1960,800,1000,1100,1480,700,1500,1000,900,1250,1100,1300,1275,1265,700,1150,850,1285,2000,1000,700,1100,1000,800,1400,1350,1100,840,1325,3500,1250,1500,1050,1200,1500,100,1742,650,2235,1000,175,160,1200,1283,600,3455,1500,540,500,1100,1350,400,120,3050,400,800,90,500,1150,1700,1000,1100,1360,400,1150,700,100,800,500,900,1500,1600,1300,1305,400,600,1130,7000,890,1606,650,600,1350,1050,1600,1840,1100,800,800,1100,2000,750,1650,600,2352,2671,550,1700,1050,2400,800,1000,1100,160,1230,500,300,1156,1100,1250,900,650,350,1500,100,900,990,1700,900,1700,1050,1550,1050,1600,1250,700,1100,850,1700,1800,520,800,67,500,1060,900,1650,800,3400,1100,1492,1100,2990,2780,1100,90,760,600,940,1742,2000,800,1800,1350,1685,1250,1800,853,2000,800,1200,1100,550,4761,920,1400,2310,650,700,300,100,1050,1125,1600,2400,650,1000,900,1250,1020,1270,600,500,800,1500,1200,1900,950,300,1250,1200,1100,1100,1500,1400,1742,1250,650,1545,700,1600,1700,920,1115,1000,1200,500,1850,600,200,1500,2100,1250,800,1450,1960,1965,1834,1834,1150,1800,1000,1200,2000,700,400,1250,500,1550,1000,1200,1200,1200,1800,1100,1650,225,550,350,600,500,1100,1205,1200,540,1800,500,1200,1180,1000,675,1450,100,500,100,2300,300,300,800,1280,110,920,2000,770,3200,1500,1100,450,4500,1300,1000,900,400,10,450,1300,1000,1300,350,1560,1800,600,350,1100,1100,1170,550,1000,1100,3789,2700,2170,1160,800,1200,1422,1200,1200,1080,1050,1100,700,1150,1124,650,1125,850,1140,1350,600,1050,1100,1200,1450,1000,300,4200,1000,2300,900,650,850,1300,950,150,900,50,1200,1350,400,800,1450,2405,2500,1000,1200,3250,1600,980,1600,1000,40,850,840,600,650,1100,214,1700,1500,600,950,900,500,1450,1250,1500,1500,855,1040,1350,1000,2000,1750,1500,1000],\"xaxis\":\"x\",\"yaxis\":\"y\",\"type\":\"histogram\"}],                        {\"template\":{\"data\":{\"histogram2dcontour\":[{\"type\":\"histogram2dcontour\",\"colorbar\":{\"outlinewidth\":0,\"ticks\":\"\"},\"colorscale\":[[0.0,\"#0d0887\"],[0.1111111111111111,\"#46039f\"],[0.2222222222222222,\"#7201a8\"],[0.3333333333333333,\"#9c179e\"],[0.4444444444444444,\"#bd3786\"],[0.5555555555555556,\"#d8576b\"],[0.6666666666666666,\"#ed7953\"],[0.7777777777777778,\"#fb9f3a\"],[0.8888888888888888,\"#fdca26\"],[1.0,\"#f0f921\"]]}],\"choropleth\":[{\"type\":\"choropleth\",\"colorbar\":{\"outlinewidth\":0,\"ticks\":\"\"}}],\"histogram2d\":[{\"type\":\"histogram2d\",\"colorbar\":{\"outlinewidth\":0,\"ticks\":\"\"},\"colorscale\":[[0.0,\"#0d0887\"],[0.1111111111111111,\"#46039f\"],[0.2222222222222222,\"#7201a8\"],[0.3333333333333333,\"#9c179e\"],[0.4444444444444444,\"#bd3786\"],[0.5555555555555556,\"#d8576b\"],[0.6666666666666666,\"#ed7953\"],[0.7777777777777778,\"#fb9f3a\"],[0.8888888888888888,\"#fdca26\"],[1.0,\"#f0f921\"]]}],\"heatmap\":[{\"type\":\"heatmap\",\"colorbar\":{\"outlinewidth\":0,\"ticks\":\"\"},\"colorscale\":[[0.0,\"#0d0887\"],[0.1111111111111111,\"#46039f\"],[0.2222222222222222,\"#7201a8\"],[0.3333333333333333,\"#9c179e\"],[0.4444444444444444,\"#bd3786\"],[0.5555555555555556,\"#d8576b\"],[0.6666666666666666,\"#ed7953\"],[0.7777777777777778,\"#fb9f3a\"],[0.8888888888888888,\"#fdca26\"],[1.0,\"#f0f921\"]]}],\"heatmapgl\":[{\"type\":\"heatmapgl\",\"colorbar\":{\"outlinewidth\":0,\"ticks\":\"\"},\"colorscale\":[[0.0,\"#0d0887\"],[0.1111111111111111,\"#46039f\"],[0.2222222222222222,\"#7201a8\"],[0.3333333333333333,\"#9c179e\"],[0.4444444444444444,\"#bd3786\"],[0.5555555555555556,\"#d8576b\"],[0.6666666666666666,\"#ed7953\"],[0.7777777777777778,\"#fb9f3a\"],[0.8888888888888888,\"#fdca26\"],[1.0,\"#f0f921\"]]}],\"contourcarpet\":[{\"type\":\"contourcarpet\",\"colorbar\":{\"outlinewidth\":0,\"ticks\":\"\"}}],\"contour\":[{\"type\":\"contour\",\"colorbar\":{\"outlinewidth\":0,\"ticks\":\"\"},\"colorscale\":[[0.0,\"#0d0887\"],[0.1111111111111111,\"#46039f\"],[0.2222222222222222,\"#7201a8\"],[0.3333333333333333,\"#9c179e\"],[0.4444444444444444,\"#bd3786\"],[0.5555555555555556,\"#d8576b\"],[0.6666666666666666,\"#ed7953\"],[0.7777777777777778,\"#fb9f3a\"],[0.8888888888888888,\"#fdca26\"],[1.0,\"#f0f921\"]]}],\"surface\":[{\"type\":\"surface\",\"colorbar\":{\"outlinewidth\":0,\"ticks\":\"\"},\"colorscale\":[[0.0,\"#0d0887\"],[0.1111111111111111,\"#46039f\"],[0.2222222222222222,\"#7201a8\"],[0.3333333333333333,\"#9c179e\"],[0.4444444444444444,\"#bd3786\"],[0.5555555555555556,\"#d8576b\"],[0.6666666666666666,\"#ed7953\"],[0.7777777777777778,\"#fb9f3a\"],[0.8888888888888888,\"#fdca26\"],[1.0,\"#f0f921\"]]}],\"mesh3d\":[{\"type\":\"mesh3d\",\"colorbar\":{\"outlinewidth\":0,\"ticks\":\"\"}}],\"scatter\":[{\"fillpattern\":{\"fillmode\":\"overlay\",\"size\":10,\"solidity\":0.2},\"type\":\"scatter\"}],\"parcoords\":[{\"type\":\"parcoords\",\"line\":{\"colorbar\":{\"outlinewidth\":0,\"ticks\":\"\"}}}],\"scatterpolargl\":[{\"type\":\"scatterpolargl\",\"marker\":{\"colorbar\":{\"outlinewidth\":0,\"ticks\":\"\"}}}],\"bar\":[{\"error_x\":{\"color\":\"#2a3f5f\"},\"error_y\":{\"color\":\"#2a3f5f\"},\"marker\":{\"line\":{\"color\":\"#E5ECF6\",\"width\":0.5},\"pattern\":{\"fillmode\":\"overlay\",\"size\":10,\"solidity\":0.2}},\"type\":\"bar\"}],\"scattergeo\":[{\"type\":\"scattergeo\",\"marker\":{\"colorbar\":{\"outlinewidth\":0,\"ticks\":\"\"}}}],\"scatterpolar\":[{\"type\":\"scatterpolar\",\"marker\":{\"colorbar\":{\"outlinewidth\":0,\"ticks\":\"\"}}}],\"histogram\":[{\"marker\":{\"pattern\":{\"fillmode\":\"overlay\",\"size\":10,\"solidity\":0.2}},\"type\":\"histogram\"}],\"scattergl\":[{\"type\":\"scattergl\",\"marker\":{\"colorbar\":{\"outlinewidth\":0,\"ticks\":\"\"}}}],\"scatter3d\":[{\"type\":\"scatter3d\",\"line\":{\"colorbar\":{\"outlinewidth\":0,\"ticks\":\"\"}},\"marker\":{\"colorbar\":{\"outlinewidth\":0,\"ticks\":\"\"}}}],\"scattermapbox\":[{\"type\":\"scattermapbox\",\"marker\":{\"colorbar\":{\"outlinewidth\":0,\"ticks\":\"\"}}}],\"scatterternary\":[{\"type\":\"scatterternary\",\"marker\":{\"colorbar\":{\"outlinewidth\":0,\"ticks\":\"\"}}}],\"scattercarpet\":[{\"type\":\"scattercarpet\",\"marker\":{\"colorbar\":{\"outlinewidth\":0,\"ticks\":\"\"}}}],\"carpet\":[{\"aaxis\":{\"endlinecolor\":\"#2a3f5f\",\"gridcolor\":\"white\",\"linecolor\":\"white\",\"minorgridcolor\":\"white\",\"startlinecolor\":\"#2a3f5f\"},\"baxis\":{\"endlinecolor\":\"#2a3f5f\",\"gridcolor\":\"white\",\"linecolor\":\"white\",\"minorgridcolor\":\"white\",\"startlinecolor\":\"#2a3f5f\"},\"type\":\"carpet\"}],\"table\":[{\"cells\":{\"fill\":{\"color\":\"#EBF0F8\"},\"line\":{\"color\":\"white\"}},\"header\":{\"fill\":{\"color\":\"#C8D4E3\"},\"line\":{\"color\":\"white\"}},\"type\":\"table\"}],\"barpolar\":[{\"marker\":{\"line\":{\"color\":\"#E5ECF6\",\"width\":0.5},\"pattern\":{\"fillmode\":\"overlay\",\"size\":10,\"solidity\":0.2}},\"type\":\"barpolar\"}],\"pie\":[{\"automargin\":true,\"type\":\"pie\"}]},\"layout\":{\"autotypenumbers\":\"strict\",\"colorway\":[\"#636efa\",\"#EF553B\",\"#00cc96\",\"#ab63fa\",\"#FFA15A\",\"#19d3f3\",\"#FF6692\",\"#B6E880\",\"#FF97FF\",\"#FECB52\"],\"font\":{\"color\":\"#2a3f5f\"},\"hovermode\":\"closest\",\"hoverlabel\":{\"align\":\"left\"},\"paper_bgcolor\":\"white\",\"plot_bgcolor\":\"#E5ECF6\",\"polar\":{\"bgcolor\":\"#E5ECF6\",\"angularaxis\":{\"gridcolor\":\"white\",\"linecolor\":\"white\",\"ticks\":\"\"},\"radialaxis\":{\"gridcolor\":\"white\",\"linecolor\":\"white\",\"ticks\":\"\"}},\"ternary\":{\"bgcolor\":\"#E5ECF6\",\"aaxis\":{\"gridcolor\":\"white\",\"linecolor\":\"white\",\"ticks\":\"\"},\"baxis\":{\"gridcolor\":\"white\",\"linecolor\":\"white\",\"ticks\":\"\"},\"caxis\":{\"gridcolor\":\"white\",\"linecolor\":\"white\",\"ticks\":\"\"}},\"coloraxis\":{\"colorbar\":{\"outlinewidth\":0,\"ticks\":\"\"}},\"colorscale\":{\"sequential\":[[0.0,\"#0d0887\"],[0.1111111111111111,\"#46039f\"],[0.2222222222222222,\"#7201a8\"],[0.3333333333333333,\"#9c179e\"],[0.4444444444444444,\"#bd3786\"],[0.5555555555555556,\"#d8576b\"],[0.6666666666666666,\"#ed7953\"],[0.7777777777777778,\"#fb9f3a\"],[0.8888888888888888,\"#fdca26\"],[1.0,\"#f0f921\"]],\"sequentialminus\":[[0.0,\"#0d0887\"],[0.1111111111111111,\"#46039f\"],[0.2222222222222222,\"#7201a8\"],[0.3333333333333333,\"#9c179e\"],[0.4444444444444444,\"#bd3786\"],[0.5555555555555556,\"#d8576b\"],[0.6666666666666666,\"#ed7953\"],[0.7777777777777778,\"#fb9f3a\"],[0.8888888888888888,\"#fdca26\"],[1.0,\"#f0f921\"]],\"diverging\":[[0,\"#8e0152\"],[0.1,\"#c51b7d\"],[0.2,\"#de77ae\"],[0.3,\"#f1b6da\"],[0.4,\"#fde0ef\"],[0.5,\"#f7f7f7\"],[0.6,\"#e6f5d0\"],[0.7,\"#b8e186\"],[0.8,\"#7fbc41\"],[0.9,\"#4d9221\"],[1,\"#276419\"]]},\"xaxis\":{\"gridcolor\":\"white\",\"linecolor\":\"white\",\"ticks\":\"\",\"title\":{\"standoff\":15},\"zerolinecolor\":\"white\",\"automargin\":true,\"zerolinewidth\":2},\"yaxis\":{\"gridcolor\":\"white\",\"linecolor\":\"white\",\"ticks\":\"\",\"title\":{\"standoff\":15},\"zerolinecolor\":\"white\",\"automargin\":true,\"zerolinewidth\":2},\"scene\":{\"xaxis\":{\"backgroundcolor\":\"#E5ECF6\",\"gridcolor\":\"white\",\"linecolor\":\"white\",\"showbackground\":true,\"ticks\":\"\",\"zerolinecolor\":\"white\",\"gridwidth\":2},\"yaxis\":{\"backgroundcolor\":\"#E5ECF6\",\"gridcolor\":\"white\",\"linecolor\":\"white\",\"showbackground\":true,\"ticks\":\"\",\"zerolinecolor\":\"white\",\"gridwidth\":2},\"zaxis\":{\"backgroundcolor\":\"#E5ECF6\",\"gridcolor\":\"white\",\"linecolor\":\"white\",\"showbackground\":true,\"ticks\":\"\",\"zerolinecolor\":\"white\",\"gridwidth\":2}},\"shapedefaults\":{\"line\":{\"color\":\"#2a3f5f\"}},\"annotationdefaults\":{\"arrowcolor\":\"#2a3f5f\",\"arrowhead\":0,\"arrowwidth\":1},\"geo\":{\"bgcolor\":\"white\",\"landcolor\":\"#E5ECF6\",\"subunitcolor\":\"white\",\"showland\":true,\"showlakes\":true,\"lakecolor\":\"white\"},\"title\":{\"x\":0.05},\"mapbox\":{\"style\":\"light\"}}},\"xaxis\":{\"anchor\":\"y\",\"domain\":[0.0,1.0],\"title\":{\"text\":\"Size\"}},\"yaxis\":{\"anchor\":\"x\",\"domain\":[0.0,1.0],\"title\":{\"text\":\"count\"}},\"legend\":{\"tracegroupgap\":0},\"margin\":{\"t\":60},\"barmode\":\"relative\"},                        {\"responsive\": true}                    ).then(function(){\n",
       "                            \n",
       "var gd = document.getElementById('bd0cb2ad-842d-443e-b58d-999039efe5dd');\n",
       "var x = new MutationObserver(function (mutations, observer) {{\n",
       "        var display = window.getComputedStyle(gd).display;\n",
       "        if (!display || display === 'none') {{\n",
       "            console.log([gd, 'removed!']);\n",
       "            Plotly.purge(gd);\n",
       "            observer.disconnect();\n",
       "        }}\n",
       "}});\n",
       "\n",
       "// Listen for the removal of the full notebook cells\n",
       "var notebookContainer = gd.closest('#notebook-container');\n",
       "if (notebookContainer) {{\n",
       "    x.observe(notebookContainer, {childList: true});\n",
       "}}\n",
       "\n",
       "// Listen for the clearing of the current output cell\n",
       "var outputEl = gd.closest('.output');\n",
       "if (outputEl) {{\n",
       "    x.observe(outputEl, {childList: true});\n",
       "}}\n",
       "\n",
       "                        })                };                });            </script>        </div>"
      ]
     },
     "metadata": {},
     "output_type": "display_data"
    }
   ],
   "source": [
    "px.histogram(data, x=\"Size\", color_discrete_sequence=['crimson'])"
   ]
  },
  {
   "cell_type": "markdown",
   "id": "722be193",
   "metadata": {
    "papermill": {
     "duration": 0.015995,
     "end_time": "2022-09-25T21:48:16.672938",
     "exception": false,
     "start_time": "2022-09-25T21:48:16.656943",
     "status": "completed"
    },
    "tags": []
   },
   "source": [
    "<h4 style=\"background-color:rgb(244,164,96);padding:10px 10px 10px;border-radius:5px 25px 25px 5px;width:280px\">Distribution of the Rental Values"
   ]
  },
  {
   "cell_type": "code",
   "execution_count": 15,
   "id": "d5dd91c0",
   "metadata": {
    "_kg_hide-input": true,
    "execution": {
     "iopub.execute_input": "2022-09-25T21:48:16.706771Z",
     "iopub.status.busy": "2022-09-25T21:48:16.706404Z",
     "iopub.status.idle": "2022-09-25T21:48:16.762797Z",
     "shell.execute_reply": "2022-09-25T21:48:16.761757Z"
    },
    "papermill": {
     "duration": 0.075966,
     "end_time": "2022-09-25T21:48:16.765118",
     "exception": false,
     "start_time": "2022-09-25T21:48:16.689152",
     "status": "completed"
    },
    "tags": []
   },
   "outputs": [
    {
     "data": {
      "text/html": [
       "<div>                            <div id=\"62bb8039-a0de-4412-a767-1b6726e79c00\" class=\"plotly-graph-div\" style=\"height:525px; width:100%;\"></div>            <script type=\"text/javascript\">                require([\"plotly\"], function(Plotly) {                    window.PLOTLYENV=window.PLOTLYENV || {};                                    if (document.getElementById(\"62bb8039-a0de-4412-a767-1b6726e79c00\")) {                    Plotly.newPlot(                        \"62bb8039-a0de-4412-a767-1b6726e79c00\",                        [{\"alignmentgroup\":\"True\",\"bingroup\":\"x\",\"hovertemplate\":\"Rent=%{x}<br>count=%{y}<extra></extra>\",\"legendgroup\":\"\",\"marker\":{\"color\":\"darkblue\",\"pattern\":{\"shape\":\"\"}},\"name\":\"\",\"offsetgroup\":\"\",\"orientation\":\"v\",\"showlegend\":false,\"x\":[10000,20000,17000,10000,7500,7000,10000,5000,26000,10000,25000,5000,6500,5500,8500,40000,6000,10000,11000,6000,7900,9000,4000,6500,8000,7000,5300,6000,8500,12500,7500,15000,6000,5000,22000,15000,12500,7000,21000,10000,7200,12000,5000,8500,6000,10000,4600,12000,30000,15000,7500,7500,5000,15000,11000,7000,6000,6000,7000,8500,5000,30000,10000,30000,3500,8000,5000,7500,6500,7500,7500,16000,16000,6500,40000,12500,5500,5000,6500,8000,14500,8200,15000,20000,6700,10000,7000,22000,6500,8500,18000,12000,9000,6000,20000,5000,12000,10000,18000,15000,22000,35000,21000,25000,180000,6000,14000,8000,8000,6000,8000,6000,20000,12000,15000,14000,5000,7000,3900,14000,6300,13000,6800,8000,10000,18000,8000,8000,4700,4700,4500,6000,16000,4700,14000,9000,5000,17500,8500,15000,12500,13000,8000,8000,8000,7000,2200,8000,5500,20000,7000,3500,5000,20000,7000,10000,7000,12000,14500,6000,9500,10000,3500,9000,40000,16500,8000,12000,6500,40000,5000,9000,7000,18000,9000,5500,7500,4000,10500,15000,15000,50000,12000,11000,12000,8000,18000,8000,7000,6500,13000,9000,10000,12000,5000,6000,5200,15000,9000,24000,5500,10000,15000,4700,5000,5000,15000,5000,6000,18000,8000,13000,7500,12000,11000,6000,20000,7000,30000,7500,6500,3000,5200,25000,12500,8500,3500,7000,3000,14000,18000,3500,16000,35000,21000,4500,15000,4500,5500,8500,5000,8500,9000,7500,7000,15000,7000,10000,7000,3200,6000,12000,6000,10000,12000,8000,5300,5000,8500,22000,7000,25000,7000,15000,6000,8000,40000,6000,15000,6500,8000,5500,9000,6000,15000,30000,30000,5000,15000,6500,4500,7000,6500,17500,10000,1500,25000,12000,7500,7000,3500,10000,14000,15000,6500,10000,10500,10000,5000,9000,20000,35000,15000,20000,12000,8000,3000,20000,9000,13000,7000,9000,9000,10000,15000,7000,8000,8000,5000,14000,5000,5000,12000,3200,8500,16000,14000,8000,7000,8000,3000,3800,6500,20000,30000,8000,14000,7200,7000,7000,7500,8500,12000,8500,9500,7500,12000,20000,8500,20000,6000,5500,7000,7000,6500,10000,5200,13000,7000,12000,15000,5000,8000,8000,5000,10000,12000,8000,21000,5000,9000,8000,7000,35000,15000,6200,9900,7000,5000,6500,40000,40000,12000,6500,10000,15000,5000,7000,6000,15000,10000,22000,8500,35000,7000,8500,6000,35000,6000,8000,5000,6000,15000,9000,5000,8000,35000,5500,35000,11000,10000,6500,6000,36125,6800,8500,5000,6500,6500,4500,6000,10000,12000,12000,12000,9000,5000,6000,5500,5500,8500,5000,23000,5500,8500,22000,5500,7000,5000,5000,6500,8000,5500,6000,5500,10000,10000,10000,12000,5200,4000,30000,5146,12000,7000,8500,7000,9500,8000,15000,22500,12500,34000,14000,9500,7000,20000,6500,7500,6500,9500,1800,7500,10000,15000,7000,6000,14000,22000,18000,10000,6000,10000,10000,5000,10000,7000,10000,6000,18000,8000,8000,13000,20000,6000,12000,10000,14000,10000,10500,6000,12000,14000,3700,40000,25000,2200,3300,5000,60000,6000,7000,5000,11000,10000,22000,65000,7500,45000,5000,12000,25000,18000,25000,25000,70000,45000,75000,14000,60000,160000,300000,22000,130000,33000,32000,30000,49000,28000,33500,85000,35000,270000,400000,21000,150000,22000,100000,60000,8000,20000,20000,25000,14000,19411,23000,190000,32000,68000,30000,110000,44000,20000,25000,40000,43000,44000,75000,32000,16000,65000,45000,57000,27000,57000,55000,40000,95000,85000,300000,80000,13000,28000,89000,28000,13000,24000,38000,32000,350000,40000,150000,45000,170000,30000,210000,75000,47000,14000,55000,120000,300000,70000,150000,62000,42000,130000,170000,20000,41000,65000,50000,85000,50000,30000,120000,60000,110000,84500,80000,50000,40000,34000,220000,25000,150000,85000,180000,40000,50000,38000,310000,50000,65000,210000,150000,32000,26000,60000,190000,100000,35000,68000,150000,18000,55000,65000,80000,53000,80000,18000,250000,17500,43000,13500,18000,75000,18000,160000,32000,55000,47000,35000,15000,50000,25500,350000,55000,25000,50000,65000,50000,65000,160000,25000,32000,21000,20000,55000,32000,150000,30000,150000,27000,47000,150000,27000,160000,100000,45002,48000,18000,7500,50000,55000,26000,17000,40000,43000,140000,140000,120000,400000,21000,40000,40000,230000,20000,60000,35000,300000,6500,15000,38000,35000,32000,16000,33000,8500,60000,20000,38000,100000,65000,80000,85000,600000,150000,130000,55000,23000,95000,40000,180000,25000,140000,55000,46000,22000,55100,65000,33000,320000,33000,25000,300000,100000,33000,35000,130000,80000,10000,92500,57000,170000,29999,42000,330000,24000,35000,14000,45000,36000,53500,80000,7500,140000,95000,130000,45000,110000,120000,60000,120000,40000,50000,36000,150000,230000,25000,190000,61000,70000,42000,27000,60000,85000,75000,200000,170000,180000,55000,600000,18000,19000,150000,18500,35000,200000,150000,70000,35000,45000,30000,50000,50000,42000,19500,90000,60000,55000,40000,40000,36000,45000,100000,42000,45000,40000,50000,11000,50000,34000,93000,69999,48000,55000,1000000,40000,130000,75000,23000,200000,55000,80000,220000,40000,35000,33003,450000,65000,45000,280000,55000,56000,55000,28000,150000,300000,50000,180000,190000,8000,75000,83000,32000,39000,150000,190000,160000,25000,90000,95000,30000,18500,18000,75000,150000,100000,170000,45000,200000,20000,85000,130000,40000,250000,15000,40000,48000,15000,28000,25000,34000,75000,45000,35000,32000,17000,230000,35000,8500,80000,55000,25000,40000,15500,45000,180000,51000,60000,36000,180000,75000,8000,50000,100000,16500,4500,34000,32000,50000,24000,62000,100000,21000,27000,10000,90000,8000,75000,230000,15000,260000,62000,43500,62000,400000,77500,30000,110000,20000,150000,55000,70000,65000,310000,18000,48000,10000,32000,32000,36000,22000,5500,15000,40000,28000,11000,40000,45000,180000,160000,36000,59000,40000,40000,72000,40000,16000,50000,24000,65000,33000,27000,52000,95000,68000,48000,32000,42000,60000,51500,130000,25000,85000,98000,100000,65000,23000,40000,45000,40000,23500,250000,110000,150000,22000,150000,75000,41000,150000,150000,53000,140000,200000,65000,48000,75000,39000,70000,1200000,25000,45000,190000,140000,35000,60000,15000,39000,190000,84000,68000,26000,42000,35000,44000,60000,45000,250000,65000,20000,75000,500000,140000,45000,9400,100000,65000,230000,180000,180000,120000,20000,130000,400000,75000,350000,100000,55000,70000,30000,330000,75000,14000,130000,40000,46000,27000,95000,94000,40000,150000,30000,95000,130000,14000,100000,35000,57000,45000,11000,50000,35000,100000,130000,52000,28000,18000,30000,45000,130000,58000,65000,24000,54500,70000,67000,75000,45000,98000,16000,95000,40000,300000,80000,380000,160000,44000,200000,65000,50000,6000,280000,46000,35000,75000,20000,25000,110000,29500,53000,85000,26000,33000,180000,70000,17000,37000,27000,35500,24000,250000,180000,18500,200000,70000,55000,24000,55000,150000,50000,300000,90100,57000,40000,80000,95000,14000,50000,43000,55000,35000,33000,47000,75000,45000,36000,40000,40000,32000,17000,77000,290000,35000,40000,250000,47000,50000,32000,8000,240000,85000,65000,75000,26500,45000,95000,38000,260000,300000,180000,40000,300000,85000,110000,40000,45000,52000,90000,140000,150000,65000,50000,54000,180000,60000,65000,35000,43000,20000,57000,130000,25000,56000,55000,18000,100000,76000,270000,45000,39000,12500,35000,55000,90000,250000,25000,90000,120000,55000,70000,300000,25000,35000,120000,27000,25000,150000,32000,40000,52000,80000,55000,30000,20000,85000,40000,21000,43000,58000,130000,260000,46000,6500,21000,46000,60000,65000,15000,130000,90000,62000,160000,80000,80000,55000,100000,200000,100000,79500,84500,100000,13000,100000,35000,72000,180000,26000,72000,8000,130000,52000,13000,45000,180000,63000,7500,30000,28500,100000,270000,38000,26000,70000,41000,27000,53000,65000,85000,6000,43000,65000,280000,98000,330000,65000,85000,40000,23000,55000,15000,52000,13000,95000,25000,21000,360000,60000,19000,140000,30000,130000,80000,85000,65000,33000,36000,22000,17000,55000,66000,140000,260000,32000,45000,50000,18500,51000,140000,80000,30000,85000,15000,50000,60000,23000,14500,40000,650000,80000,55000,12000,45000,90000,43000,22000,20000,26000,850000,34999,35000,50000,16000,55000,39000,100000,25000,25000,49500,21000,110000,21000,46700,400000,280000,18000,80000,88000,90000,38000,20000,140000,78000,21000,95000,90000,34000,55000,52000,74999,75000,45000,22000,32000,34000,170000,23000,20000,350000,90000,55000,15000,22000,60000,49000,34000,24000,270000,69000,120000,32000,24000,100000,600000,45000,80000,37000,210000,190000,25000,210000,200000,310000,26000,27000,26000,60000,12000,180000,30000,100000,140000,70000,20000,22000,32000,20000,50000,29000,45000,6500,55000,69999,18500,50000,45000,85000,85000,25000,75000,190000,20000,30000,75000,350000,70000,32000,22000,35000,47000,400000,31000,60000,58000,85000,45000,7500,250000,150000,80000,75000,66000,45000,22000,65000,55000,55000,36000,230000,22000,170000,34000,45000,14000,75000,7000,55000,55000,700000,140000,42000,27000,60000,17000,30000,45000,90000,25000,70000,90000,110000,20000,35000,80000,54500,350000,45000,38000,90000,22000,70000,380000,50000,680000,140000,40000,32000,78000,280000,45000,65000,65000,35000,90000,250000,70000,10500,13000,17000,21000,10000,61500,13000,7500,17000,25000,10500,8000,9500,50000,13000,13500,13000,15000,15000,7000,25000,17000,7500,15000,7500,25000,54000,14500,4500,10500,5500,16000,7000,12500,10000,18000,28000,12000,13000,50000,7000,30000,10000,15000,7500,45000,65000,12000,7000,9000,23000,30000,8000,16000,7500,20000,110000,30000,20000,84000,17000,15000,6000,16000,9500,8000,15000,12000,10000,16000,11000,11000,20000,24000,14500,4000,12000,8500,9000,180000,10500,12000,32000,15000,21000,12000,7000,15000,11400,15000,19000,27000,48000,7000,15000,10000,7000,9000,8000,35000,16000,4500,16000,10000,8000,6000,13000,10000,55000,15000,12000,9000,36000,37000,6000,17000,8000,7500,9500,13500,9000,7000,12000,100000,12000,8500,18000,11000,18000,17000,6500,11500,22000,13000,20000,10000,15000,8000,12000,20000,20000,8000,11000,40000,10000,30000,8000,15000,12000,12000,20000,13000,17500,8000,8500,7500,22000,6000,32900,15000,10000,10000,21000,63000,6900,14000,14500,6500,13000,8000,18000,20000,14000,50000,14500,15000,11500,15000,12000,18000,15000,12000,25000,150000,10000,8000,40000,12000,16000,23000,25000,7000,17500,10000,39000,22000,18000,23000,20000,10000,15000,17000,56000,43000,25000,9000,31000,6000,5000,16000,20000,28000,18000,12000,20000,25000,35000,7000,7500,14000,20000,380000,21000,15000,5500,10000,7000,11500,22000,19000,15000,10500,12000,7000,15000,23000,6500,29000,12000,10000,12500,32000,8000,10500,6000,16000,45000,6000,5000,14000,20000,11000,5500,55000,15000,8500,15000,12000,7500,16000,20000,14500,6000,14000,7000,27500,18000,10000,31000,15000,11000,4500,10000,10000,9000,16000,5000,10000,15000,3500,16000,17000,30000,12000,9000,6000,20000,30000,20000,15000,20000,25000,9000,17000,16500,7000,30000,8500,8000,20000,30000,120000,7000,10000,5000,30000,6500,10000,18000,30000,20000,16500,15000,130000,15000,70000,22000,9750,23000,12000,60000,11000,12000,11000,19000,10000,7500,55000,11000,50000,13500,16500,120000,7000,10000,7000,18000,11000,9000,60000,3500000,12500,16000,30000,17000,8000,16500,13000,12000,17000,15000,35000,13000,12000,10000,9000,6000,8900,40000,24000,18500,16000,8000,15000,27000,17000,50000,14000,5000,8000,20000,15000,20000,11000,8500,22500,15000,11000,11000,9000,120000,15000,7000,5000,18000,45000,21000,10000,15000,11000,7500,22000,17000,6000,20000,18000,13000,38000,36000,7500,9000,18000,6500,6000,18000,12000,75000,25000,20000,8000,11000,65000,6000,160000,11000,20000,5500,12000,21500,9300,6000,13000,7000,14000,14000,6000,12500,7000,13000,20000,24000,6000,15000,20000,17000,35000,22000,18000,120000,10000,8000,9500,9000,31000,14000,7000,24000,8000,22000,12000,5000,6000,30000,12000,15000,14000,22000,40000,12000,15000,9500,15000,15000,10000,15000,7000,10000,26969,8000,52000,30000,6500,22000,10000,6000,13000,18000,30000,10000,15000,70000,19000,20000,9000,5000,27500,16000,12000,75000,20000,7000,11000,13500,17000,55000,13000,11000,16000,23500,8500,30000,22000,15000,15000,10000,12500,24000,32000,19000,9000,5500,15000,14000,27000,14000,43000,30000,50000,15000,25000,25500,6000,5000,10000,15000,5000,17000,14000,35000,35000,16000,130000,35000,10000,12000,10500,8000,15000,25000,9000,30000,22000,14000,12000,10000,25000,25000,16000,60000,7000,21000,250000,19000,42500,11000,18000,4300,9000,7000,15000,4800,15000,18000,22500,9500,12000,9000,25000,9000,11000,12500,21000,17681,28000,30000,25000,13000,8000,35000,8000,10000,11500,140000,6000,11000,4000,14000,24000,11000,10000,62000,12000,18000,17500,6500,16000,30000,28000,6500,9000,8500,20000,26000,8000,8500,12500,8000,52000,18000,15000,12000,100000,6000,12000,6500,13500,10000,8500,32000,42000,7500,16000,5000,14000,60000,8500,10000,8500,15000,9500,25000,14000,20000,10000,10000,13000,13000,24000,10000,8000,6000,21000,25000,8500,13000,5000,7500,13900,15000,30000,13000,7700,25000,17000,39000,18000,15000,28000,17500,75000,14000,9000,20000,12000,12000,24000,12000,10000,24000,9000,12000,11000,15000,5500,18000,42000,18000,15000,6000,30000,12000,10000,9500,16000,9500,6500,13500,25000,9500,190000,90000,24000,15000,22000,34000,12500,28000,12000,8000,7500,34000,32000,14500,16000,7500,7500,19500,75000,16500,14500,16000,8000,280000,21000,30000,65000,180000,10000,12000,9000,22000,10000,48000,11000,11000,40000,10000,6500,18000,22000,28000,6200,110000,5500,50000,12000,11500,16000,11000,150000,9000,6000,12000,16000,35000,9000,8000,13500,14000,14000,4700,17000,11000,12000,30000,12000,21000,6000,18500,4750,15000,17600,35000,8000,7000,15000,30000,100000,18000,8000,9000,6000,7500,15000,10000,14000,7000,60000,6000,17000,15000,8200,8500,20000,8000,20000,11500,30000,22000,6500,6500,16000,24000,15000,18000,8500,4000,5000,22000,12000,9000,7500,30000,14000,9250,13000,12000,12000,10000,60000,35000,12000,14000,8000,11000,20000,12500,35000,26000,85000,14000,22000,7000,16000,11000,20000,60000,5000,4000,15000,18000,12000,8500,11000,42000,25000,8500,12500,18000,6000,9000,54000,22000,120000,7000,28000,55000,19000,11000,18000,70000,12000,18000,30000,10000,6000,4500,8000,20000,17500,22000,17000,22000,24000,12000,4500,5000,6000,11000,20000,35000,24000,10000,16000,100000,14000,7500,16000,65000,18000,8000,11000,8000,13000,30000,14000,20000,80000,9500,14000,65000,18500,40000,90000,3500,25000,9000,90000,22000,12000,11000,20000,260000,11000,10000,60000,350000,16000,16000,12000,8000,14000,14900,15000,10000,40000,9000,7000,13500,95000,20000,7500,9000,80000,50000,13000,12000,16000,13000,29000,18000,8500,27000,18000,11500,80000,15500,55000,20000,35000,38000,16000,50000,9500,90000,10000,25000,30000,12000,16500,4500,30000,12000,23000,70000,5500,35000,9000,22000,35000,12000,6000,22000,5000,20500,7500,5500,25000,13000,5000,40000,12500,6000,15500,75000,36000,13000,45000,2000,28000,9000,12000,13000,11000,35000,10000,20000,25000,8000,150000,36000,12000,8500,17000,7500,16000,9000,8000,45000,27000,14000,14000,14000,7500,10000,7000,25000,9000,22000,10000,11000,12500,15000,35000,35000,52000,15000,32000,11500,45000,16000,20000,7000,85000,15000,22000,32000,20000,35000,35000,65000,15000,12000,8000,11000,12000,140000,24000,20000,16000,15000,28500,30000,16000,80000,11000,21000,10500,15000,16000,45000,6000,40000,36000,12000,45000,20000,10000,5000,8000,13000,15000,7500,6000,100000,12000,10000,10000,12000,15000,10000,12000,14500,18500,24000,11000,52000,70000,12000,22000,200000,20000,45000,8000,8000,9500,25000,12000,24000,27000,18000,17000,15000,13000,70000,14000,32000,4000,100000,20000,30000,150000,19500,18000,25000,18000,10000,12000,25000,40000,30000,29000,35000,21000,31000,8000,15500,32000,30000,42000,20500,60000,95000,16000,8500,14000,140000,8000,12500,14000,6000,10000,15000,8000,10000,8500,25000,13000,6000,7000,22000,40000,22000,4500,15000,130000,23000,45000,15000,13000,10000,10000,6500,7000,7000,17401,5500,20000,7000,190000,13000,60000,17000,16000,9500,5000,27000,29000,29000,37000,36000,35000,42000,37000,30000,20000,8500,11000,14000,55000,25000,20500,28000,5000,35000,30000,10000,11000,17000,35000,30000,30000,13000,13000,11000,13000,33000,25000,70000,30000,9000,14500,50000,20000,15000,7500,13500,14000,18000,14000,65000,22000,4000,10000,7500,17000,18000,70000,10000,15000,16500,100000,7500,6000,18000,18000,8000,14000,11000,25000,9000,47000,20000,6000,5000,20000,10000,15000,13500,5500,14000,18000,20000,9300,80000,7500,30000,13000,8500,44300,45000,30000,40000,530000,12000,13500,30000,9500,200000,30000,9000,13000,7000,18000,3500,65000,19000,23000,12000,15000,38000,50000,6500,35000,15000,30000,10000,18000,30000,16000,22000,9000,20200,19500,21000,20000,13000,6500,25000,20000,33000,18000,13000,10000,10000,23000,20000,150000,25000,21000,30000,22000,14000,7000,18500,8500,8000,10000,15000,37000,90000,12000,13000,22000,4000,12000,9000,14000,15000,12500,30000,9500,15000,12000,8000,70000,250000,31500,30000,60000,35000,55000,20000,6500,17000,9300,7500,20000,18000,15000,13000,20000,12000,40000,8000,95000,68000,18000,130000,150000,75000,110000,150000,10000,24000,28000,28000,18000,27000,17000,350000,25000,16500,14000,18000,10000,10000,100000,25000,22999,6000,40000,250000,13000,14000,20000,5500,32000,8000,25000,28000,22000,21000,30000,12000,15000,18000,18000,10000,16000,20000,28000,7000,30000,15000,8000,9000,33500,9500,10000,20000,10000,15000,55000,20000,16000,23000,150000,25000,9000,11000,11500,16000,23000,30000,110000,3500,12100,19000,40000,8000,42000,13000,44000,11000,40000,150000,13000,17500,14500,24000,30000,10000,10000,90000,280000,32000,80000,5500,6000,30000,42000,5500,7000,10000,17000,18000,14000,17000,27000,25000,23000,24500,10000,35000,27000,7000,5000,5000,12000,30000,25000,6000,45000,40000,8500,16500,100000,52000,12500,14000,15000,5000,40000,17000,15000,6000,85000,18000,7500,10000,9000,24000,12000,10500,31000,9000,9000,27000,12500,15000,6500,90000,200000,15000,15000,7600,29000,20000,12000,10500,29000,26000,25000,10000,14000,6000,40000,23000,10000,10000,15000,11000,20000,15000,22000,6000,20000,6500,12000,27000,15000,20000,22000,7000,7000,6500,9000,4500,12000,18000,8000,5000,14000,6500,10000,13000,11200,8900,12000,45000,35000,34999,11000,150000,15000,15000,10000,12000,10000,35000,40000,24000,12000,30000,10000,15000,33000,9000,30000,13000,15000,12000,20000,36000,10000,16000,6000,22000,6000,6500,3000,27000,8000,12500,11000,40000,15000,8000,34000,7500,14000,15000,21000,12000,75000,15000,6000,20500,13500,10000,15000,11000,12000,15000,20000,24000,16000,10000,30000,26000,10000,15000,9000,9000,15000,12000,20000,15000,8000,13000,6800,9000,14000,55000,50000,8000,16000,15000,15000,15000,75000,9000,6500,17000,49000,15000,25000,40000,8000,17500,11000,8500,11000,12500,90000,14000,150000,25000,18000,17000,8500,15000,22000,15000,10000,5000,10000,15000,34500,8000,330000,22000,13000,6500,18000,30000,8500,20000,12000,18000,19000,12000,16000,5700,15000,11000,17000,18000,9500,12000,8000,12000,16000,8000,10000,15000,7500,30000,16000,14000,10000,25000,11500,11000,10000,7000,18000,7500,7500,12000,12000,40000,5000,20000,6500,12000,12000,14000,13000,9000,10000,15000,15000,19000,15000,16000,12000,11000,8000,10000,70000,45000,60000,12000,80000,23999,23000,16000,14000,13000,14000,7000,3500,12000,8000,25000,12000,7000,20000,18000,15000,11000,65000,75000,15000,12000,8500,38000,30000,9000,25000,9000,8500,7000,25000,8500,6500,7000,4500,22000,10000,16000,85000,15000,25000,9000,20000,15000,9000,14000,15000,14000,8000,13500,12000,7500,20000,11000,11000,17500,8000,25000,12000,5250,25000,14000,24000,35000,8000,16000,28000,16000,13000,35000,11000,5000,23000,11000,25000,4500,100000,47500,7500,16500,18000,7000,8000,10000,7000,35000,100000,13000,10000,14000,46000,65000,9000,13500,29000,23999,26000,8200,15000,10000,20000,15000,14000,11000,6500,26000,7500,14500,280000,12000,45000,22000,7000,7000,45000,20000,14000,18000,20000,10000,25000,18000,5000,12000,13000,30000,9000,12000,30000,20000,12000,9500,22000,23000,9500,13500,12000,33000,33000,18999,18000,8500,20000,9000,7000,53000,14000,21000,16000,26000,20000,25000,10000,11500,15000,4200,9500,8000,16000,12000,12000,12000,13000,15723,6000,10000,3000,7500,18000,16500,35000,15000,7000,38000,20000,7500,12500,16000,16000,8500,30000,16000,5700,18000,15000,7500,9000,13000,25000,130000,13000,20000,18000,8000,16000,18000,19000,7500,15000,19000,10000,45000,20000,7500,14000,5000,20000,15000,75000,30000,30000,12500,24000,10000,12000,45000,10500,6250,6000,7500,6300,7000,14000,10000,30000,16000,22000,14000,18000,10500,6000,20000,90000,13500,7000,12500,15000,14000,28000,9500,16000,120000,20000,21000,22000,120000,15000,5000,15000,19000,37500,8000,45000,5000,30000,17000,15000,3500,25000,17000,50000,22000,12000,10000,10000,26000,9000,12000,8500,7000,12000,12000,26000,13000,30000,30000,12000,10000,13000,13000,40000,25000,8000,6000,17000,17000,15000,8500,8500,11000,60000,18000,70000,10000,20000,16000,10000,100000,7000,17000,17000,39000,6500,15000,17000,6800,110000,8500,65000,7500,10000,34000,17000,23000,17000,8500,10000,8000,30000,15000,25000,16500,40000,15000,12000,35000,8000,11000,20000,17000,9000,16500,12000,12500,25000,15000,14000,72000,10000,17000,12000,72000,26000,10500,15000,8500,10000,10000,25000,10000,13000,16000,5000,9500,18000,24000,6166,20000,13000,8000,18000,20000,14000,15000,25000,26000,9000,15000,15000,130000,7500,9500,60000,7000,23000,18000,18000,6000,13000,15000,10000,22000,10000,6500,7000,18000,7000,22000,7000,15000,8000,7000,9000,9800,14500,15000,22000,9000,18000,8500,6500,40000,17000,12000,30000,4000,14000,25000,8000,12500,100000,14000,7500,17500,27000,16500,12000,45000,15000,14000,17000,34999,7000,10500,15000,10000,7000,200000,12000,10000,15000,19000,25000,10000,13000,12500,10000,16000,11000,13000,15000,15000,20000,12000,600000,11000,10000,30000,8000,7000,10000,9300,10500,16000,20000,9000,18000,10000,16000,13500,16000,8500,15000,8200,20000,9000,13500,26000,11000,18000,10000,40000,24000,18000,11000,23000,11000,8000,15000,9500,13500,11000,13000,25000,12000,25000,8500,8500,5000,8500,100000,7500,7000,26000,12000,18000,13000,160000,8000,6000,12500,6500,10000,12500,22000,17000,20000,22000,11500,23000,19000,45000,17000,9500,45000,60000,12000,40000,16000,9000,35000,4000,11000,9500,25000,10000,12000,19397,12000,10000,20000,15000,28000,10000,3500,8000,13500,36000,15000,5000,10000,10000,8500,11000,8000,12000,5000,7000,15000,10000,37500,7000,6500,16000,34000,11500,15000,8000,220000,22000,85000,6000,14000,11500,6000,24000,32000,16000,13000,14000,7500,10000,18500,12000,17000,35000,9000,13000,27999,11000,140000,12000,13000,250000,80000,22999,36000,70000,12500,18000,10000,18000,37000,18000,25000,10000,15000,15000,9000,14000,8500,35000,10000,5000,23000,15000,18500,28000,32000,14000,7000,33000,100000,18000,16000,8500,10000,13500,19000,11500,22000,12000,10000,15000,35000,70000,32000,35000,10000,11000,12000,40000,8000,20000,12000,15000,27000,13000,9000,25000,12000,18000,9500,14000,40000,70000,15000,8500,27500,15000,5000,26000,14000,20000,12000,17000,75000,19500,10000,32000,15000,28000,10677,50000,32500,23000,75000,250000,10000,60000,12000,48000,58000,14000,7000,13000,11000,9500,7500,14000,16000,18000,8200,12000,10000,13000,22000,10500,11000,20000,14000,12500,10500,30000,11000,9000,35000,23382,9500,9000,60000,11000,11000,11000,8000,9000,8000,5500,12000,25000,23000,12000,6500,9000,25000,12500,45000,27000,75000,9000,12000,24000,15000,24000,12000,27000,30000,20000,22000,25000,23000,12000,18000,55000,5000,13000,9000,7000,28000,15000,14000,45000,12000,12500,13000,9500,35000,4000,8000,12500,65000,13000,12500,45000,6000,50000,40000,30000,7000,25000,9000,16000,10500,100000,9000,11000,24000,12000,20000,24000,12000,12000,10000,45000,22000,6500,40000,300000,4000,12000,27000,10000,10000,10000,18000,14500,9000,14000,18000,9500,49000,9000,130000,8000,13000,18000,18000,32000,15000,35000,6000,9000,9500,12500,25000,15000,38000,20000,15000,130000,27000,16000,13000,10000,10000,17000,12500,25000,35000,12000,12000,15000,45000,20000,15000,10000,15000,19800,8500,130000,8500,4500,9000,13000,18000,26000,17000,9000,8000,10000,12000,14000,25000,22000,45000,20000,16000,35000,15000,5500,35000,14000,25000,36000,20000,30000,12000,16000,13000,22000,15000,14000,8000,57000,1200,8000,15000,17000,12000,25000,13000,35000,6500,11000,25000,35000,27000,18000,20000,8500,14000,35000,16000,20000,18000,140000,10000,12000,5300,11000,12000,12000,20000,13000,22000,15000,5400,16500,12000,8500,14000,15000,6000,14000,15000,37000,6500,10000,12000,12000,9000,60000,18000,14000,50000,17000,9000,80000,7500,14000,14000,10000,17000,6500,10000,22000,15000,12000,52000,6500,20000,25000,14000,25000,12500,12000,10000,17000,15500,65000,60000,45000,10500,9000,20000,20000,18000,12000,12000,120000,28000,6000,12500,31000,7000,22000,17500,14000,9500,7000,15000,15000,10000,14000,85000,5500,14000,10000,10000,13000,20000,25000,7500,200000,12000,9500,12000,10000,8000,16000,12333,9500,16000,20000,14000,7500,13900,5500,9000,4700,30000,16500,24000,9500,12000,15000,22500,32000,10000,13000,7000,12000,7500,15000,8000,25000,26000,15000,3000,12500,42000,20000,40000,45000,8500,15000,9000,14000,11000,10000,55000,10000,25000,27000,12000,16000,8000,14000,10000,150000,16000,6000,26000,13000,28000,8500,12500,25000,10000,12000,15000,6000,30000,18000,8500,7500,12000,15000,15500,20000,11000,15000,17000,20000,20000,12000,25000,11500,6500,10000,6000,14000,34000,15000,20000,9500,10000,30000,13000,45000,8000,25000,12000,19000,22000,15000,15000,10000,10000,7000,15000,9500,6500,10000,8000,3300,12000,20000,12000,20000,70000,10000,8500,8000,8000,13000,15500,30000,10000,18000,12000,9000,6000,32000,36000,17000,20000,9000,9500,7000,17000,19500,25000,14000,16000,15000,13000,12000,12000,7500,13000,52000,22000,18000,7000,16500,13000,6000,6000,21000,10000,12000,30000,15000,10000,9000,10000,8000,60000,8000,8500,7500,5000,30000,7500,12000,15500,26000,8000,12000,15000,10000,20000,12500,18000,21000,95000,26000,53000,13000,12000,28000,57000,10000,21467,32000,7000,30000,40000,9000,15000,18000,25000,8500,20000,12000,12500,25000,10000,18000,12000,13000,13000,25000,9000,10000,15000,20000,13500,21000,10000,10000,10000,24000,13000,8000,55000,50000,32000,22000,8500,12000,15000,3000,52000,9500,46000,12000,8000,9000,10000,39000,9000,120000,25000,14000,6000,15000,8000,6000,10000,35000,16000,14000,10000,7000,8000,22000,12000,10000,15000,6500,25000,12000,9000,7000,20000,9000,30000,15500,10500,16000,6000,15000,21000,400000,9000,30000,6500,6000,45000,15000,16000,22000,12000,13000,10000,15000,15000,9000,20000,6500,45000,42000,12000,24000,16000,20000,15000,15000,8000,6500,22000,6200,9000,9000,15000,15000,15000,6800,5000,12000,12000,12000,18000,25000,15000,23000,10500,37000,16000,25000,14000,10000,12500,15000,35000,30000,8000,7000,5500,5000,8500,8000,16000,7500,35000,8000,45000,9000,60000,70000,9000,11000,5800,9000,18000,45000,55000,9500,35000,7500,25000,12500,22000,7500,42000,8000,20000,19000,14000,200000,18500,38000,67000,5000,25000,7000,10000,25000,11000,17000,47000,10000,7500,10000,11000,21000,15000,7500,6500,7500,15000,11000,23000,11000,8000,13000,17000,16000,12000,20000,18000,50000,23000,16500,25000,13000,12000,37000,6500,13000,17500,15000,4000,15000,9000,13000,25000,37000,25000,13000,20000,37000,40000,45000,44000,15000,37000,12000,8000,30000,12000,6000,9500,10000,16000,20000,10000,13000,17000,15000,10000,25000,15000,11000,7500,15000,7500,11000,15000,9500,5000,20000,8500,9000,15000,20000,11500,13000,11000,6000,15000,45000,5000,6000,8000,15000,10000,9000,16000,16000,45000,12000,14500,8000,80000,15000,15500,8000,7500,15000,5000,10000,16000,15000,6000,32000,22000,9000,12000,16000,13000,20000,9000,11000,12500,140000,65000,60000,26000,8000,14000,15000,15000,7000,16000,17000,18000,20000,18000,19000,7000,10000,9000,30000,20000,6500,9000,20000,8000,22000,17000,7000,30000,12000,53000,11000,7500,7500,12000,12000,10500,6000,4500,25000,13000,6000,12500,26000,60000,35000,16000,12000,110000,20000,12000,25000,17000,5500,8000,17000,15000,9000,16000,30000,30000,13000,8000,13000,7000,5000,18000,35000,15000,15000,17000,25000,12000,15000,29000,35000,45000,15000],\"xaxis\":\"x\",\"yaxis\":\"y\",\"type\":\"histogram\"}],                        {\"template\":{\"data\":{\"histogram2dcontour\":[{\"type\":\"histogram2dcontour\",\"colorbar\":{\"outlinewidth\":0,\"ticks\":\"\"},\"colorscale\":[[0.0,\"#0d0887\"],[0.1111111111111111,\"#46039f\"],[0.2222222222222222,\"#7201a8\"],[0.3333333333333333,\"#9c179e\"],[0.4444444444444444,\"#bd3786\"],[0.5555555555555556,\"#d8576b\"],[0.6666666666666666,\"#ed7953\"],[0.7777777777777778,\"#fb9f3a\"],[0.8888888888888888,\"#fdca26\"],[1.0,\"#f0f921\"]]}],\"choropleth\":[{\"type\":\"choropleth\",\"colorbar\":{\"outlinewidth\":0,\"ticks\":\"\"}}],\"histogram2d\":[{\"type\":\"histogram2d\",\"colorbar\":{\"outlinewidth\":0,\"ticks\":\"\"},\"colorscale\":[[0.0,\"#0d0887\"],[0.1111111111111111,\"#46039f\"],[0.2222222222222222,\"#7201a8\"],[0.3333333333333333,\"#9c179e\"],[0.4444444444444444,\"#bd3786\"],[0.5555555555555556,\"#d8576b\"],[0.6666666666666666,\"#ed7953\"],[0.7777777777777778,\"#fb9f3a\"],[0.8888888888888888,\"#fdca26\"],[1.0,\"#f0f921\"]]}],\"heatmap\":[{\"type\":\"heatmap\",\"colorbar\":{\"outlinewidth\":0,\"ticks\":\"\"},\"colorscale\":[[0.0,\"#0d0887\"],[0.1111111111111111,\"#46039f\"],[0.2222222222222222,\"#7201a8\"],[0.3333333333333333,\"#9c179e\"],[0.4444444444444444,\"#bd3786\"],[0.5555555555555556,\"#d8576b\"],[0.6666666666666666,\"#ed7953\"],[0.7777777777777778,\"#fb9f3a\"],[0.8888888888888888,\"#fdca26\"],[1.0,\"#f0f921\"]]}],\"heatmapgl\":[{\"type\":\"heatmapgl\",\"colorbar\":{\"outlinewidth\":0,\"ticks\":\"\"},\"colorscale\":[[0.0,\"#0d0887\"],[0.1111111111111111,\"#46039f\"],[0.2222222222222222,\"#7201a8\"],[0.3333333333333333,\"#9c179e\"],[0.4444444444444444,\"#bd3786\"],[0.5555555555555556,\"#d8576b\"],[0.6666666666666666,\"#ed7953\"],[0.7777777777777778,\"#fb9f3a\"],[0.8888888888888888,\"#fdca26\"],[1.0,\"#f0f921\"]]}],\"contourcarpet\":[{\"type\":\"contourcarpet\",\"colorbar\":{\"outlinewidth\":0,\"ticks\":\"\"}}],\"contour\":[{\"type\":\"contour\",\"colorbar\":{\"outlinewidth\":0,\"ticks\":\"\"},\"colorscale\":[[0.0,\"#0d0887\"],[0.1111111111111111,\"#46039f\"],[0.2222222222222222,\"#7201a8\"],[0.3333333333333333,\"#9c179e\"],[0.4444444444444444,\"#bd3786\"],[0.5555555555555556,\"#d8576b\"],[0.6666666666666666,\"#ed7953\"],[0.7777777777777778,\"#fb9f3a\"],[0.8888888888888888,\"#fdca26\"],[1.0,\"#f0f921\"]]}],\"surface\":[{\"type\":\"surface\",\"colorbar\":{\"outlinewidth\":0,\"ticks\":\"\"},\"colorscale\":[[0.0,\"#0d0887\"],[0.1111111111111111,\"#46039f\"],[0.2222222222222222,\"#7201a8\"],[0.3333333333333333,\"#9c179e\"],[0.4444444444444444,\"#bd3786\"],[0.5555555555555556,\"#d8576b\"],[0.6666666666666666,\"#ed7953\"],[0.7777777777777778,\"#fb9f3a\"],[0.8888888888888888,\"#fdca26\"],[1.0,\"#f0f921\"]]}],\"mesh3d\":[{\"type\":\"mesh3d\",\"colorbar\":{\"outlinewidth\":0,\"ticks\":\"\"}}],\"scatter\":[{\"fillpattern\":{\"fillmode\":\"overlay\",\"size\":10,\"solidity\":0.2},\"type\":\"scatter\"}],\"parcoords\":[{\"type\":\"parcoords\",\"line\":{\"colorbar\":{\"outlinewidth\":0,\"ticks\":\"\"}}}],\"scatterpolargl\":[{\"type\":\"scatterpolargl\",\"marker\":{\"colorbar\":{\"outlinewidth\":0,\"ticks\":\"\"}}}],\"bar\":[{\"error_x\":{\"color\":\"#2a3f5f\"},\"error_y\":{\"color\":\"#2a3f5f\"},\"marker\":{\"line\":{\"color\":\"#E5ECF6\",\"width\":0.5},\"pattern\":{\"fillmode\":\"overlay\",\"size\":10,\"solidity\":0.2}},\"type\":\"bar\"}],\"scattergeo\":[{\"type\":\"scattergeo\",\"marker\":{\"colorbar\":{\"outlinewidth\":0,\"ticks\":\"\"}}}],\"scatterpolar\":[{\"type\":\"scatterpolar\",\"marker\":{\"colorbar\":{\"outlinewidth\":0,\"ticks\":\"\"}}}],\"histogram\":[{\"marker\":{\"pattern\":{\"fillmode\":\"overlay\",\"size\":10,\"solidity\":0.2}},\"type\":\"histogram\"}],\"scattergl\":[{\"type\":\"scattergl\",\"marker\":{\"colorbar\":{\"outlinewidth\":0,\"ticks\":\"\"}}}],\"scatter3d\":[{\"type\":\"scatter3d\",\"line\":{\"colorbar\":{\"outlinewidth\":0,\"ticks\":\"\"}},\"marker\":{\"colorbar\":{\"outlinewidth\":0,\"ticks\":\"\"}}}],\"scattermapbox\":[{\"type\":\"scattermapbox\",\"marker\":{\"colorbar\":{\"outlinewidth\":0,\"ticks\":\"\"}}}],\"scatterternary\":[{\"type\":\"scatterternary\",\"marker\":{\"colorbar\":{\"outlinewidth\":0,\"ticks\":\"\"}}}],\"scattercarpet\":[{\"type\":\"scattercarpet\",\"marker\":{\"colorbar\":{\"outlinewidth\":0,\"ticks\":\"\"}}}],\"carpet\":[{\"aaxis\":{\"endlinecolor\":\"#2a3f5f\",\"gridcolor\":\"white\",\"linecolor\":\"white\",\"minorgridcolor\":\"white\",\"startlinecolor\":\"#2a3f5f\"},\"baxis\":{\"endlinecolor\":\"#2a3f5f\",\"gridcolor\":\"white\",\"linecolor\":\"white\",\"minorgridcolor\":\"white\",\"startlinecolor\":\"#2a3f5f\"},\"type\":\"carpet\"}],\"table\":[{\"cells\":{\"fill\":{\"color\":\"#EBF0F8\"},\"line\":{\"color\":\"white\"}},\"header\":{\"fill\":{\"color\":\"#C8D4E3\"},\"line\":{\"color\":\"white\"}},\"type\":\"table\"}],\"barpolar\":[{\"marker\":{\"line\":{\"color\":\"#E5ECF6\",\"width\":0.5},\"pattern\":{\"fillmode\":\"overlay\",\"size\":10,\"solidity\":0.2}},\"type\":\"barpolar\"}],\"pie\":[{\"automargin\":true,\"type\":\"pie\"}]},\"layout\":{\"autotypenumbers\":\"strict\",\"colorway\":[\"#636efa\",\"#EF553B\",\"#00cc96\",\"#ab63fa\",\"#FFA15A\",\"#19d3f3\",\"#FF6692\",\"#B6E880\",\"#FF97FF\",\"#FECB52\"],\"font\":{\"color\":\"#2a3f5f\"},\"hovermode\":\"closest\",\"hoverlabel\":{\"align\":\"left\"},\"paper_bgcolor\":\"white\",\"plot_bgcolor\":\"#E5ECF6\",\"polar\":{\"bgcolor\":\"#E5ECF6\",\"angularaxis\":{\"gridcolor\":\"white\",\"linecolor\":\"white\",\"ticks\":\"\"},\"radialaxis\":{\"gridcolor\":\"white\",\"linecolor\":\"white\",\"ticks\":\"\"}},\"ternary\":{\"bgcolor\":\"#E5ECF6\",\"aaxis\":{\"gridcolor\":\"white\",\"linecolor\":\"white\",\"ticks\":\"\"},\"baxis\":{\"gridcolor\":\"white\",\"linecolor\":\"white\",\"ticks\":\"\"},\"caxis\":{\"gridcolor\":\"white\",\"linecolor\":\"white\",\"ticks\":\"\"}},\"coloraxis\":{\"colorbar\":{\"outlinewidth\":0,\"ticks\":\"\"}},\"colorscale\":{\"sequential\":[[0.0,\"#0d0887\"],[0.1111111111111111,\"#46039f\"],[0.2222222222222222,\"#7201a8\"],[0.3333333333333333,\"#9c179e\"],[0.4444444444444444,\"#bd3786\"],[0.5555555555555556,\"#d8576b\"],[0.6666666666666666,\"#ed7953\"],[0.7777777777777778,\"#fb9f3a\"],[0.8888888888888888,\"#fdca26\"],[1.0,\"#f0f921\"]],\"sequentialminus\":[[0.0,\"#0d0887\"],[0.1111111111111111,\"#46039f\"],[0.2222222222222222,\"#7201a8\"],[0.3333333333333333,\"#9c179e\"],[0.4444444444444444,\"#bd3786\"],[0.5555555555555556,\"#d8576b\"],[0.6666666666666666,\"#ed7953\"],[0.7777777777777778,\"#fb9f3a\"],[0.8888888888888888,\"#fdca26\"],[1.0,\"#f0f921\"]],\"diverging\":[[0,\"#8e0152\"],[0.1,\"#c51b7d\"],[0.2,\"#de77ae\"],[0.3,\"#f1b6da\"],[0.4,\"#fde0ef\"],[0.5,\"#f7f7f7\"],[0.6,\"#e6f5d0\"],[0.7,\"#b8e186\"],[0.8,\"#7fbc41\"],[0.9,\"#4d9221\"],[1,\"#276419\"]]},\"xaxis\":{\"gridcolor\":\"white\",\"linecolor\":\"white\",\"ticks\":\"\",\"title\":{\"standoff\":15},\"zerolinecolor\":\"white\",\"automargin\":true,\"zerolinewidth\":2},\"yaxis\":{\"gridcolor\":\"white\",\"linecolor\":\"white\",\"ticks\":\"\",\"title\":{\"standoff\":15},\"zerolinecolor\":\"white\",\"automargin\":true,\"zerolinewidth\":2},\"scene\":{\"xaxis\":{\"backgroundcolor\":\"#E5ECF6\",\"gridcolor\":\"white\",\"linecolor\":\"white\",\"showbackground\":true,\"ticks\":\"\",\"zerolinecolor\":\"white\",\"gridwidth\":2},\"yaxis\":{\"backgroundcolor\":\"#E5ECF6\",\"gridcolor\":\"white\",\"linecolor\":\"white\",\"showbackground\":true,\"ticks\":\"\",\"zerolinecolor\":\"white\",\"gridwidth\":2},\"zaxis\":{\"backgroundcolor\":\"#E5ECF6\",\"gridcolor\":\"white\",\"linecolor\":\"white\",\"showbackground\":true,\"ticks\":\"\",\"zerolinecolor\":\"white\",\"gridwidth\":2}},\"shapedefaults\":{\"line\":{\"color\":\"#2a3f5f\"}},\"annotationdefaults\":{\"arrowcolor\":\"#2a3f5f\",\"arrowhead\":0,\"arrowwidth\":1},\"geo\":{\"bgcolor\":\"white\",\"landcolor\":\"#E5ECF6\",\"subunitcolor\":\"white\",\"showland\":true,\"showlakes\":true,\"lakecolor\":\"white\"},\"title\":{\"x\":0.05},\"mapbox\":{\"style\":\"light\"}}},\"xaxis\":{\"anchor\":\"y\",\"domain\":[0.0,1.0],\"title\":{\"text\":\"Rent\"}},\"yaxis\":{\"anchor\":\"x\",\"domain\":[0.0,1.0],\"title\":{\"text\":\"count\"}},\"legend\":{\"tracegroupgap\":0},\"margin\":{\"t\":60},\"barmode\":\"relative\"},                        {\"responsive\": true}                    ).then(function(){\n",
       "                            \n",
       "var gd = document.getElementById('62bb8039-a0de-4412-a767-1b6726e79c00');\n",
       "var x = new MutationObserver(function (mutations, observer) {{\n",
       "        var display = window.getComputedStyle(gd).display;\n",
       "        if (!display || display === 'none') {{\n",
       "            console.log([gd, 'removed!']);\n",
       "            Plotly.purge(gd);\n",
       "            observer.disconnect();\n",
       "        }}\n",
       "}});\n",
       "\n",
       "// Listen for the removal of the full notebook cells\n",
       "var notebookContainer = gd.closest('#notebook-container');\n",
       "if (notebookContainer) {{\n",
       "    x.observe(notebookContainer, {childList: true});\n",
       "}}\n",
       "\n",
       "// Listen for the clearing of the current output cell\n",
       "var outputEl = gd.closest('.output');\n",
       "if (outputEl) {{\n",
       "    x.observe(outputEl, {childList: true});\n",
       "}}\n",
       "\n",
       "                        })                };                });            </script>        </div>"
      ]
     },
     "metadata": {},
     "output_type": "display_data"
    }
   ],
   "source": [
    "px.histogram(data, x=\"Rent\", color_discrete_sequence=['darkblue'])"
   ]
  },
  {
   "cell_type": "markdown",
   "id": "ea3da08c",
   "metadata": {
    "papermill": {
     "duration": 0.017816,
     "end_time": "2022-09-25T21:48:16.799933",
     "exception": false,
     "start_time": "2022-09-25T21:48:16.782117",
     "status": "completed"
    },
    "tags": []
   },
   "source": [
    "<h4 style=\"background-color:rgb(244,164,96);padding:10px 10px 10px;border-radius:5px 25px 25px 5px;width:350px\">Distribution of Total Bathrooms in a House"
   ]
  },
  {
   "cell_type": "code",
   "execution_count": 16,
   "id": "52d507f4",
   "metadata": {
    "_kg_hide-input": true,
    "execution": {
     "iopub.execute_input": "2022-09-25T21:48:16.835266Z",
     "iopub.status.busy": "2022-09-25T21:48:16.834880Z",
     "iopub.status.idle": "2022-09-25T21:48:16.890610Z",
     "shell.execute_reply": "2022-09-25T21:48:16.889780Z"
    },
    "papermill": {
     "duration": 0.075937,
     "end_time": "2022-09-25T21:48:16.892696",
     "exception": false,
     "start_time": "2022-09-25T21:48:16.816759",
     "status": "completed"
    },
    "tags": []
   },
   "outputs": [
    {
     "data": {
      "text/html": [
       "<div>                            <div id=\"f7e0f7c0-d6a8-45ab-9f53-5857b3122b9a\" class=\"plotly-graph-div\" style=\"height:525px; width:100%;\"></div>            <script type=\"text/javascript\">                require([\"plotly\"], function(Plotly) {                    window.PLOTLYENV=window.PLOTLYENV || {};                                    if (document.getElementById(\"f7e0f7c0-d6a8-45ab-9f53-5857b3122b9a\")) {                    Plotly.newPlot(                        \"f7e0f7c0-d6a8-45ab-9f53-5857b3122b9a\",                        [{\"alignmentgroup\":\"True\",\"bingroup\":\"x\",\"hovertemplate\":\"Bathroom=%{x}<br>count=%{y}<extra></extra>\",\"legendgroup\":\"\",\"marker\":{\"color\":\"seagreen\",\"pattern\":{\"shape\":\"\"}},\"name\":\"\",\"offsetgroup\":\"\",\"orientation\":\"v\",\"showlegend\":false,\"x\":[2,1,1,1,1,2,2,1,2,2,2,1,1,1,2,2,1,1,1,1,1,2,1,1,1,1,1,1,1,2,1,2,1,2,1,1,1,1,2,1,1,2,1,1,1,2,1,2,2,2,1,1,1,2,1,1,1,2,2,2,1,3,2,2,1,1,1,1,1,1,1,1,1,1,2,2,1,1,1,1,2,1,2,2,1,1,2,1,1,1,2,2,1,1,2,1,2,1,2,2,3,3,2,2,2,1,2,1,1,1,1,1,1,2,2,2,1,1,1,2,1,2,1,2,1,2,1,1,1,1,1,1,2,1,1,1,1,2,1,2,2,1,1,1,1,2,1,1,1,3,1,1,1,2,1,2,1,2,2,1,2,2,1,2,2,1,2,1,1,3,1,1,1,1,2,1,1,1,2,2,1,3,2,1,2,1,2,2,1,1,1,1,2,2,1,1,1,2,2,1,1,1,1,1,1,1,1,1,1,1,1,1,1,2,1,1,2,2,2,1,2,1,1,2,2,2,1,1,1,2,1,1,2,3,1,1,2,1,1,2,1,1,1,1,2,2,2,1,1,2,1,2,1,2,3,1,1,1,2,2,1,3,1,1,1,1,2,1,1,1,1,1,2,1,1,3,2,1,1,1,1,1,1,2,1,1,3,1,2,1,1,2,2,2,1,1,2,2,1,1,2,2,2,1,1,1,1,2,1,2,1,1,1,1,2,1,2,1,1,1,1,1,1,1,2,2,2,1,1,1,1,1,1,3,2,1,2,1,2,2,1,2,1,2,1,2,1,2,1,2,2,2,1,2,1,2,1,3,1,1,1,1,1,2,1,1,1,2,2,1,1,1,1,2,2,1,1,1,1,1,2,2,2,1,2,1,1,1,1,1,2,2,1,3,1,1,1,3,1,1,1,1,2,1,1,3,2,1,2,2,1,2,1,2,1,2,1,1,1,1,1,1,1,1,1,2,1,1,1,1,2,1,2,1,1,2,1,2,1,1,1,1,1,1,1,2,2,2,2,1,1,1,1,1,1,1,1,1,1,3,2,2,2,2,1,1,2,1,1,1,1,1,1,2,2,1,1,2,2,2,2,2,1,2,1,1,2,2,2,2,1,1,2,2,1,2,1,2,2,2,1,2,2,1,2,1,1,1,1,3,1,3,1,1,2,2,3,1,2,1,2,2,3,2,1,2,1,3,1,1,2,5,1,4,2,2,2,1,2,2,2,2,4,5,2,2,1,2,2,2,1,2,1,1,2,1,5,1,2,2,3,2,1,2,2,2,2,1,2,2,2,2,2,2,1,2,2,2,2,4,1,2,2,3,2,2,2,2,2,5,2,3,2,3,1,2,3,2,2,2,4,3,3,4,3,2,2,3,3,2,2,2,2,2,1,2,2,4,3,3,3,2,1,4,1,4,3,5,2,2,2,4,2,3,3,3,2,1,2,4,3,2,2,3,1,2,3,2,2,2,1,5,1,2,2,2,1,1,3,2,2,2,2,1,2,3,5,3,1,2,3,3,3,3,1,2,1,2,2,2,4,2,3,1,2,4,2,4,2,2,2,1,1,2,2,1,2,2,2,4,3,3,4,2,2,2,3,2,2,2,5,2,1,2,2,2,1,2,1,2,2,2,2,2,3,2,4,3,4,3,2,4,2,3,1,4,2,2,2,2,2,1,5,1,1,3,5,2,2,3,3,2,3,2,3,2,2,4,1,2,1,2,2,2,2,1,3,2,3,2,2,3,1,3,1,2,2,3,4,2,4,3,3,3,1,2,2,2,3,3,4,2,5,1,1,3,1,2,3,4,2,2,2,1,3,2,1,2,3,1,2,2,2,2,2,2,1,2,2,3,1,2,2,3,3,2,3,4,2,5,2,2,3,2,4,3,2,2,2,5,2,2,4,3,2,2,2,3,5,1,4,4,2,3,3,2,2,3,3,3,2,3,2,1,1,1,3,4,3,3,2,3,1,4,3,1,4,1,2,2,1,2,1,2,2,1,2,1,2,4,2,1,2,1,2,3,1,2,4,2,3,2,3,3,2,2,3,2,1,2,2,2,1,3,1,2,2,1,2,2,1,3,2,4,3,2,2,5,2,1,2,2,3,2,2,2,4,2,2,1,2,3,2,1,1,2,2,1,1,2,2,3,3,2,1,2,2,2,2,1,4,1,2,2,2,2,3,3,2,2,2,2,3,3,1,2,4,2,2,1,2,3,4,1,5,4,3,1,5,3,2,4,3,2,3,5,2,1,2,2,2,4,1,2,4,3,1,1,1,1,3,3,3,2,2,1,2,2,2,3,1,1,2,5,3,2,1,2,2,2,3,3,3,1,2,4,2,5,4,2,3,1,5,2,1,3,2,2,2,2,2,2,3,2,2,2,1,3,1,2,2,2,2,2,2,3,1,2,1,1,3,3,2,3,1,1,2,3,2,2,4,1,2,2,3,2,4,3,2,2,2,2,1,6,1,1,3,1,1,3,2,2,2,2,2,3,3,1,2,2,2,1,4,3,2,3,2,3,1,2,3,2,3,2,4,2,2,2,1,2,2,2,2,2,2,3,3,2,1,2,2,1,4,3,2,2,4,2,2,1,2,4,3,3,3,2,2,2,2,4,6,3,2,4,2,3,2,2,2,4,3,4,3,2,2,6,2,2,2,2,1,2,3,1,2,2,2,3,2,3,1,2,1,1,2,2,2,2,2,3,1,3,4,1,1,3,2,2,3,2,2,2,2,2,1,1,2,2,2,3,3,2,4,2,1,1,2,2,3,2,2,3,2,3,3,3,2,3,5,3,2,2,2,1,4,2,2,3,2,3,2,2,2,1,3,4,2,2,1,2,4,4,2,2,3,2,3,1,3,2,2,2,2,3,2,2,3,3,1,1,3,2,2,2,2,2,1,4,2,1,4,2,5,2,3,2,2,2,2,1,2,2,4,5,2,2,2,1,2,5,3,2,2,1,2,2,1,2,2,5,1,2,1,2,2,2,1,2,2,4,2,2,1,1,2,2,3,1,2,2,1,2,1,2,4,5,1,3,2,2,2,1,2,3,1,3,2,2,2,2,2,2,2,1,1,2,3,2,1,4,3,1,1,2,3,2,2,2,3,3,3,2,2,4,5,2,2,2,4,4,2,5,3,5,1,2,1,2,1,2,1,3,3,3,2,2,1,1,2,2,2,2,2,3,1,2,2,3,2,1,3,2,1,2,2,2,2,2,2,2,2,5,2,1,2,2,2,2,4,3,2,3,3,1,1,3,3,2,2,5,2,4,2,1,1,2,1,2,2,4,3,2,1,3,1,2,2,2,1,2,2,2,2,1,3,2,5,2,2,2,1,2,5,1,5,3,2,2,2,6,2,2,3,1,2,5,3,2,2,2,3,1,3,2,1,2,3,2,1,1,3,2,1,1,1,3,1,2,2,1,2,1,3,3,1,1,1,1,2,1,2,1,2,3,2,1,2,1,2,2,2,1,3,3,1,1,1,2,2,1,2,1,2,4,2,3,4,2,2,1,3,1,1,2,1,1,2,1,2,2,2,2,1,2,2,1,4,2,2,2,3,3,2,1,2,2,2,2,2,3,1,2,2,1,1,1,2,2,1,1,1,1,1,2,2,3,3,1,2,3,3,1,1,1,1,1,2,1,1,2,5,2,1,2,1,2,3,1,2,2,1,2,2,2,1,2,1,1,1,2,2,2,2,1,2,2,2,2,1,2,1,2,1,2,1,1,1,1,2,2,5,1,1,1,1,2,1,1,3,1,4,2,2,1,2,2,2,2,2,2,4,1,1,2,1,1,2,2,1,2,1,3,2,2,2,2,1,1,2,3,3,2,1,3,1,1,2,1,3,2,1,2,3,3,1,1,2,2,5,2,2,1,2,1,1,3,2,2,1,2,1,2,2,1,3,2,2,2,3,1,1,1,2,3,1,1,3,2,1,1,3,1,1,2,1,1,2,2,2,1,2,1,2,2,2,3,2,1,1,2,2,1,2,1,2,1,1,2,3,2,2,1,1,1,2,2,2,2,2,1,1,2,1,2,2,1,2,3,3,1,2,1,4,1,1,1,2,2,1,1,4,1,1,1,2,2,1,3,2,1,1,2,2,1,3,2,3,2,2,3,1,1,1,1,1,1,3,3,1,2,2,2,1,2,1,2,2,2,3,2,2,1,1,1,2,3,2,2,2,1,2,2,2,3,2,1,2,2,2,2,2,2,3,2,2,2,1,3,1,1,1,1,3,3,2,2,2,1,2,2,1,2,2,1,2,2,1,1,3,1,1,2,2,3,2,2,2,2,2,1,4,1,2,1,3,2,1,1,1,1,2,2,1,1,1,2,2,2,1,2,2,2,2,3,2,4,2,1,1,2,2,2,1,2,1,1,2,1,1,2,2,2,2,1,2,1,2,2,2,2,1,3,1,1,3,1,3,2,1,3,1,1,2,2,3,2,2,2,2,2,2,1,2,2,1,4,2,1,1,1,1,3,2,1,2,2,2,3,2,2,3,1,2,3,2,2,1,2,1,2,2,2,3,2,1,2,3,2,1,1,1,1,1,3,2,3,1,1,4,2,1,2,1,1,2,2,2,2,2,2,1,2,3,1,2,3,1,3,4,1,3,1,2,1,1,1,2,1,2,1,2,1,2,1,3,1,1,1,2,2,3,3,2,2,2,2,1,2,1,4,1,1,1,2,2,1,1,3,1,2,2,1,1,3,2,1,1,2,2,2,1,1,2,1,3,2,1,2,3,1,1,1,3,1,2,3,3,1,2,1,2,4,1,1,1,2,1,2,2,2,1,1,2,2,2,1,1,1,2,3,1,2,1,1,1,2,3,1,1,1,2,3,2,1,2,2,3,1,1,3,2,1,2,2,1,2,1,1,2,1,1,2,2,2,2,1,3,2,2,1,2,2,1,2,2,2,5,2,2,2,3,3,2,3,1,1,1,2,3,1,2,1,1,2,2,2,2,2,1,3,2,3,3,3,2,2,2,2,1,3,1,2,3,1,1,2,2,3,1,3,1,3,1,1,1,1,5,1,1,2,2,2,1,1,2,2,2,1,2,2,1,2,2,2,1,2,1,2,2,3,1,1,1,3,3,2,1,1,1,1,1,1,2,1,3,1,2,2,1,1,2,1,1,1,2,3,1,1,3,1,1,2,1,1,1,2,1,1,2,3,2,1,2,2,1,2,3,3,2,1,1,2,2,1,2,2,4,1,2,1,2,1,2,3,2,2,1,2,1,1,2,2,2,1,2,2,1,2,3,2,3,1,2,3,2,1,2,4,1,2,2,2,1,1,1,2,2,2,2,2,3,1,1,1,1,1,2,3,3,2,2,4,1,1,3,3,2,1,2,1,2,2,2,1,3,1,3,3,2,2,4,1,2,1,3,1,1,1,1,5,2,1,3,4,2,1,2,1,2,1,2,1,2,1,1,1,3,1,1,2,3,3,1,1,2,1,2,1,1,2,2,1,3,2,3,2,2,2,2,3,2,4,1,2,1,2,2,1,2,1,2,3,1,3,2,3,4,1,1,3,1,2,1,2,2,1,1,2,1,1,2,3,2,1,2,1,2,1,1,1,2,2,1,1,2,1,4,3,2,1,2,1,1,1,1,2,2,2,2,2,1,1,1,2,1,2,1,2,1,2,2,2,2,2,2,1,3,1,2,1,3,1,2,2,2,1,2,3,2,2,1,1,2,4,1,1,2,1,2,3,1,3,1,1,2,2,2,2,1,2,2,2,3,1,2,1,2,1,1,1,1,4,2,2,2,2,1,1,1,2,2,1,1,3,3,1,2,4,2,3,1,1,1,2,1,2,2,2,2,2,1,3,1,2,1,3,2,2,2,2,2,2,2,1,2,3,3,2,3,3,2,2,1,2,3,3,4,2,3,2,1,1,1,3,1,1,1,1,2,1,3,1,1,2,1,1,1,2,2,2,1,2,4,2,3,1,2,2,2,1,1,2,2,1,1,1,5,1,3,2,2,1,1,3,3,3,4,3,3,4,3,3,2,1,1,2,3,2,2,2,1,3,3,1,1,2,2,2,4,2,2,1,1,2,2,3,2,1,1,2,1,4,1,1,1,2,1,2,2,1,1,1,1,1,4,1,1,2,3,1,1,2,1,1,2,2,2,1,2,2,1,1,1,1,2,2,1,1,2,1,1,3,1,2,1,2,3,2,2,2,5,1,1,2,1,4,3,1,1,1,1,1,4,1,2,1,2,2,3,1,3,2,2,2,1,3,1,2,1,2,2,2,2,2,1,2,2,2,1,1,1,2,2,1,4,3,1,2,2,2,1,2,1,1,2,1,2,3,1,2,2,2,2,1,1,1,2,3,2,2,1,1,3,4,2,2,3,2,3,1,1,2,1,1,1,3,1,1,2,2,2,2,3,3,2,6,7,4,5,6,1,2,2,2,2,3,2,4,1,2,2,2,1,1,4,1,2,1,2,3,1,1,2,1,2,1,3,2,2,1,2,1,1,1,1,1,1,2,2,1,1,1,1,2,2,1,1,1,1,1,2,2,2,2,3,2,1,1,1,2,2,4,4,1,1,1,2,1,3,2,3,1,3,4,2,2,3,2,2,1,1,3,5,2,3,1,1,2,2,1,2,1,1,1,2,1,2,2,2,2,1,2,2,1,1,1,1,2,2,1,3,3,1,1,3,2,1,2,1,1,2,1,3,1,3,2,1,1,1,2,2,2,2,1,1,2,2,2,2,3,4,1,2,2,3,3,2,2,2,2,3,2,2,1,2,2,2,1,2,1,1,1,4,2,2,1,1,3,2,6,2,1,1,1,2,1,2,2,1,1,2,1,2,2,2,1,1,3,2,3,2,3,1,2,2,2,2,2,3,2,2,2,2,2,2,2,3,2,2,2,2,3,2,2,1,2,1,1,1,3,1,1,1,3,2,2,3,1,1,2,3,2,3,2,1,1,2,2,3,2,2,2,2,2,2,1,3,2,2,2,1,2,2,2,2,3,1,1,1,1,3,4,3,1,2,2,2,2,5,1,1,2,3,2,2,3,1,2,2,3,2,2,3,2,3,2,2,3,2,2,2,2,1,1,2,3,3,1,3,2,2,2,2,3,1,4,2,2,2,2,2,1,1,2,2,2,2,2,2,1,2,1,2,2,1,3,2,2,2,2,2,2,2,1,2,1,1,2,2,2,1,2,1,2,1,2,2,1,1,2,2,2,2,2,2,2,2,2,3,3,3,2,3,1,2,2,2,2,2,2,1,2,1,1,2,1,3,2,2,2,3,3,2,1,1,3,3,1,3,2,2,1,2,2,1,1,1,2,1,2,2,2,4,1,2,2,2,2,2,2,2,2,2,2,3,2,2,2,2,3,2,1,2,2,3,3,1,2,2,2,2,2,1,1,2,2,3,1,4,3,2,3,1,2,2,1,2,2,4,1,1,2,3,3,2,2,3,1,3,2,1,2,2,2,2,2,1,3,1,2,5,2,2,2,1,1,2,4,2,2,4,1,2,2,1,2,2,2,1,1,2,2,2,2,2,2,2,2,1,3,3,2,2,1,3,2,1,3,2,2,2,2,3,2,1,2,2,1,1,2,3,2,2,2,2,2,1,2,1,2,2,3,3,2,2,3,2,1,2,2,2,1,2,2,1,2,2,2,2,2,2,3,2,3,1,1,1,2,2,2,2,2,2,3,2,2,2,2,2,3,3,3,3,1,2,2,2,3,2,2,1,1,1,1,2,2,2,3,3,2,2,2,1,2,3,2,1,2,2,2,2,2,2,4,2,1,2,4,2,1,2,2,3,1,3,1,2,2,2,1,2,3,5,3,2,2,3,2,2,2,1,2,3,2,2,2,2,2,2,1,2,2,3,3,1,1,2,3,2,1,1,2,3,2,3,2,2,2,2,3,1,2,2,2,1,2,2,1,3,1,3,1,2,2,3,2,1,2,2,1,3,1,2,2,3,2,2,3,2,2,3,3,2,2,2,2,2,2,2,3,1,2,2,3,2,2,1,1,2,3,3,1,3,2,1,2,2,3,1,2,2,1,2,2,1,2,3,2,2,3,2,5,1,2,6,1,2,1,2,1,2,2,2,2,2,1,2,1,2,2,1,1,1,1,1,2,2,1,2,2,2,2,2,3,2,2,2,1,2,2,1,1,4,2,1,2,3,2,2,3,2,3,2,3,1,1,2,2,1,4,2,2,2,2,2,1,2,1,2,2,2,2,1,2,3,2,2,2,1,3,1,1,1,1,2,2,2,2,2,2,2,1,2,2,2,2,2,2,1,2,2,2,2,3,2,1,1,2,2,2,2,1,2,1,2,2,2,2,2,2,1,1,4,1,1,3,2,2,1,2,2,1,2,1,2,2,3,2,3,2,2,3,2,2,2,2,3,4,2,3,2,2,2,1,1,2,3,2,1,2,2,3,2,2,2,3,1,1,2,3,2,1,2,2,2,2,1,1,1,1,2,1,3,2,1,2,3,2,1,1,4,2,3,1,2,2,1,4,3,2,2,2,1,1,2,2,2,3,2,2,2,2,4,1,2,4,4,2,3,2,1,2,1,2,3,2,2,2,2,2,1,2,2,3,1,1,2,1,2,2,3,2,1,3,3,2,2,1,2,2,2,2,3,3,2,2,2,3,2,3,1,2,2,3,2,2,2,2,3,2,3,2,1,2,2,2,3,4,2,2,3,2,1,2,2,2,2,2,3,2,2,2,2,3,2,3,3,2,4,4,2,3,1,3,3,2,1,2,2,2,1,2,2,3,1,3,1,2,2,1,2,3,2,2,1,3,2,2,3,3,2,2,3,2,2,2,2,2,2,1,2,2,3,2,2,1,3,2,3,2,3,2,2,2,2,3,2,3,3,3,3,3,1,2,3,3,1,2,3,2,3,2,3,3,2,2,2,2,3,1,1,2,3,2,2,3,1,3,3,3,1,3,1,3,1,4,2,2,4,1,3,2,2,3,2,2,2,1,2,4,1,2,5,1,1,2,3,1,3,2,2,2,3,1,2,2,2,2,3,2,2,3,1,1,2,2,2,2,2,2,3,3,3,2,2,2,2,2,2,3,3,1,2,2,3,2,2,2,3,2,2,5,1,1,2,1,2,3,1,2,1,2,2,2,2,2,4,3,2,3,2,1,2,1,2,2,2,3,2,2,2,2,1,2,2,3,3,1,3,2,2,2,1,3,1,2,2,3,3,3,3,2,2,3,2,2,3,5,2,2,1,2,2,1,3,2,3,2,1,3,2,2,2,2,2,2,2,3,1,1,2,2,2,4,2,2,3,2,2,5,1,2,2,1,2,1,2,3,2,2,3,1,2,3,2,3,2,2,1,2,1,3,3,3,2,1,3,2,3,2,2,4,3,1,2,4,2,2,2,2,2,1,3,2,2,2,4,1,2,2,2,2,3,3,1,10,2,2,2,2,2,2,2,1,2,3,3,1,1,1,2,2,3,3,3,2,2,2,3,3,2,2,2,3,2,2,1,3,2,3,1,2,3,2,3,3,2,2,2,2,2,2,3,2,2,2,3,2,2,2,2,5,2,1,2,2,2,3,2,3,2,3,3,2,3,2,1,2,1,2,2,2,2,2,3,3,3,3,2,2,2,1,1,2,3,2,2,2,2,3,2,3,2,2,2,2,3,2,2,2,2,2,2,2,1,1,1,1,1,2,2,2,3,2,1,1,1,2,2,2,2,2,1,2,2,3,2,2,3,1,2,2,3,2,2,2,2,2,2,2,2,2,2,4,2,2,3,3,3,1,1,2,2,2,3,2,2,2,2,2,7,2,2,2,1,3,1,2,2,2,1,2,2,2,3,2,2,3,3,3,2,2,2,3,3,2,1,1,1,2,3,1,2,2,3,1,2,2,2,2,3,2,2,3,1,2,2,2,3,3,1,2,2,2,2,2,2,2,2,6,3,3,2,2,3,1,3,2,5,2,2,2,2,2,1,4,3,1,1,2,2,1,2,3,3,2,1,1,2,2,2,1,3,1,2,2,1,2,2,2,2,3,2,2,1,2,2,6,1,3,1,1,2,2,3,3,2,2,2,2,3,1,2,2,4,3,2,4,2,4,2,2,2,1,2,1,1,2,2,2,3,1,1,2,2,2,2,3,2,3,2,3,2,3,2,1,2,1,3,3,1,2,1,1,2,1,1,2,7,1,2,1,3,3,2,2,2,1,2,3,3,1,3,2,3,3,3,2,3,1,1,2,1,6,2,2,3,2,2,1,2,2,2,4,3,2,1,2,3,2,2,1,1,2,2,2,3,2,1,2,2,2,2,2,2,3,2,1,2,2,2,3,2,2,2,2,1,2,2,2,3,3,3,1,2,3,3,3,3,2,3,2,2,5,1,1,2,1,3,2,2,2,2,2,2,2,3,1,1,1,1,2,2,1,1,4,1,2,2,2,2,2,1,1,2,4,1,1,1,3,2,2,2,2,3,2,2,1,6,2,1,2,1,3,1,2,2,2,1,3,3,1,1,2,2,2,1,2,2,5,3,3,2,2,2,3,2,2,2,2,2,2,2,2,1,2,2,2,2,1,2,3,2,2,2,1,5,2,3,2,1,1,2,2,1,2,1,2,2,1,2,2,3,2,2,2,5,3,2,3,2,1,1,2,1,1,2,4,3,2,2,2,1,1,3,2,3,3,2,2,2,2,3,3,2,2],\"xaxis\":\"x\",\"yaxis\":\"y\",\"type\":\"histogram\"}],                        {\"template\":{\"data\":{\"histogram2dcontour\":[{\"type\":\"histogram2dcontour\",\"colorbar\":{\"outlinewidth\":0,\"ticks\":\"\"},\"colorscale\":[[0.0,\"#0d0887\"],[0.1111111111111111,\"#46039f\"],[0.2222222222222222,\"#7201a8\"],[0.3333333333333333,\"#9c179e\"],[0.4444444444444444,\"#bd3786\"],[0.5555555555555556,\"#d8576b\"],[0.6666666666666666,\"#ed7953\"],[0.7777777777777778,\"#fb9f3a\"],[0.8888888888888888,\"#fdca26\"],[1.0,\"#f0f921\"]]}],\"choropleth\":[{\"type\":\"choropleth\",\"colorbar\":{\"outlinewidth\":0,\"ticks\":\"\"}}],\"histogram2d\":[{\"type\":\"histogram2d\",\"colorbar\":{\"outlinewidth\":0,\"ticks\":\"\"},\"colorscale\":[[0.0,\"#0d0887\"],[0.1111111111111111,\"#46039f\"],[0.2222222222222222,\"#7201a8\"],[0.3333333333333333,\"#9c179e\"],[0.4444444444444444,\"#bd3786\"],[0.5555555555555556,\"#d8576b\"],[0.6666666666666666,\"#ed7953\"],[0.7777777777777778,\"#fb9f3a\"],[0.8888888888888888,\"#fdca26\"],[1.0,\"#f0f921\"]]}],\"heatmap\":[{\"type\":\"heatmap\",\"colorbar\":{\"outlinewidth\":0,\"ticks\":\"\"},\"colorscale\":[[0.0,\"#0d0887\"],[0.1111111111111111,\"#46039f\"],[0.2222222222222222,\"#7201a8\"],[0.3333333333333333,\"#9c179e\"],[0.4444444444444444,\"#bd3786\"],[0.5555555555555556,\"#d8576b\"],[0.6666666666666666,\"#ed7953\"],[0.7777777777777778,\"#fb9f3a\"],[0.8888888888888888,\"#fdca26\"],[1.0,\"#f0f921\"]]}],\"heatmapgl\":[{\"type\":\"heatmapgl\",\"colorbar\":{\"outlinewidth\":0,\"ticks\":\"\"},\"colorscale\":[[0.0,\"#0d0887\"],[0.1111111111111111,\"#46039f\"],[0.2222222222222222,\"#7201a8\"],[0.3333333333333333,\"#9c179e\"],[0.4444444444444444,\"#bd3786\"],[0.5555555555555556,\"#d8576b\"],[0.6666666666666666,\"#ed7953\"],[0.7777777777777778,\"#fb9f3a\"],[0.8888888888888888,\"#fdca26\"],[1.0,\"#f0f921\"]]}],\"contourcarpet\":[{\"type\":\"contourcarpet\",\"colorbar\":{\"outlinewidth\":0,\"ticks\":\"\"}}],\"contour\":[{\"type\":\"contour\",\"colorbar\":{\"outlinewidth\":0,\"ticks\":\"\"},\"colorscale\":[[0.0,\"#0d0887\"],[0.1111111111111111,\"#46039f\"],[0.2222222222222222,\"#7201a8\"],[0.3333333333333333,\"#9c179e\"],[0.4444444444444444,\"#bd3786\"],[0.5555555555555556,\"#d8576b\"],[0.6666666666666666,\"#ed7953\"],[0.7777777777777778,\"#fb9f3a\"],[0.8888888888888888,\"#fdca26\"],[1.0,\"#f0f921\"]]}],\"surface\":[{\"type\":\"surface\",\"colorbar\":{\"outlinewidth\":0,\"ticks\":\"\"},\"colorscale\":[[0.0,\"#0d0887\"],[0.1111111111111111,\"#46039f\"],[0.2222222222222222,\"#7201a8\"],[0.3333333333333333,\"#9c179e\"],[0.4444444444444444,\"#bd3786\"],[0.5555555555555556,\"#d8576b\"],[0.6666666666666666,\"#ed7953\"],[0.7777777777777778,\"#fb9f3a\"],[0.8888888888888888,\"#fdca26\"],[1.0,\"#f0f921\"]]}],\"mesh3d\":[{\"type\":\"mesh3d\",\"colorbar\":{\"outlinewidth\":0,\"ticks\":\"\"}}],\"scatter\":[{\"fillpattern\":{\"fillmode\":\"overlay\",\"size\":10,\"solidity\":0.2},\"type\":\"scatter\"}],\"parcoords\":[{\"type\":\"parcoords\",\"line\":{\"colorbar\":{\"outlinewidth\":0,\"ticks\":\"\"}}}],\"scatterpolargl\":[{\"type\":\"scatterpolargl\",\"marker\":{\"colorbar\":{\"outlinewidth\":0,\"ticks\":\"\"}}}],\"bar\":[{\"error_x\":{\"color\":\"#2a3f5f\"},\"error_y\":{\"color\":\"#2a3f5f\"},\"marker\":{\"line\":{\"color\":\"#E5ECF6\",\"width\":0.5},\"pattern\":{\"fillmode\":\"overlay\",\"size\":10,\"solidity\":0.2}},\"type\":\"bar\"}],\"scattergeo\":[{\"type\":\"scattergeo\",\"marker\":{\"colorbar\":{\"outlinewidth\":0,\"ticks\":\"\"}}}],\"scatterpolar\":[{\"type\":\"scatterpolar\",\"marker\":{\"colorbar\":{\"outlinewidth\":0,\"ticks\":\"\"}}}],\"histogram\":[{\"marker\":{\"pattern\":{\"fillmode\":\"overlay\",\"size\":10,\"solidity\":0.2}},\"type\":\"histogram\"}],\"scattergl\":[{\"type\":\"scattergl\",\"marker\":{\"colorbar\":{\"outlinewidth\":0,\"ticks\":\"\"}}}],\"scatter3d\":[{\"type\":\"scatter3d\",\"line\":{\"colorbar\":{\"outlinewidth\":0,\"ticks\":\"\"}},\"marker\":{\"colorbar\":{\"outlinewidth\":0,\"ticks\":\"\"}}}],\"scattermapbox\":[{\"type\":\"scattermapbox\",\"marker\":{\"colorbar\":{\"outlinewidth\":0,\"ticks\":\"\"}}}],\"scatterternary\":[{\"type\":\"scatterternary\",\"marker\":{\"colorbar\":{\"outlinewidth\":0,\"ticks\":\"\"}}}],\"scattercarpet\":[{\"type\":\"scattercarpet\",\"marker\":{\"colorbar\":{\"outlinewidth\":0,\"ticks\":\"\"}}}],\"carpet\":[{\"aaxis\":{\"endlinecolor\":\"#2a3f5f\",\"gridcolor\":\"white\",\"linecolor\":\"white\",\"minorgridcolor\":\"white\",\"startlinecolor\":\"#2a3f5f\"},\"baxis\":{\"endlinecolor\":\"#2a3f5f\",\"gridcolor\":\"white\",\"linecolor\":\"white\",\"minorgridcolor\":\"white\",\"startlinecolor\":\"#2a3f5f\"},\"type\":\"carpet\"}],\"table\":[{\"cells\":{\"fill\":{\"color\":\"#EBF0F8\"},\"line\":{\"color\":\"white\"}},\"header\":{\"fill\":{\"color\":\"#C8D4E3\"},\"line\":{\"color\":\"white\"}},\"type\":\"table\"}],\"barpolar\":[{\"marker\":{\"line\":{\"color\":\"#E5ECF6\",\"width\":0.5},\"pattern\":{\"fillmode\":\"overlay\",\"size\":10,\"solidity\":0.2}},\"type\":\"barpolar\"}],\"pie\":[{\"automargin\":true,\"type\":\"pie\"}]},\"layout\":{\"autotypenumbers\":\"strict\",\"colorway\":[\"#636efa\",\"#EF553B\",\"#00cc96\",\"#ab63fa\",\"#FFA15A\",\"#19d3f3\",\"#FF6692\",\"#B6E880\",\"#FF97FF\",\"#FECB52\"],\"font\":{\"color\":\"#2a3f5f\"},\"hovermode\":\"closest\",\"hoverlabel\":{\"align\":\"left\"},\"paper_bgcolor\":\"white\",\"plot_bgcolor\":\"#E5ECF6\",\"polar\":{\"bgcolor\":\"#E5ECF6\",\"angularaxis\":{\"gridcolor\":\"white\",\"linecolor\":\"white\",\"ticks\":\"\"},\"radialaxis\":{\"gridcolor\":\"white\",\"linecolor\":\"white\",\"ticks\":\"\"}},\"ternary\":{\"bgcolor\":\"#E5ECF6\",\"aaxis\":{\"gridcolor\":\"white\",\"linecolor\":\"white\",\"ticks\":\"\"},\"baxis\":{\"gridcolor\":\"white\",\"linecolor\":\"white\",\"ticks\":\"\"},\"caxis\":{\"gridcolor\":\"white\",\"linecolor\":\"white\",\"ticks\":\"\"}},\"coloraxis\":{\"colorbar\":{\"outlinewidth\":0,\"ticks\":\"\"}},\"colorscale\":{\"sequential\":[[0.0,\"#0d0887\"],[0.1111111111111111,\"#46039f\"],[0.2222222222222222,\"#7201a8\"],[0.3333333333333333,\"#9c179e\"],[0.4444444444444444,\"#bd3786\"],[0.5555555555555556,\"#d8576b\"],[0.6666666666666666,\"#ed7953\"],[0.7777777777777778,\"#fb9f3a\"],[0.8888888888888888,\"#fdca26\"],[1.0,\"#f0f921\"]],\"sequentialminus\":[[0.0,\"#0d0887\"],[0.1111111111111111,\"#46039f\"],[0.2222222222222222,\"#7201a8\"],[0.3333333333333333,\"#9c179e\"],[0.4444444444444444,\"#bd3786\"],[0.5555555555555556,\"#d8576b\"],[0.6666666666666666,\"#ed7953\"],[0.7777777777777778,\"#fb9f3a\"],[0.8888888888888888,\"#fdca26\"],[1.0,\"#f0f921\"]],\"diverging\":[[0,\"#8e0152\"],[0.1,\"#c51b7d\"],[0.2,\"#de77ae\"],[0.3,\"#f1b6da\"],[0.4,\"#fde0ef\"],[0.5,\"#f7f7f7\"],[0.6,\"#e6f5d0\"],[0.7,\"#b8e186\"],[0.8,\"#7fbc41\"],[0.9,\"#4d9221\"],[1,\"#276419\"]]},\"xaxis\":{\"gridcolor\":\"white\",\"linecolor\":\"white\",\"ticks\":\"\",\"title\":{\"standoff\":15},\"zerolinecolor\":\"white\",\"automargin\":true,\"zerolinewidth\":2},\"yaxis\":{\"gridcolor\":\"white\",\"linecolor\":\"white\",\"ticks\":\"\",\"title\":{\"standoff\":15},\"zerolinecolor\":\"white\",\"automargin\":true,\"zerolinewidth\":2},\"scene\":{\"xaxis\":{\"backgroundcolor\":\"#E5ECF6\",\"gridcolor\":\"white\",\"linecolor\":\"white\",\"showbackground\":true,\"ticks\":\"\",\"zerolinecolor\":\"white\",\"gridwidth\":2},\"yaxis\":{\"backgroundcolor\":\"#E5ECF6\",\"gridcolor\":\"white\",\"linecolor\":\"white\",\"showbackground\":true,\"ticks\":\"\",\"zerolinecolor\":\"white\",\"gridwidth\":2},\"zaxis\":{\"backgroundcolor\":\"#E5ECF6\",\"gridcolor\":\"white\",\"linecolor\":\"white\",\"showbackground\":true,\"ticks\":\"\",\"zerolinecolor\":\"white\",\"gridwidth\":2}},\"shapedefaults\":{\"line\":{\"color\":\"#2a3f5f\"}},\"annotationdefaults\":{\"arrowcolor\":\"#2a3f5f\",\"arrowhead\":0,\"arrowwidth\":1},\"geo\":{\"bgcolor\":\"white\",\"landcolor\":\"#E5ECF6\",\"subunitcolor\":\"white\",\"showland\":true,\"showlakes\":true,\"lakecolor\":\"white\"},\"title\":{\"x\":0.05},\"mapbox\":{\"style\":\"light\"}}},\"xaxis\":{\"anchor\":\"y\",\"domain\":[0.0,1.0],\"title\":{\"text\":\"Bathroom\"}},\"yaxis\":{\"anchor\":\"x\",\"domain\":[0.0,1.0],\"title\":{\"text\":\"count\"}},\"legend\":{\"tracegroupgap\":0},\"margin\":{\"t\":60},\"barmode\":\"relative\"},                        {\"responsive\": true}                    ).then(function(){\n",
       "                            \n",
       "var gd = document.getElementById('f7e0f7c0-d6a8-45ab-9f53-5857b3122b9a');\n",
       "var x = new MutationObserver(function (mutations, observer) {{\n",
       "        var display = window.getComputedStyle(gd).display;\n",
       "        if (!display || display === 'none') {{\n",
       "            console.log([gd, 'removed!']);\n",
       "            Plotly.purge(gd);\n",
       "            observer.disconnect();\n",
       "        }}\n",
       "}});\n",
       "\n",
       "// Listen for the removal of the full notebook cells\n",
       "var notebookContainer = gd.closest('#notebook-container');\n",
       "if (notebookContainer) {{\n",
       "    x.observe(notebookContainer, {childList: true});\n",
       "}}\n",
       "\n",
       "// Listen for the clearing of the current output cell\n",
       "var outputEl = gd.closest('.output');\n",
       "if (outputEl) {{\n",
       "    x.observe(outputEl, {childList: true});\n",
       "}}\n",
       "\n",
       "                        })                };                });            </script>        </div>"
      ]
     },
     "metadata": {},
     "output_type": "display_data"
    }
   ],
   "source": [
    "px.histogram(data, x=\"Bathroom\", color_discrete_sequence=['seagreen'])"
   ]
  },
  {
   "cell_type": "markdown",
   "id": "55153506",
   "metadata": {
    "papermill": {
     "duration": 0.016694,
     "end_time": "2022-09-25T21:48:16.926754",
     "exception": false,
     "start_time": "2022-09-25T21:48:16.910060",
     "status": "completed"
    },
    "tags": []
   },
   "source": [
    "<h4 style=\"background-color:rgb(244,164,96);padding:10px 10px 10px;border-radius:5px 25px 25px 5px;width:350px\">Distribution of the Total Floors in building"
   ]
  },
  {
   "cell_type": "code",
   "execution_count": 17,
   "id": "45ed597d",
   "metadata": {
    "_kg_hide-input": true,
    "_kg_hide-output": true,
    "execution": {
     "iopub.execute_input": "2022-09-25T21:48:16.963291Z",
     "iopub.status.busy": "2022-09-25T21:48:16.962847Z",
     "iopub.status.idle": "2022-09-25T21:48:16.996312Z",
     "shell.execute_reply": "2022-09-25T21:48:16.995257Z"
    },
    "papermill": {
     "duration": 0.054342,
     "end_time": "2022-09-25T21:48:16.998573",
     "exception": false,
     "start_time": "2022-09-25T21:48:16.944231",
     "status": "completed"
    },
    "tags": []
   },
   "outputs": [
    {
     "name": "stdout",
     "output_type": "stream",
     "text": [
      "['2022-05-18' '2022-05-13' '2022-05-16' '2022-07-04' '2022-05-09'\n",
      " '2022-04-29' '2022-06-21' '2022-06-07' '2022-06-20' '2022-05-23'\n",
      " '2022-05-14' '2022-05-05' '2022-06-01' '2022-05-17' '2022-06-09'\n",
      " '2022-07-02' '2022-06-14' '2022-06-15' '2022-05-28' '2022-05-22'\n",
      " '2022-06-18' '2022-06-25' '2022-06-22' '2022-05-21' '2022-06-26'\n",
      " '2022-06-16' '2022-06-29' '2022-05-10' '2022-05-12' '2022-06-03'\n",
      " '2022-05-31' '2022-06-10' '2022-06-24' '2022-04-30' '2022-05-27'\n",
      " '2022-06-06' '2022-05-20' '2022-05-26' '2022-07-03' '2022-04-23'\n",
      " '2022-06-19' '2022-07-06' '2022-06-04' '2022-05-30' '2022-06-08'\n",
      " '2022-05-03' '2022-05-07' '2022-06-27' '2022-05-15' '2022-04-28'\n",
      " '2022-06-28' '2022-06-23' '2022-06-13' '2022-05-04' '2022-04-25'\n",
      " '2022-05-06' '2022-06-30' '2022-07-01' '2022-06-17' '2022-06-11'\n",
      " '2022-05-11' '2022-06-12' '2022-06-05' '2022-05-25' '2022-05-24'\n",
      " '2022-05-19' '2022-04-24' '2022-04-27' '2022-05-08' '2022-04-26'\n",
      " '2022-06-02' '2022-05-29' '2022-07-07' '2022-07-08' '2022-07-09'\n",
      " '2022-07-05' '2022-05-01' '2022-04-13' '2022-05-02' '2022-07-10'\n",
      " '2022-07-11'] \n",
      "\n",
      "['Ground' '1' '2' '4' '3' '5' '7' '8' 'Upper' '11' 'Lower' '6' '14' '43'\n",
      " '13' '18' '17' '9' '19' '60' '34' '12' '26' '25' '53' '16' '10' '39' '32'\n",
      " '47' '28' '20' '15' '65' '40' '37' '22' '21' '30' '35' '33' '44' '41'\n",
      " '46' '27' '45' '48' '50' '24' '23' '29' '49' '36' '76'] \n",
      "\n",
      "['Super Area' 'Carpet Area' 'Built Area'] \n",
      "\n",
      "['Kolkata' 'Mumbai' 'Bangalore' 'Delhi' 'Chennai' 'Hyderabad'] \n",
      "\n",
      "['Unfurnished' 'Semi-Furnished' 'Furnished'] \n",
      "\n",
      "['Bachelors/Family' 'Bachelors' 'Family'] \n",
      "\n",
      "['Contact Owner' 'Contact Agent' 'Contact Builder'] \n",
      "\n",
      "['2' '3' '1' '4' '5' '14' '8' '6' '19' '10' '7' '13' '78' '18' '12' '24'\n",
      " '31' '21' '23' '20' '9' '22' '58' '16' '66' '48' '40' '44' '42' '41' '60'\n",
      " '32' '30' '29' '89' '15' '11' '28' '17' '45' '35' '75' '38' '51' '43'\n",
      " '25' '27' '26' '76' '36' '37' '55' '68' '77' '50' '59' '62' '39' '52'\n",
      " '54' '33' '46' '85' '71' '81' '34' 'Ground'] \n",
      "\n"
     ]
    },
    {
     "data": {
      "text/html": [
       "<div>\n",
       "<style scoped>\n",
       "    .dataframe tbody tr th:only-of-type {\n",
       "        vertical-align: middle;\n",
       "    }\n",
       "\n",
       "    .dataframe tbody tr th {\n",
       "        vertical-align: top;\n",
       "    }\n",
       "\n",
       "    .dataframe thead th {\n",
       "        text-align: right;\n",
       "    }\n",
       "</style>\n",
       "<table border=\"1\" class=\"dataframe\">\n",
       "  <thead>\n",
       "    <tr style=\"text-align: right;\">\n",
       "      <th></th>\n",
       "      <th>Posted On</th>\n",
       "      <th>BHK</th>\n",
       "      <th>Rent</th>\n",
       "      <th>Size</th>\n",
       "      <th>Floor</th>\n",
       "      <th>Area Type</th>\n",
       "      <th>City</th>\n",
       "      <th>Furnishing Status</th>\n",
       "      <th>Tenant Preferred</th>\n",
       "      <th>Bathroom</th>\n",
       "      <th>Point of Contact</th>\n",
       "      <th>Total Floors</th>\n",
       "    </tr>\n",
       "  </thead>\n",
       "  <tbody>\n",
       "    <tr>\n",
       "      <th>0</th>\n",
       "      <td>2022-05-18</td>\n",
       "      <td>2</td>\n",
       "      <td>10000</td>\n",
       "      <td>1100</td>\n",
       "      <td>0</td>\n",
       "      <td>Super Area</td>\n",
       "      <td>Kolkata</td>\n",
       "      <td>Unfurnished</td>\n",
       "      <td>Bachelors/Family</td>\n",
       "      <td>2</td>\n",
       "      <td>Contact Owner</td>\n",
       "      <td>2</td>\n",
       "    </tr>\n",
       "    <tr>\n",
       "      <th>1</th>\n",
       "      <td>2022-05-13</td>\n",
       "      <td>2</td>\n",
       "      <td>20000</td>\n",
       "      <td>800</td>\n",
       "      <td>1</td>\n",
       "      <td>Super Area</td>\n",
       "      <td>Kolkata</td>\n",
       "      <td>Semi-Furnished</td>\n",
       "      <td>Bachelors/Family</td>\n",
       "      <td>1</td>\n",
       "      <td>Contact Owner</td>\n",
       "      <td>3</td>\n",
       "    </tr>\n",
       "    <tr>\n",
       "      <th>2</th>\n",
       "      <td>2022-05-16</td>\n",
       "      <td>2</td>\n",
       "      <td>17000</td>\n",
       "      <td>1000</td>\n",
       "      <td>1</td>\n",
       "      <td>Super Area</td>\n",
       "      <td>Kolkata</td>\n",
       "      <td>Semi-Furnished</td>\n",
       "      <td>Bachelors/Family</td>\n",
       "      <td>1</td>\n",
       "      <td>Contact Owner</td>\n",
       "      <td>3</td>\n",
       "    </tr>\n",
       "    <tr>\n",
       "      <th>3</th>\n",
       "      <td>2022-07-04</td>\n",
       "      <td>2</td>\n",
       "      <td>10000</td>\n",
       "      <td>800</td>\n",
       "      <td>1</td>\n",
       "      <td>Super Area</td>\n",
       "      <td>Kolkata</td>\n",
       "      <td>Unfurnished</td>\n",
       "      <td>Bachelors/Family</td>\n",
       "      <td>1</td>\n",
       "      <td>Contact Owner</td>\n",
       "      <td>2</td>\n",
       "    </tr>\n",
       "    <tr>\n",
       "      <th>4</th>\n",
       "      <td>2022-05-09</td>\n",
       "      <td>2</td>\n",
       "      <td>7500</td>\n",
       "      <td>850</td>\n",
       "      <td>1</td>\n",
       "      <td>Carpet Area</td>\n",
       "      <td>Kolkata</td>\n",
       "      <td>Unfurnished</td>\n",
       "      <td>Bachelors</td>\n",
       "      <td>1</td>\n",
       "      <td>Contact Owner</td>\n",
       "      <td>2</td>\n",
       "    </tr>\n",
       "  </tbody>\n",
       "</table>\n",
       "</div>"
      ],
      "text/plain": [
       "    Posted On  BHK   Rent  Size Floor    Area Type     City Furnishing Status  \\\n",
       "0  2022-05-18    2  10000  1100     0   Super Area  Kolkata       Unfurnished   \n",
       "1  2022-05-13    2  20000   800     1   Super Area  Kolkata    Semi-Furnished   \n",
       "2  2022-05-16    2  17000  1000     1   Super Area  Kolkata    Semi-Furnished   \n",
       "3  2022-07-04    2  10000   800     1   Super Area  Kolkata       Unfurnished   \n",
       "4  2022-05-09    2   7500   850     1  Carpet Area  Kolkata       Unfurnished   \n",
       "\n",
       "   Tenant Preferred  Bathroom Point of Contact Total Floors  \n",
       "0  Bachelors/Family         2    Contact Owner            2  \n",
       "1  Bachelors/Family         1    Contact Owner            3  \n",
       "2  Bachelors/Family         1    Contact Owner            3  \n",
       "3  Bachelors/Family         1    Contact Owner            2  \n",
       "4         Bachelors         1    Contact Owner            2  "
      ]
     },
     "execution_count": 17,
     "metadata": {},
     "output_type": "execute_result"
    }
   ],
   "source": [
    "df1 = data.select_dtypes('O')\n",
    "[print(df1.iloc[:, i].unique(), '\\n') for i in range(len(df1.columns))]\n",
    "\n",
    "encodes = {\"Floor\":     {\"Ground\": 0, \"Upper\": 999, \"Lower\": -1},\n",
    "           \"Total Floors\": {\"Ground\": 0}}\n",
    "\n",
    "data = data.replace(encodes)\n",
    "data.head()"
   ]
  },
  {
   "cell_type": "code",
   "execution_count": 18,
   "id": "f2c73d3f",
   "metadata": {
    "_kg_hide-input": true,
    "_kg_hide-output": true,
    "execution": {
     "iopub.execute_input": "2022-09-25T21:48:17.035726Z",
     "iopub.status.busy": "2022-09-25T21:48:17.035327Z",
     "iopub.status.idle": "2022-09-25T21:48:17.096783Z",
     "shell.execute_reply": "2022-09-25T21:48:17.095503Z"
    },
    "papermill": {
     "duration": 0.082835,
     "end_time": "2022-09-25T21:48:17.099282",
     "exception": false,
     "start_time": "2022-09-25T21:48:17.016447",
     "status": "completed"
    },
    "tags": []
   },
   "outputs": [
    {
     "name": "stdout",
     "output_type": "stream",
     "text": [
      "2883     0\n",
      "3769     1\n",
      "353      1\n",
      "3699     1\n",
      "351      1\n",
      "        ..\n",
      "651     78\n",
      "579     78\n",
      "1482    81\n",
      "1425    85\n",
      "601     89\n",
      "Name: Total Floors, Length: 4746, dtype: int64\n"
     ]
    },
    {
     "data": {
      "text/html": [
       "<div>                            <div id=\"203e53a1-11a7-4662-ac76-6efa16270cc1\" class=\"plotly-graph-div\" style=\"height:525px; width:100%;\"></div>            <script type=\"text/javascript\">                require([\"plotly\"], function(Plotly) {                    window.PLOTLYENV=window.PLOTLYENV || {};                                    if (document.getElementById(\"203e53a1-11a7-4662-ac76-6efa16270cc1\")) {                    Plotly.newPlot(                        \"203e53a1-11a7-4662-ac76-6efa16270cc1\",                        [{\"alignmentgroup\":\"True\",\"bingroup\":\"x\",\"hovertemplate\":\"Total Floors=%{x}<br>count=%{y}<extra></extra>\",\"legendgroup\":\"\",\"marker\":{\"color\":\"orangered\",\"pattern\":{\"shape\":\"\"}},\"name\":\"\",\"offsetgroup\":\"\",\"orientation\":\"v\",\"showlegend\":false,\"x\":[0,1,1,1,1,1,1,1,1,1,1,1,1,1,1,1,1,1,1,1,1,1,1,1,1,1,1,1,1,1,1,1,1,1,1,1,1,1,1,1,1,1,1,1,1,1,1,1,1,1,1,1,1,1,1,1,1,1,1,1,1,1,1,1,1,1,1,1,1,1,1,1,1,1,1,1,1,1,1,1,1,1,1,1,1,1,1,1,1,1,1,1,1,1,1,1,1,1,1,1,1,1,1,1,1,1,1,1,1,1,1,1,1,1,1,1,1,1,1,1,1,1,1,1,1,1,1,1,1,1,1,1,1,1,1,1,1,1,1,1,1,1,1,1,1,1,1,1,1,1,1,1,1,1,1,1,1,1,1,1,1,1,1,1,1,1,1,1,1,1,1,1,1,1,1,1,1,1,1,1,1,1,1,1,1,1,1,1,1,1,1,1,1,1,1,1,1,1,1,1,1,1,1,1,1,1,1,1,1,1,1,1,1,1,1,1,1,1,1,1,1,1,1,1,1,1,1,1,1,1,1,1,1,1,1,1,1,1,1,1,1,1,1,1,1,1,1,1,1,1,1,1,1,1,1,1,1,1,1,1,1,1,1,1,1,1,1,1,1,1,1,1,1,1,1,1,1,1,1,1,1,1,1,1,1,1,1,1,1,1,1,1,1,1,1,1,1,1,1,1,1,1,1,1,1,1,1,1,1,1,1,1,1,1,1,1,1,1,1,1,1,1,1,1,1,1,1,1,1,1,1,1,1,1,1,1,2,2,2,2,2,2,2,2,2,2,2,2,2,2,2,2,2,2,2,2,2,2,2,2,2,2,2,2,2,2,2,2,2,2,2,2,2,2,2,2,2,2,2,2,2,2,2,2,2,2,2,2,2,2,2,2,2,2,2,2,2,2,2,2,2,2,2,2,2,2,2,2,2,2,2,2,2,2,2,2,2,2,2,2,2,2,2,2,2,2,2,2,2,2,2,2,2,2,2,2,2,2,2,2,2,2,2,2,2,2,2,2,2,2,2,2,2,2,2,2,2,2,2,2,2,2,2,2,2,2,2,2,2,2,2,2,2,2,2,2,2,2,2,2,2,2,2,2,2,2,2,2,2,2,2,2,2,2,2,2,2,2,2,2,2,2,2,2,2,2,2,2,2,2,2,2,2,2,2,2,2,2,2,2,2,2,2,2,2,2,2,2,2,2,2,2,2,2,2,2,2,2,2,2,2,2,2,2,2,2,2,2,2,2,2,2,2,2,2,2,2,2,2,2,2,2,2,2,2,2,2,2,2,2,2,2,2,2,2,2,2,2,2,2,2,2,2,2,2,2,2,2,2,2,2,2,2,2,2,2,2,2,2,2,2,2,2,2,2,2,2,2,2,2,2,2,2,2,2,2,2,2,2,2,2,2,2,2,2,2,2,2,2,2,2,2,2,2,2,2,2,2,2,2,2,2,2,2,2,2,2,2,2,2,2,2,2,2,2,2,2,2,2,2,2,2,2,2,2,2,2,2,2,2,2,2,2,2,2,2,2,2,2,2,2,2,2,2,2,2,2,2,2,2,2,2,2,2,2,2,2,2,2,2,2,2,2,2,2,2,2,2,2,2,2,2,2,2,2,2,2,2,2,2,2,2,2,2,2,2,2,2,2,2,2,2,2,2,2,2,2,2,2,2,2,2,2,2,2,2,2,2,2,2,2,2,2,2,2,2,2,2,2,2,2,2,2,2,2,2,2,2,2,2,2,2,2,2,2,2,2,2,2,2,2,2,2,2,2,2,2,2,2,2,2,2,2,2,2,2,2,2,2,2,2,2,2,2,2,2,2,2,2,2,2,2,2,2,2,2,2,2,2,2,2,2,2,2,2,2,2,2,2,2,2,2,2,2,2,2,2,2,2,2,2,2,2,2,2,2,2,2,2,2,2,2,2,2,2,2,2,2,2,2,2,2,2,2,2,2,2,2,2,2,2,2,2,2,2,2,2,2,2,2,2,2,2,2,2,2,2,2,2,2,2,2,2,2,2,2,2,2,2,2,2,2,2,2,2,2,2,2,2,2,2,2,2,2,2,2,2,2,2,2,2,2,2,2,2,2,2,2,2,2,2,2,2,2,2,2,2,2,2,2,2,2,2,2,2,2,2,2,2,2,2,2,2,2,2,2,2,2,2,2,2,2,2,2,2,2,2,2,2,2,2,2,2,2,2,2,2,2,2,2,2,2,2,2,2,2,2,2,2,2,2,2,2,2,2,2,2,2,2,2,2,2,2,2,2,2,2,2,2,2,2,2,2,2,2,2,2,2,2,2,2,2,2,2,2,2,2,2,2,2,2,2,2,2,2,2,2,2,2,2,2,2,2,2,2,2,2,2,2,2,2,2,2,2,2,2,2,2,2,2,2,2,2,2,2,2,2,2,2,2,2,2,2,2,2,2,2,2,2,2,2,2,2,2,2,2,2,2,2,2,2,2,2,2,2,2,2,2,2,2,2,2,2,2,2,2,2,2,2,2,2,2,2,2,2,2,2,2,2,2,2,2,2,2,2,2,2,2,2,2,2,2,2,2,2,2,2,2,2,2,2,2,2,2,2,2,2,2,2,2,2,2,2,2,2,2,2,2,2,2,2,2,2,2,2,2,2,2,2,2,2,2,2,2,2,2,2,2,2,2,2,2,2,2,2,2,2,2,2,2,2,2,2,2,2,2,2,2,2,2,2,2,2,2,3,3,3,3,3,3,3,3,3,3,3,3,3,3,3,3,3,3,3,3,3,3,3,3,3,3,3,3,3,3,3,3,3,3,3,3,3,3,3,3,3,3,3,3,3,3,3,3,3,3,3,3,3,3,3,3,3,3,3,3,3,3,3,3,3,3,3,3,3,3,3,3,3,3,3,3,3,3,3,3,3,3,3,3,3,3,3,3,3,3,3,3,3,3,3,3,3,3,3,3,3,3,3,3,3,3,3,3,3,3,3,3,3,3,3,3,3,3,3,3,3,3,3,3,3,3,3,3,3,3,3,3,3,3,3,3,3,3,3,3,3,3,3,3,3,3,3,3,3,3,3,3,3,3,3,3,3,3,3,3,3,3,3,3,3,3,3,3,3,3,3,3,3,3,3,3,3,3,3,3,3,3,3,3,3,3,3,3,3,3,3,3,3,3,3,3,3,3,3,3,3,3,3,3,3,3,3,3,3,3,3,3,3,3,3,3,3,3,3,3,3,3,3,3,3,3,3,3,3,3,3,3,3,3,3,3,3,3,3,3,3,3,3,3,3,3,3,3,3,3,3,3,3,3,3,3,3,3,3,3,3,3,3,3,3,3,3,3,3,3,3,3,3,3,3,3,3,3,3,3,3,3,3,3,3,3,3,3,3,3,3,3,3,3,3,3,3,3,3,3,3,3,3,3,3,3,3,3,3,3,3,3,3,3,3,3,3,3,3,3,3,3,3,3,3,3,3,3,3,3,3,3,3,3,3,3,3,3,3,3,3,3,3,3,3,3,3,3,3,3,3,3,3,3,3,3,3,3,3,3,3,3,3,3,3,3,3,3,3,3,3,3,3,3,3,3,3,3,3,3,3,3,3,3,3,3,3,3,3,3,3,3,3,3,3,3,3,3,3,3,3,3,3,3,3,3,3,3,3,3,3,3,3,3,3,3,3,3,3,3,3,3,3,3,3,3,3,3,3,3,3,3,3,3,3,3,3,3,3,3,3,3,3,3,3,3,3,3,3,3,3,3,3,3,3,3,3,3,3,3,3,3,3,3,3,3,3,3,3,3,3,3,3,3,3,3,3,3,3,3,3,3,3,3,3,3,3,3,3,3,3,3,3,3,3,3,3,3,3,3,3,3,3,3,3,3,3,3,3,3,3,3,3,3,3,3,3,3,3,3,3,3,3,3,3,3,3,3,3,3,3,3,3,3,3,3,3,3,3,3,3,3,3,3,3,3,3,3,3,3,3,3,3,3,3,3,3,3,3,3,3,3,3,3,3,3,3,3,3,3,3,3,3,3,3,3,3,3,3,3,3,3,3,3,3,3,3,3,3,3,3,3,3,3,3,3,3,3,3,3,3,3,3,3,3,3,3,3,3,3,3,3,3,3,3,3,3,3,3,3,3,3,3,3,3,3,3,3,3,3,3,3,3,3,3,3,3,3,3,3,3,3,3,3,3,3,3,3,3,3,3,3,3,3,3,3,3,3,3,3,3,3,3,3,3,3,3,3,3,3,3,3,3,3,3,3,3,3,3,3,3,3,3,3,3,3,3,3,3,3,3,3,3,3,3,3,3,3,3,3,3,3,3,3,3,3,3,3,3,3,3,3,3,3,3,3,3,3,3,3,3,3,3,3,3,3,3,3,3,3,3,3,3,3,3,3,3,3,3,3,3,3,3,3,3,3,3,3,3,3,3,3,3,3,3,3,3,3,3,3,3,3,3,3,3,3,3,3,3,3,3,3,3,3,3,3,3,3,3,3,3,3,3,3,3,3,3,3,3,3,3,3,3,3,3,3,3,3,3,3,3,3,3,3,3,3,3,3,3,3,3,3,3,3,3,3,3,3,3,3,3,3,3,3,3,3,3,3,3,3,3,3,3,3,3,3,3,3,3,3,3,3,3,3,3,3,3,3,3,3,3,3,3,3,3,3,3,3,3,3,3,3,3,3,3,3,3,3,3,3,3,3,3,3,3,3,3,3,3,3,3,3,3,3,3,3,3,3,3,3,3,3,3,3,3,3,3,3,3,3,3,3,3,3,3,3,3,3,3,3,3,3,3,3,3,4,4,4,4,4,4,4,4,4,4,4,4,4,4,4,4,4,4,4,4,4,4,4,4,4,4,4,4,4,4,4,4,4,4,4,4,4,4,4,4,4,4,4,4,4,4,4,4,4,4,4,4,4,4,4,4,4,4,4,4,4,4,4,4,4,4,4,4,4,4,4,4,4,4,4,4,4,4,4,4,4,4,4,4,4,4,4,4,4,4,4,4,4,4,4,4,4,4,4,4,4,4,4,4,4,4,4,4,4,4,4,4,4,4,4,4,4,4,4,4,4,4,4,4,4,4,4,4,4,4,4,4,4,4,4,4,4,4,4,4,4,4,4,4,4,4,4,4,4,4,4,4,4,4,4,4,4,4,4,4,4,4,4,4,4,4,4,4,4,4,4,4,4,4,4,4,4,4,4,4,4,4,4,4,4,4,4,4,4,4,4,4,4,4,4,4,4,4,4,4,4,4,4,4,4,4,4,4,4,4,4,4,4,4,4,4,4,4,4,4,4,4,4,4,4,4,4,4,4,4,4,4,4,4,4,4,4,4,4,4,4,4,4,4,4,4,4,4,4,4,4,4,4,4,4,4,4,4,4,4,4,4,4,4,4,4,4,4,4,4,4,4,4,4,4,4,4,4,4,4,4,4,4,4,4,4,4,4,4,4,4,4,4,4,4,4,4,4,4,4,4,4,4,4,4,4,4,4,4,4,4,4,4,4,4,4,4,4,4,4,4,4,4,4,4,4,4,4,4,4,4,4,4,4,4,4,4,4,4,4,4,4,4,4,4,4,4,4,4,4,4,4,4,4,4,4,4,4,4,4,4,4,4,4,4,4,4,4,4,4,4,4,4,4,4,4,4,4,4,4,4,4,4,4,4,4,4,4,4,4,4,4,4,4,4,4,4,4,4,4,4,4,4,4,4,4,4,4,4,4,4,4,4,4,4,4,4,4,4,4,4,4,4,4,4,4,4,4,4,4,4,4,4,4,4,4,4,4,4,4,4,4,4,4,4,4,4,4,4,4,4,4,4,4,4,4,4,4,4,4,4,4,4,4,4,4,4,4,4,4,4,4,4,4,4,4,4,4,4,4,4,4,4,4,4,4,4,4,4,4,4,4,4,4,4,4,4,4,4,4,4,4,4,4,4,4,4,4,4,4,4,4,4,4,4,4,4,4,4,4,4,4,4,4,4,4,4,4,4,4,4,4,4,4,4,4,4,4,4,4,4,4,4,4,4,4,4,4,4,4,4,4,4,4,4,4,4,4,4,4,4,4,4,4,4,4,4,4,4,4,4,4,4,4,4,4,4,4,4,4,4,4,4,4,4,4,4,4,4,4,4,4,4,4,4,4,4,4,4,4,4,4,4,4,4,4,4,4,4,4,4,4,4,4,4,4,4,4,4,4,4,4,4,4,4,4,4,4,4,4,4,4,4,4,4,4,4,4,4,4,4,4,4,4,4,4,4,4,4,4,4,4,4,4,4,4,4,4,4,4,4,4,4,4,4,4,4,4,4,4,4,4,4,4,4,4,4,4,4,4,4,4,4,4,4,4,4,4,4,4,4,4,4,4,4,4,4,4,4,4,4,4,4,4,4,4,4,4,4,4,4,4,4,4,4,4,4,4,4,4,4,4,4,4,4,4,4,4,4,4,4,4,4,4,4,4,4,4,4,4,4,4,4,4,4,4,4,4,4,4,4,4,4,4,4,4,4,4,4,4,4,4,4,4,4,4,4,4,4,4,4,4,4,4,4,4,4,4,4,4,4,4,4,4,4,4,4,4,4,4,4,4,4,4,4,4,4,4,4,4,4,4,4,4,4,4,4,4,4,4,4,4,4,4,4,4,4,4,4,4,4,4,4,4,4,4,4,4,4,4,4,4,4,4,4,4,4,4,4,4,4,4,4,4,4,4,4,4,4,4,4,4,4,4,4,4,4,4,4,4,4,4,4,4,4,4,4,4,4,4,4,4,4,4,4,4,4,4,4,4,4,4,4,4,4,4,4,4,4,4,4,4,4,4,4,4,4,4,4,4,4,4,4,4,4,4,4,4,4,4,4,4,4,4,4,4,4,4,4,4,4,4,4,4,4,4,4,4,4,4,4,4,4,4,4,4,4,4,5,5,5,5,5,5,5,5,5,5,5,5,5,5,5,5,5,5,5,5,5,5,5,5,5,5,5,5,5,5,5,5,5,5,5,5,5,5,5,5,5,5,5,5,5,5,5,5,5,5,5,5,5,5,5,5,5,5,5,5,5,5,5,5,5,5,5,5,5,5,5,5,5,5,5,5,5,5,5,5,5,5,5,5,5,5,5,5,5,5,5,5,5,5,5,5,5,5,5,5,5,5,5,5,5,5,5,5,5,5,5,5,5,5,5,5,5,5,5,5,5,5,5,5,5,5,5,5,5,5,5,5,5,5,5,5,5,5,5,5,5,5,5,5,5,5,5,5,5,5,5,5,5,5,5,5,5,5,5,5,5,5,5,5,5,5,5,5,5,5,5,5,5,5,5,5,5,5,5,5,5,5,5,5,5,5,5,5,5,5,5,5,5,5,5,5,5,5,5,5,5,5,5,5,5,5,5,5,5,5,5,5,5,5,5,5,5,5,5,5,5,5,5,5,5,5,5,5,5,5,5,5,5,5,5,5,5,5,5,5,5,5,5,5,5,5,5,5,5,5,5,5,5,5,5,5,5,5,5,5,5,5,5,5,5,5,5,5,5,5,5,5,5,5,5,5,5,5,5,5,5,5,5,5,5,5,5,5,5,5,5,5,5,5,5,5,5,5,5,5,5,5,5,5,5,5,5,5,5,5,5,5,5,5,5,5,5,5,5,5,5,5,5,5,5,5,5,5,5,5,5,5,5,5,5,5,5,5,5,5,5,5,5,5,5,5,5,5,5,5,5,5,5,5,5,5,5,5,5,5,5,5,5,5,5,5,5,5,5,5,5,5,5,5,5,5,5,5,5,5,5,5,5,5,5,5,5,5,5,5,5,5,5,5,5,5,5,5,5,5,5,5,5,5,5,5,5,5,5,5,5,5,5,5,5,5,5,5,5,5,5,5,6,6,6,6,6,6,6,6,6,6,6,6,6,6,6,6,6,6,6,6,6,6,6,6,6,6,6,6,6,6,6,6,6,6,6,6,6,6,6,6,6,6,6,6,6,6,6,6,6,6,6,6,6,6,6,6,6,6,6,6,6,6,6,6,6,6,6,6,6,6,6,6,6,6,6,6,6,6,6,6,6,6,6,6,6,6,6,6,6,6,6,6,6,6,6,7,7,7,7,7,7,7,7,7,7,7,7,7,7,7,7,7,7,7,7,7,7,7,7,7,7,7,7,7,7,7,7,7,7,7,7,7,7,7,7,7,7,7,7,7,7,7,7,7,7,7,7,7,7,7,7,7,7,7,7,7,7,7,7,7,7,7,7,7,7,7,7,7,7,7,7,7,7,7,7,7,7,7,7,7,7,7,7,7,7,7,7,7,7,7,7,7,7,7,7,7,7,7,7,7,7,7,7,7,7,7,7,7,7,7,7,7,7,7,7,7,7,7,7,7,7,7,7,7,7,7,7,7,7,7,7,7,7,7,7,7,7,7,7,7,7,7,7,7,7,7,7,7,7,7,7,7,7,7,7,7,7,7,7,7,7,7,7,7,7,8,8,8,8,8,8,8,8,8,8,8,8,8,8,8,8,8,8,8,8,8,8,8,8,8,8,8,8,8,8,8,8,8,8,8,8,8,8,8,8,8,8,8,8,8,8,8,8,8,8,8,8,8,8,8,8,8,8,8,8,8,8,8,8,8,8,8,8,8,8,8,8,8,8,8,8,8,8,8,8,8,8,8,8,8,8,8,9,9,9,9,9,9,9,9,9,9,9,9,9,9,9,9,9,9,9,9,9,9,9,9,9,9,9,9,9,9,9,9,9,9,9,9,9,9,9,9,10,10,10,10,10,10,10,10,10,10,10,10,10,10,10,10,10,10,10,10,10,10,10,10,10,10,10,10,10,10,10,10,10,10,10,10,10,10,10,10,10,10,10,10,10,10,10,10,10,10,10,10,10,10,10,10,10,10,10,10,10,10,10,10,10,10,10,10,10,10,11,11,11,11,11,11,11,11,11,11,11,11,11,11,11,11,11,11,11,11,11,11,11,11,11,11,11,11,11,11,12,12,12,12,12,12,12,12,12,12,12,12,12,12,12,12,12,12,12,12,12,12,12,12,12,12,12,12,12,12,12,12,12,12,12,12,12,12,12,12,12,12,12,12,12,12,12,12,12,12,12,12,12,12,12,12,12,12,12,12,12,12,12,12,12,12,12,12,12,12,12,13,13,13,13,13,13,13,13,13,13,13,13,13,13,13,13,13,13,13,13,13,13,13,13,13,13,13,13,13,13,13,13,13,13,13,13,13,13,14,14,14,14,14,14,14,14,14,14,14,14,14,14,14,14,14,14,14,14,14,14,14,14,14,14,14,14,14,14,14,14,14,14,14,14,14,14,14,14,14,14,14,14,14,14,14,14,14,14,14,14,14,14,14,14,14,14,14,14,14,14,14,14,14,14,14,14,15,15,15,15,15,15,15,15,15,15,15,15,15,15,15,15,15,15,15,15,15,15,15,15,15,15,15,15,15,15,15,15,15,15,15,15,15,15,15,16,16,16,16,16,16,16,16,16,16,16,16,16,16,16,16,16,16,16,16,16,16,16,16,16,16,16,16,16,16,16,16,16,16,16,16,16,16,16,16,17,17,17,17,17,17,17,17,17,17,17,17,17,17,17,17,17,17,17,17,17,17,17,17,17,17,17,17,17,17,18,18,18,18,18,18,18,18,18,18,18,18,18,18,18,18,18,18,18,18,18,18,18,18,18,18,18,18,18,18,18,18,18,18,18,18,18,18,18,18,18,18,18,18,19,19,19,19,19,19,19,19,19,19,19,19,19,19,19,19,19,19,19,19,19,19,19,19,19,19,19,19,19,19,19,20,20,20,20,20,20,20,20,20,20,20,20,20,20,20,20,20,20,20,20,20,20,20,20,20,20,20,20,20,20,20,20,20,20,20,20,20,20,20,20,20,20,20,20,20,20,20,20,20,20,20,20,20,20,20,20,20,20,20,20,20,20,20,20,21,21,21,21,21,21,21,21,21,21,21,21,21,21,21,21,21,21,21,21,21,21,21,22,22,22,22,22,22,22,22,22,22,22,22,22,22,22,22,22,22,22,22,22,22,22,22,22,22,22,22,22,22,22,22,22,22,22,22,22,22,22,22,22,22,22,22,22,22,22,22,22,22,22,23,23,23,23,23,23,23,23,23,23,23,23,23,23,23,23,23,23,23,23,23,23,23,23,23,23,23,23,24,24,24,24,24,24,24,24,24,24,24,24,24,24,24,24,24,24,24,24,24,24,24,24,24,25,25,25,25,25,25,25,25,25,25,25,25,25,25,25,25,26,26,26,26,27,27,27,27,27,27,27,27,27,27,27,27,27,27,27,28,28,28,28,28,28,28,28,28,28,29,29,29,29,29,29,29,29,30,30,30,30,30,30,30,30,30,30,30,30,30,30,30,30,30,30,30,30,31,31,31,31,31,31,31,31,31,31,31,31,31,31,31,32,32,32,32,32,32,32,32,32,32,32,32,32,33,33,33,33,33,34,34,34,35,35,35,35,35,35,35,35,35,36,36,36,36,36,36,36,37,37,37,37,37,38,38,38,39,40,40,40,40,40,40,40,41,41,41,41,41,42,42,42,42,42,43,43,43,43,44,44,45,45,45,45,45,45,45,45,45,46,46,48,48,48,50,50,50,51,51,52,52,54,55,55,55,55,58,58,58,58,58,58,58,58,58,59,60,60,60,60,60,60,60,60,62,66,68,68,68,68,71,75,75,75,76,76,76,77,77,78,78,78,78,81,85,89],\"xaxis\":\"x\",\"yaxis\":\"y\",\"type\":\"histogram\"}],                        {\"template\":{\"data\":{\"histogram2dcontour\":[{\"type\":\"histogram2dcontour\",\"colorbar\":{\"outlinewidth\":0,\"ticks\":\"\"},\"colorscale\":[[0.0,\"#0d0887\"],[0.1111111111111111,\"#46039f\"],[0.2222222222222222,\"#7201a8\"],[0.3333333333333333,\"#9c179e\"],[0.4444444444444444,\"#bd3786\"],[0.5555555555555556,\"#d8576b\"],[0.6666666666666666,\"#ed7953\"],[0.7777777777777778,\"#fb9f3a\"],[0.8888888888888888,\"#fdca26\"],[1.0,\"#f0f921\"]]}],\"choropleth\":[{\"type\":\"choropleth\",\"colorbar\":{\"outlinewidth\":0,\"ticks\":\"\"}}],\"histogram2d\":[{\"type\":\"histogram2d\",\"colorbar\":{\"outlinewidth\":0,\"ticks\":\"\"},\"colorscale\":[[0.0,\"#0d0887\"],[0.1111111111111111,\"#46039f\"],[0.2222222222222222,\"#7201a8\"],[0.3333333333333333,\"#9c179e\"],[0.4444444444444444,\"#bd3786\"],[0.5555555555555556,\"#d8576b\"],[0.6666666666666666,\"#ed7953\"],[0.7777777777777778,\"#fb9f3a\"],[0.8888888888888888,\"#fdca26\"],[1.0,\"#f0f921\"]]}],\"heatmap\":[{\"type\":\"heatmap\",\"colorbar\":{\"outlinewidth\":0,\"ticks\":\"\"},\"colorscale\":[[0.0,\"#0d0887\"],[0.1111111111111111,\"#46039f\"],[0.2222222222222222,\"#7201a8\"],[0.3333333333333333,\"#9c179e\"],[0.4444444444444444,\"#bd3786\"],[0.5555555555555556,\"#d8576b\"],[0.6666666666666666,\"#ed7953\"],[0.7777777777777778,\"#fb9f3a\"],[0.8888888888888888,\"#fdca26\"],[1.0,\"#f0f921\"]]}],\"heatmapgl\":[{\"type\":\"heatmapgl\",\"colorbar\":{\"outlinewidth\":0,\"ticks\":\"\"},\"colorscale\":[[0.0,\"#0d0887\"],[0.1111111111111111,\"#46039f\"],[0.2222222222222222,\"#7201a8\"],[0.3333333333333333,\"#9c179e\"],[0.4444444444444444,\"#bd3786\"],[0.5555555555555556,\"#d8576b\"],[0.6666666666666666,\"#ed7953\"],[0.7777777777777778,\"#fb9f3a\"],[0.8888888888888888,\"#fdca26\"],[1.0,\"#f0f921\"]]}],\"contourcarpet\":[{\"type\":\"contourcarpet\",\"colorbar\":{\"outlinewidth\":0,\"ticks\":\"\"}}],\"contour\":[{\"type\":\"contour\",\"colorbar\":{\"outlinewidth\":0,\"ticks\":\"\"},\"colorscale\":[[0.0,\"#0d0887\"],[0.1111111111111111,\"#46039f\"],[0.2222222222222222,\"#7201a8\"],[0.3333333333333333,\"#9c179e\"],[0.4444444444444444,\"#bd3786\"],[0.5555555555555556,\"#d8576b\"],[0.6666666666666666,\"#ed7953\"],[0.7777777777777778,\"#fb9f3a\"],[0.8888888888888888,\"#fdca26\"],[1.0,\"#f0f921\"]]}],\"surface\":[{\"type\":\"surface\",\"colorbar\":{\"outlinewidth\":0,\"ticks\":\"\"},\"colorscale\":[[0.0,\"#0d0887\"],[0.1111111111111111,\"#46039f\"],[0.2222222222222222,\"#7201a8\"],[0.3333333333333333,\"#9c179e\"],[0.4444444444444444,\"#bd3786\"],[0.5555555555555556,\"#d8576b\"],[0.6666666666666666,\"#ed7953\"],[0.7777777777777778,\"#fb9f3a\"],[0.8888888888888888,\"#fdca26\"],[1.0,\"#f0f921\"]]}],\"mesh3d\":[{\"type\":\"mesh3d\",\"colorbar\":{\"outlinewidth\":0,\"ticks\":\"\"}}],\"scatter\":[{\"fillpattern\":{\"fillmode\":\"overlay\",\"size\":10,\"solidity\":0.2},\"type\":\"scatter\"}],\"parcoords\":[{\"type\":\"parcoords\",\"line\":{\"colorbar\":{\"outlinewidth\":0,\"ticks\":\"\"}}}],\"scatterpolargl\":[{\"type\":\"scatterpolargl\",\"marker\":{\"colorbar\":{\"outlinewidth\":0,\"ticks\":\"\"}}}],\"bar\":[{\"error_x\":{\"color\":\"#2a3f5f\"},\"error_y\":{\"color\":\"#2a3f5f\"},\"marker\":{\"line\":{\"color\":\"#E5ECF6\",\"width\":0.5},\"pattern\":{\"fillmode\":\"overlay\",\"size\":10,\"solidity\":0.2}},\"type\":\"bar\"}],\"scattergeo\":[{\"type\":\"scattergeo\",\"marker\":{\"colorbar\":{\"outlinewidth\":0,\"ticks\":\"\"}}}],\"scatterpolar\":[{\"type\":\"scatterpolar\",\"marker\":{\"colorbar\":{\"outlinewidth\":0,\"ticks\":\"\"}}}],\"histogram\":[{\"marker\":{\"pattern\":{\"fillmode\":\"overlay\",\"size\":10,\"solidity\":0.2}},\"type\":\"histogram\"}],\"scattergl\":[{\"type\":\"scattergl\",\"marker\":{\"colorbar\":{\"outlinewidth\":0,\"ticks\":\"\"}}}],\"scatter3d\":[{\"type\":\"scatter3d\",\"line\":{\"colorbar\":{\"outlinewidth\":0,\"ticks\":\"\"}},\"marker\":{\"colorbar\":{\"outlinewidth\":0,\"ticks\":\"\"}}}],\"scattermapbox\":[{\"type\":\"scattermapbox\",\"marker\":{\"colorbar\":{\"outlinewidth\":0,\"ticks\":\"\"}}}],\"scatterternary\":[{\"type\":\"scatterternary\",\"marker\":{\"colorbar\":{\"outlinewidth\":0,\"ticks\":\"\"}}}],\"scattercarpet\":[{\"type\":\"scattercarpet\",\"marker\":{\"colorbar\":{\"outlinewidth\":0,\"ticks\":\"\"}}}],\"carpet\":[{\"aaxis\":{\"endlinecolor\":\"#2a3f5f\",\"gridcolor\":\"white\",\"linecolor\":\"white\",\"minorgridcolor\":\"white\",\"startlinecolor\":\"#2a3f5f\"},\"baxis\":{\"endlinecolor\":\"#2a3f5f\",\"gridcolor\":\"white\",\"linecolor\":\"white\",\"minorgridcolor\":\"white\",\"startlinecolor\":\"#2a3f5f\"},\"type\":\"carpet\"}],\"table\":[{\"cells\":{\"fill\":{\"color\":\"#EBF0F8\"},\"line\":{\"color\":\"white\"}},\"header\":{\"fill\":{\"color\":\"#C8D4E3\"},\"line\":{\"color\":\"white\"}},\"type\":\"table\"}],\"barpolar\":[{\"marker\":{\"line\":{\"color\":\"#E5ECF6\",\"width\":0.5},\"pattern\":{\"fillmode\":\"overlay\",\"size\":10,\"solidity\":0.2}},\"type\":\"barpolar\"}],\"pie\":[{\"automargin\":true,\"type\":\"pie\"}]},\"layout\":{\"autotypenumbers\":\"strict\",\"colorway\":[\"#636efa\",\"#EF553B\",\"#00cc96\",\"#ab63fa\",\"#FFA15A\",\"#19d3f3\",\"#FF6692\",\"#B6E880\",\"#FF97FF\",\"#FECB52\"],\"font\":{\"color\":\"#2a3f5f\"},\"hovermode\":\"closest\",\"hoverlabel\":{\"align\":\"left\"},\"paper_bgcolor\":\"white\",\"plot_bgcolor\":\"#E5ECF6\",\"polar\":{\"bgcolor\":\"#E5ECF6\",\"angularaxis\":{\"gridcolor\":\"white\",\"linecolor\":\"white\",\"ticks\":\"\"},\"radialaxis\":{\"gridcolor\":\"white\",\"linecolor\":\"white\",\"ticks\":\"\"}},\"ternary\":{\"bgcolor\":\"#E5ECF6\",\"aaxis\":{\"gridcolor\":\"white\",\"linecolor\":\"white\",\"ticks\":\"\"},\"baxis\":{\"gridcolor\":\"white\",\"linecolor\":\"white\",\"ticks\":\"\"},\"caxis\":{\"gridcolor\":\"white\",\"linecolor\":\"white\",\"ticks\":\"\"}},\"coloraxis\":{\"colorbar\":{\"outlinewidth\":0,\"ticks\":\"\"}},\"colorscale\":{\"sequential\":[[0.0,\"#0d0887\"],[0.1111111111111111,\"#46039f\"],[0.2222222222222222,\"#7201a8\"],[0.3333333333333333,\"#9c179e\"],[0.4444444444444444,\"#bd3786\"],[0.5555555555555556,\"#d8576b\"],[0.6666666666666666,\"#ed7953\"],[0.7777777777777778,\"#fb9f3a\"],[0.8888888888888888,\"#fdca26\"],[1.0,\"#f0f921\"]],\"sequentialminus\":[[0.0,\"#0d0887\"],[0.1111111111111111,\"#46039f\"],[0.2222222222222222,\"#7201a8\"],[0.3333333333333333,\"#9c179e\"],[0.4444444444444444,\"#bd3786\"],[0.5555555555555556,\"#d8576b\"],[0.6666666666666666,\"#ed7953\"],[0.7777777777777778,\"#fb9f3a\"],[0.8888888888888888,\"#fdca26\"],[1.0,\"#f0f921\"]],\"diverging\":[[0,\"#8e0152\"],[0.1,\"#c51b7d\"],[0.2,\"#de77ae\"],[0.3,\"#f1b6da\"],[0.4,\"#fde0ef\"],[0.5,\"#f7f7f7\"],[0.6,\"#e6f5d0\"],[0.7,\"#b8e186\"],[0.8,\"#7fbc41\"],[0.9,\"#4d9221\"],[1,\"#276419\"]]},\"xaxis\":{\"gridcolor\":\"white\",\"linecolor\":\"white\",\"ticks\":\"\",\"title\":{\"standoff\":15},\"zerolinecolor\":\"white\",\"automargin\":true,\"zerolinewidth\":2},\"yaxis\":{\"gridcolor\":\"white\",\"linecolor\":\"white\",\"ticks\":\"\",\"title\":{\"standoff\":15},\"zerolinecolor\":\"white\",\"automargin\":true,\"zerolinewidth\":2},\"scene\":{\"xaxis\":{\"backgroundcolor\":\"#E5ECF6\",\"gridcolor\":\"white\",\"linecolor\":\"white\",\"showbackground\":true,\"ticks\":\"\",\"zerolinecolor\":\"white\",\"gridwidth\":2},\"yaxis\":{\"backgroundcolor\":\"#E5ECF6\",\"gridcolor\":\"white\",\"linecolor\":\"white\",\"showbackground\":true,\"ticks\":\"\",\"zerolinecolor\":\"white\",\"gridwidth\":2},\"zaxis\":{\"backgroundcolor\":\"#E5ECF6\",\"gridcolor\":\"white\",\"linecolor\":\"white\",\"showbackground\":true,\"ticks\":\"\",\"zerolinecolor\":\"white\",\"gridwidth\":2}},\"shapedefaults\":{\"line\":{\"color\":\"#2a3f5f\"}},\"annotationdefaults\":{\"arrowcolor\":\"#2a3f5f\",\"arrowhead\":0,\"arrowwidth\":1},\"geo\":{\"bgcolor\":\"white\",\"landcolor\":\"#E5ECF6\",\"subunitcolor\":\"white\",\"showland\":true,\"showlakes\":true,\"lakecolor\":\"white\"},\"title\":{\"x\":0.05},\"mapbox\":{\"style\":\"light\"}}},\"xaxis\":{\"anchor\":\"y\",\"domain\":[0.0,1.0],\"title\":{\"text\":\"Total Floors\"}},\"yaxis\":{\"anchor\":\"x\",\"domain\":[0.0,1.0],\"title\":{\"text\":\"count\"}},\"legend\":{\"tracegroupgap\":0},\"margin\":{\"t\":60},\"barmode\":\"relative\"},                        {\"responsive\": true}                    ).then(function(){\n",
       "                            \n",
       "var gd = document.getElementById('203e53a1-11a7-4662-ac76-6efa16270cc1');\n",
       "var x = new MutationObserver(function (mutations, observer) {{\n",
       "        var display = window.getComputedStyle(gd).display;\n",
       "        if (!display || display === 'none') {{\n",
       "            console.log([gd, 'removed!']);\n",
       "            Plotly.purge(gd);\n",
       "            observer.disconnect();\n",
       "        }}\n",
       "}});\n",
       "\n",
       "// Listen for the removal of the full notebook cells\n",
       "var notebookContainer = gd.closest('#notebook-container');\n",
       "if (notebookContainer) {{\n",
       "    x.observe(notebookContainer, {childList: true});\n",
       "}}\n",
       "\n",
       "// Listen for the clearing of the current output cell\n",
       "var outputEl = gd.closest('.output');\n",
       "if (outputEl) {{\n",
       "    x.observe(outputEl, {childList: true});\n",
       "}}\n",
       "\n",
       "                        })                };                });            </script>        </div>"
      ]
     },
     "metadata": {},
     "output_type": "display_data"
    }
   ],
   "source": [
    "Tot_fl = data['Total Floors'].astype(int).sort_values()\n",
    "print(Tot_fl)\n",
    "fig = px.histogram(Tot_fl, x=\"Total Floors\", color_discrete_sequence=['orangered'])\n",
    "fig.show()"
   ]
  },
  {
   "cell_type": "markdown",
   "id": "ec41dd75",
   "metadata": {
    "papermill": {
     "duration": 0.01763,
     "end_time": "2022-09-25T21:48:17.135103",
     "exception": false,
     "start_time": "2022-09-25T21:48:17.117473",
     "status": "completed"
    },
    "tags": []
   },
   "source": [
    "# <div style=\"background-color:rgba(220, 75, 60, 0.75);padding:10px 10px 10px;border-radius:5px 25px 25px 5px;width:300px\">Data Preprocessing</div>"
   ]
  },
  {
   "cell_type": "code",
   "execution_count": 19,
   "id": "66e137cf",
   "metadata": {
    "execution": {
     "iopub.execute_input": "2022-09-25T21:48:17.173243Z",
     "iopub.status.busy": "2022-09-25T21:48:17.172858Z",
     "iopub.status.idle": "2022-09-25T21:48:17.203309Z",
     "shell.execute_reply": "2022-09-25T21:48:17.202153Z"
    },
    "papermill": {
     "duration": 0.052491,
     "end_time": "2022-09-25T21:48:17.205768",
     "exception": false,
     "start_time": "2022-09-25T21:48:17.153277",
     "status": "completed"
    },
    "tags": []
   },
   "outputs": [
    {
     "data": {
      "text/html": [
       "<div>\n",
       "<style scoped>\n",
       "    .dataframe tbody tr th:only-of-type {\n",
       "        vertical-align: middle;\n",
       "    }\n",
       "\n",
       "    .dataframe tbody tr th {\n",
       "        vertical-align: top;\n",
       "    }\n",
       "\n",
       "    .dataframe thead th {\n",
       "        text-align: right;\n",
       "    }\n",
       "</style>\n",
       "<table border=\"1\" class=\"dataframe\">\n",
       "  <thead>\n",
       "    <tr style=\"text-align: right;\">\n",
       "      <th></th>\n",
       "      <th>Posted On</th>\n",
       "      <th>BHK</th>\n",
       "      <th>Rent</th>\n",
       "      <th>Size</th>\n",
       "      <th>Floor</th>\n",
       "      <th>Bathroom</th>\n",
       "      <th>Total Floors</th>\n",
       "      <th>Area Type_Built Area</th>\n",
       "      <th>Area Type_Carpet Area</th>\n",
       "      <th>Area Type_Super Area</th>\n",
       "      <th>...</th>\n",
       "      <th>City_Mumbai</th>\n",
       "      <th>Furnishing Status_Furnished</th>\n",
       "      <th>Furnishing Status_Semi-Furnished</th>\n",
       "      <th>Furnishing Status_Unfurnished</th>\n",
       "      <th>Tenant Preferred_Bachelors</th>\n",
       "      <th>Tenant Preferred_Bachelors/Family</th>\n",
       "      <th>Tenant Preferred_Family</th>\n",
       "      <th>Point of Contact_Contact Agent</th>\n",
       "      <th>Point of Contact_Contact Builder</th>\n",
       "      <th>Point of Contact_Contact Owner</th>\n",
       "    </tr>\n",
       "  </thead>\n",
       "  <tbody>\n",
       "    <tr>\n",
       "      <th>0</th>\n",
       "      <td>2022-05-18</td>\n",
       "      <td>2</td>\n",
       "      <td>10000</td>\n",
       "      <td>1100</td>\n",
       "      <td>0</td>\n",
       "      <td>2</td>\n",
       "      <td>2</td>\n",
       "      <td>0</td>\n",
       "      <td>0</td>\n",
       "      <td>1</td>\n",
       "      <td>...</td>\n",
       "      <td>0</td>\n",
       "      <td>0</td>\n",
       "      <td>0</td>\n",
       "      <td>1</td>\n",
       "      <td>0</td>\n",
       "      <td>1</td>\n",
       "      <td>0</td>\n",
       "      <td>0</td>\n",
       "      <td>0</td>\n",
       "      <td>1</td>\n",
       "    </tr>\n",
       "    <tr>\n",
       "      <th>1</th>\n",
       "      <td>2022-05-13</td>\n",
       "      <td>2</td>\n",
       "      <td>20000</td>\n",
       "      <td>800</td>\n",
       "      <td>1</td>\n",
       "      <td>1</td>\n",
       "      <td>3</td>\n",
       "      <td>0</td>\n",
       "      <td>0</td>\n",
       "      <td>1</td>\n",
       "      <td>...</td>\n",
       "      <td>0</td>\n",
       "      <td>0</td>\n",
       "      <td>1</td>\n",
       "      <td>0</td>\n",
       "      <td>0</td>\n",
       "      <td>1</td>\n",
       "      <td>0</td>\n",
       "      <td>0</td>\n",
       "      <td>0</td>\n",
       "      <td>1</td>\n",
       "    </tr>\n",
       "    <tr>\n",
       "      <th>2</th>\n",
       "      <td>2022-05-16</td>\n",
       "      <td>2</td>\n",
       "      <td>17000</td>\n",
       "      <td>1000</td>\n",
       "      <td>1</td>\n",
       "      <td>1</td>\n",
       "      <td>3</td>\n",
       "      <td>0</td>\n",
       "      <td>0</td>\n",
       "      <td>1</td>\n",
       "      <td>...</td>\n",
       "      <td>0</td>\n",
       "      <td>0</td>\n",
       "      <td>1</td>\n",
       "      <td>0</td>\n",
       "      <td>0</td>\n",
       "      <td>1</td>\n",
       "      <td>0</td>\n",
       "      <td>0</td>\n",
       "      <td>0</td>\n",
       "      <td>1</td>\n",
       "    </tr>\n",
       "    <tr>\n",
       "      <th>3</th>\n",
       "      <td>2022-07-04</td>\n",
       "      <td>2</td>\n",
       "      <td>10000</td>\n",
       "      <td>800</td>\n",
       "      <td>1</td>\n",
       "      <td>1</td>\n",
       "      <td>2</td>\n",
       "      <td>0</td>\n",
       "      <td>0</td>\n",
       "      <td>1</td>\n",
       "      <td>...</td>\n",
       "      <td>0</td>\n",
       "      <td>0</td>\n",
       "      <td>0</td>\n",
       "      <td>1</td>\n",
       "      <td>0</td>\n",
       "      <td>1</td>\n",
       "      <td>0</td>\n",
       "      <td>0</td>\n",
       "      <td>0</td>\n",
       "      <td>1</td>\n",
       "    </tr>\n",
       "    <tr>\n",
       "      <th>4</th>\n",
       "      <td>2022-05-09</td>\n",
       "      <td>2</td>\n",
       "      <td>7500</td>\n",
       "      <td>850</td>\n",
       "      <td>1</td>\n",
       "      <td>1</td>\n",
       "      <td>2</td>\n",
       "      <td>0</td>\n",
       "      <td>1</td>\n",
       "      <td>0</td>\n",
       "      <td>...</td>\n",
       "      <td>0</td>\n",
       "      <td>0</td>\n",
       "      <td>0</td>\n",
       "      <td>1</td>\n",
       "      <td>1</td>\n",
       "      <td>0</td>\n",
       "      <td>0</td>\n",
       "      <td>0</td>\n",
       "      <td>0</td>\n",
       "      <td>1</td>\n",
       "    </tr>\n",
       "  </tbody>\n",
       "</table>\n",
       "<p>5 rows × 25 columns</p>\n",
       "</div>"
      ],
      "text/plain": [
       "    Posted On  BHK   Rent  Size Floor  Bathroom Total Floors  \\\n",
       "0  2022-05-18    2  10000  1100     0         2            2   \n",
       "1  2022-05-13    2  20000   800     1         1            3   \n",
       "2  2022-05-16    2  17000  1000     1         1            3   \n",
       "3  2022-07-04    2  10000   800     1         1            2   \n",
       "4  2022-05-09    2   7500   850     1         1            2   \n",
       "\n",
       "   Area Type_Built Area  Area Type_Carpet Area  Area Type_Super Area  ...  \\\n",
       "0                     0                      0                     1  ...   \n",
       "1                     0                      0                     1  ...   \n",
       "2                     0                      0                     1  ...   \n",
       "3                     0                      0                     1  ...   \n",
       "4                     0                      1                     0  ...   \n",
       "\n",
       "   City_Mumbai  Furnishing Status_Furnished  Furnishing Status_Semi-Furnished  \\\n",
       "0            0                            0                                 0   \n",
       "1            0                            0                                 1   \n",
       "2            0                            0                                 1   \n",
       "3            0                            0                                 0   \n",
       "4            0                            0                                 0   \n",
       "\n",
       "   Furnishing Status_Unfurnished  Tenant Preferred_Bachelors  \\\n",
       "0                              1                           0   \n",
       "1                              0                           0   \n",
       "2                              0                           0   \n",
       "3                              1                           0   \n",
       "4                              1                           1   \n",
       "\n",
       "   Tenant Preferred_Bachelors/Family  Tenant Preferred_Family  \\\n",
       "0                                  1                        0   \n",
       "1                                  1                        0   \n",
       "2                                  1                        0   \n",
       "3                                  1                        0   \n",
       "4                                  0                        0   \n",
       "\n",
       "   Point of Contact_Contact Agent  Point of Contact_Contact Builder  \\\n",
       "0                               0                                 0   \n",
       "1                               0                                 0   \n",
       "2                               0                                 0   \n",
       "3                               0                                 0   \n",
       "4                               0                                 0   \n",
       "\n",
       "   Point of Contact_Contact Owner  \n",
       "0                               1  \n",
       "1                               1  \n",
       "2                               1  \n",
       "3                               1  \n",
       "4                               1  \n",
       "\n",
       "[5 rows x 25 columns]"
      ]
     },
     "execution_count": 19,
     "metadata": {},
     "output_type": "execute_result"
    }
   ],
   "source": [
    "data = pd.get_dummies(data, columns=['Area Type', 'City', 'Furnishing Status', 'Tenant Preferred', 'Point of Contact'])\n",
    "data.head()"
   ]
  },
  {
   "cell_type": "code",
   "execution_count": 20,
   "id": "b7e5564e",
   "metadata": {
    "execution": {
     "iopub.execute_input": "2022-09-25T21:48:17.244391Z",
     "iopub.status.busy": "2022-09-25T21:48:17.243990Z",
     "iopub.status.idle": "2022-09-25T21:48:17.250862Z",
     "shell.execute_reply": "2022-09-25T21:48:17.250067Z"
    },
    "papermill": {
     "duration": 0.02868,
     "end_time": "2022-09-25T21:48:17.253068",
     "exception": false,
     "start_time": "2022-09-25T21:48:17.224388",
     "status": "completed"
    },
    "tags": []
   },
   "outputs": [],
   "source": [
    "data.drop(columns='Posted On', inplace=True)"
   ]
  },
  {
   "cell_type": "code",
   "execution_count": 21,
   "id": "f9e1deb9",
   "metadata": {
    "execution": {
     "iopub.execute_input": "2022-09-25T21:48:17.293159Z",
     "iopub.status.busy": "2022-09-25T21:48:17.292786Z",
     "iopub.status.idle": "2022-09-25T21:48:17.310625Z",
     "shell.execute_reply": "2022-09-25T21:48:17.309547Z"
    },
    "papermill": {
     "duration": 0.040621,
     "end_time": "2022-09-25T21:48:17.313102",
     "exception": false,
     "start_time": "2022-09-25T21:48:17.272481",
     "status": "completed"
    },
    "tags": []
   },
   "outputs": [
    {
     "data": {
      "text/plain": [
       "Rent                                 1.000000\n",
       "Bathroom                             0.441215\n",
       "Size                                 0.413551\n",
       "BHK                                  0.369718\n",
       "Point of Contact_Contact Agent       0.339750\n",
       "City_Mumbai                          0.327038\n",
       "Area Type_Carpet Area                0.215769\n",
       "Furnishing Status_Furnished          0.110576\n",
       "Tenant Preferred_Family              0.063941\n",
       "Furnishing Status_Semi-Furnished     0.045309\n",
       "Tenant Preferred_Bachelors           0.042151\n",
       "Point of Contact_Contact Builder    -0.005482\n",
       "Area Type_Built Area                -0.006439\n",
       "City_Delhi                          -0.027072\n",
       "City_Bangalore                      -0.061512\n",
       "Tenant Preferred_Bachelors/Family   -0.078774\n",
       "City_Chennai                        -0.082361\n",
       "City_Hyderabad                      -0.087465\n",
       "City_Kolkata                        -0.105322\n",
       "Furnishing Status_Unfurnished       -0.126271\n",
       "Area Type_Super Area                -0.215499\n",
       "Point of Contact_Contact Owner      -0.339521\n",
       "Name: Rent, dtype: float64"
      ]
     },
     "execution_count": 21,
     "metadata": {},
     "output_type": "execute_result"
    }
   ],
   "source": [
    "data.corr()['Rent'].sort_values(ascending=False)"
   ]
  },
  {
   "cell_type": "code",
   "execution_count": 22,
   "id": "edbe806c",
   "metadata": {
    "execution": {
     "iopub.execute_input": "2022-09-25T21:48:17.353204Z",
     "iopub.status.busy": "2022-09-25T21:48:17.352840Z",
     "iopub.status.idle": "2022-09-25T21:48:17.359086Z",
     "shell.execute_reply": "2022-09-25T21:48:17.358138Z"
    },
    "papermill": {
     "duration": 0.028888,
     "end_time": "2022-09-25T21:48:17.361321",
     "exception": false,
     "start_time": "2022-09-25T21:48:17.332433",
     "status": "completed"
    },
    "tags": []
   },
   "outputs": [],
   "source": [
    "data = data.loc[data['Rent']<=100000]"
   ]
  },
  {
   "cell_type": "markdown",
   "id": "ff13f64f",
   "metadata": {
    "papermill": {
     "duration": 0.019328,
     "end_time": "2022-09-25T21:48:17.399356",
     "exception": false,
     "start_time": "2022-09-25T21:48:17.380028",
     "status": "completed"
    },
    "tags": []
   },
   "source": [
    "<h4 style=\"background-color:rgb(244,164,96);padding:10px 10px 10px;border-radius:5px 25px 25px 5px;width:150px\">Target Setting"
   ]
  },
  {
   "cell_type": "code",
   "execution_count": 23,
   "id": "e5d62869",
   "metadata": {
    "execution": {
     "iopub.execute_input": "2022-09-25T21:48:17.439099Z",
     "iopub.status.busy": "2022-09-25T21:48:17.438690Z",
     "iopub.status.idle": "2022-09-25T21:48:17.445708Z",
     "shell.execute_reply": "2022-09-25T21:48:17.444756Z"
    },
    "papermill": {
     "duration": 0.029385,
     "end_time": "2022-09-25T21:48:17.448125",
     "exception": false,
     "start_time": "2022-09-25T21:48:17.418740",
     "status": "completed"
    },
    "tags": []
   },
   "outputs": [],
   "source": [
    "X = data.drop(columns=['Rent'], axis=1)\n",
    "y = data['Rent']"
   ]
  },
  {
   "cell_type": "code",
   "execution_count": 24,
   "id": "954faa81",
   "metadata": {
    "execution": {
     "iopub.execute_input": "2022-09-25T21:48:17.486887Z",
     "iopub.status.busy": "2022-09-25T21:48:17.486414Z",
     "iopub.status.idle": "2022-09-25T21:48:17.493269Z",
     "shell.execute_reply": "2022-09-25T21:48:17.492292Z"
    },
    "papermill": {
     "duration": 0.028756,
     "end_time": "2022-09-25T21:48:17.495513",
     "exception": false,
     "start_time": "2022-09-25T21:48:17.466757",
     "status": "completed"
    },
    "tags": []
   },
   "outputs": [
    {
     "data": {
      "text/plain": [
       "((4466, 23), (4466,))"
      ]
     },
     "execution_count": 24,
     "metadata": {},
     "output_type": "execute_result"
    }
   ],
   "source": [
    "X.shape, y.shape"
   ]
  },
  {
   "cell_type": "code",
   "execution_count": 25,
   "id": "ecdcda37",
   "metadata": {
    "execution": {
     "iopub.execute_input": "2022-09-25T21:48:17.535648Z",
     "iopub.status.busy": "2022-09-25T21:48:17.534535Z",
     "iopub.status.idle": "2022-09-25T21:48:17.541164Z",
     "shell.execute_reply": "2022-09-25T21:48:17.540363Z"
    },
    "papermill": {
     "duration": 0.028562,
     "end_time": "2022-09-25T21:48:17.543127",
     "exception": false,
     "start_time": "2022-09-25T21:48:17.514565",
     "status": "completed"
    },
    "tags": []
   },
   "outputs": [],
   "source": [
    "X, y = X.astype('int64'),y.astype('int64')"
   ]
  },
  {
   "cell_type": "markdown",
   "id": "340aaa84",
   "metadata": {
    "papermill": {
     "duration": 0.018227,
     "end_time": "2022-09-25T21:48:17.579999",
     "exception": false,
     "start_time": "2022-09-25T21:48:17.561772",
     "status": "completed"
    },
    "tags": []
   },
   "source": [
    "<h4 style=\"background-color:rgb(244,164,96);padding:10px 10px 10px;border-radius:5px 25px 25px 5px;width:330px\">Splitting Data into Train and Test Sets"
   ]
  },
  {
   "cell_type": "code",
   "execution_count": 26,
   "id": "3a2635f1",
   "metadata": {
    "execution": {
     "iopub.execute_input": "2022-09-25T21:48:17.619650Z",
     "iopub.status.busy": "2022-09-25T21:48:17.618441Z",
     "iopub.status.idle": "2022-09-25T21:48:17.630620Z",
     "shell.execute_reply": "2022-09-25T21:48:17.629605Z"
    },
    "papermill": {
     "duration": 0.034166,
     "end_time": "2022-09-25T21:48:17.632893",
     "exception": false,
     "start_time": "2022-09-25T21:48:17.598727",
     "status": "completed"
    },
    "tags": []
   },
   "outputs": [
    {
     "data": {
      "text/plain": [
       "((3126,), (1340,))"
      ]
     },
     "execution_count": 26,
     "metadata": {},
     "output_type": "execute_result"
    }
   ],
   "source": [
    "X_train, X_test, y_train, y_test = train_test_split(X, y,test_size=0.3, random_state=42)\n",
    "(y_train.shape, y_test.shape)"
   ]
  },
  {
   "cell_type": "markdown",
   "id": "f5023360",
   "metadata": {
    "papermill": {
     "duration": 0.01815,
     "end_time": "2022-09-25T21:48:17.669721",
     "exception": false,
     "start_time": "2022-09-25T21:48:17.651571",
     "status": "completed"
    },
    "tags": []
   },
   "source": [
    "<h4 style=\"background-color:rgb(244,164,96);padding:10px 10px 10px 10px;border-radius:5px 25px 25px 5px;width:250px\">Feature and Target Scaling"
   ]
  },
  {
   "cell_type": "markdown",
   "id": "286d6a9e",
   "metadata": {
    "papermill": {
     "duration": 0.018148,
     "end_time": "2022-09-25T21:48:17.706392",
     "exception": false,
     "start_time": "2022-09-25T21:48:17.688244",
     "status": "completed"
    },
    "tags": []
   },
   "source": [
    "From the distribution of Rental Values we can see that the range of the target data varies widely, so the large values which are very less can put more impact in training the model and may give us inappropriate fit.\n",
    "\n",
    "So, we do Feature Scaling to normalize the data."
   ]
  },
  {
   "cell_type": "code",
   "execution_count": 27,
   "id": "113b8a3e",
   "metadata": {
    "execution": {
     "iopub.execute_input": "2022-09-25T21:48:17.745127Z",
     "iopub.status.busy": "2022-09-25T21:48:17.744709Z",
     "iopub.status.idle": "2022-09-25T21:48:17.754423Z",
     "shell.execute_reply": "2022-09-25T21:48:17.753569Z"
    },
    "papermill": {
     "duration": 0.031499,
     "end_time": "2022-09-25T21:48:17.756394",
     "exception": false,
     "start_time": "2022-09-25T21:48:17.724895",
     "status": "completed"
    },
    "tags": []
   },
   "outputs": [],
   "source": [
    "y_train = np.array(y_train).reshape(y_train.shape[0], 1)\n",
    "mms_X = MinMaxScaler()\n",
    "mms_y = MinMaxScaler()\n",
    "X_train = mms_X.fit_transform(X_train)\n",
    "y_train = mms_y.fit_transform(y_train)"
   ]
  },
  {
   "cell_type": "markdown",
   "id": "6174d7c9",
   "metadata": {
    "papermill": {
     "duration": 0.018256,
     "end_time": "2022-09-25T21:48:17.793277",
     "exception": false,
     "start_time": "2022-09-25T21:48:17.775021",
     "status": "completed"
    },
    "tags": []
   },
   "source": [
    "# <div style=\"background-color:rgba(220, 75, 60, 0.75);padding:10px 10px 10px;border-radius:5px 25px 25px 5px;width:250px\">Model Building</div>"
   ]
  },
  {
   "cell_type": "code",
   "execution_count": 28,
   "id": "a7252c23",
   "metadata": {
    "execution": {
     "iopub.execute_input": "2022-09-25T21:48:17.833338Z",
     "iopub.status.busy": "2022-09-25T21:48:17.832292Z",
     "iopub.status.idle": "2022-09-25T21:48:22.982883Z",
     "shell.execute_reply": "2022-09-25T21:48:22.981764Z"
    },
    "papermill": {
     "duration": 5.173408,
     "end_time": "2022-09-25T21:48:22.985391",
     "exception": false,
     "start_time": "2022-09-25T21:48:17.811983",
     "status": "completed"
    },
    "tags": []
   },
   "outputs": [
    {
     "data": {
      "text/plain": [
       "RandomForestRegressor(max_depth=70, min_samples_leaf=3, min_samples_split=5,\n",
       "                      n_estimators=700, random_state=42)"
      ]
     },
     "execution_count": 28,
     "metadata": {},
     "output_type": "execute_result"
    }
   ],
   "source": [
    "model = RandomForestRegressor(n_estimators=700, max_depth=70, min_samples_leaf=3, min_samples_split= 5,random_state=42)\n",
    "model.fit(X_train, y_train)"
   ]
  },
  {
   "cell_type": "code",
   "execution_count": 29,
   "id": "5ec6fa9b",
   "metadata": {
    "execution": {
     "iopub.execute_input": "2022-09-25T21:48:23.025544Z",
     "iopub.status.busy": "2022-09-25T21:48:23.025163Z",
     "iopub.status.idle": "2022-09-25T21:48:23.255319Z",
     "shell.execute_reply": "2022-09-25T21:48:23.254081Z"
    },
    "papermill": {
     "duration": 0.253243,
     "end_time": "2022-09-25T21:48:23.258036",
     "exception": false,
     "start_time": "2022-09-25T21:48:23.004793",
     "status": "completed"
    },
    "tags": []
   },
   "outputs": [],
   "source": [
    "y_pred = model.predict(mms_X.transform(X_test.values))"
   ]
  },
  {
   "cell_type": "markdown",
   "id": "0c161178",
   "metadata": {
    "papermill": {
     "duration": 0.019409,
     "end_time": "2022-09-25T21:48:23.297580",
     "exception": false,
     "start_time": "2022-09-25T21:48:23.278171",
     "status": "completed"
    },
    "tags": []
   },
   "source": [
    "Inverse Transform to rescale the values back."
   ]
  },
  {
   "cell_type": "code",
   "execution_count": 30,
   "id": "fb28485a",
   "metadata": {
    "execution": {
     "iopub.execute_input": "2022-09-25T21:48:23.339100Z",
     "iopub.status.busy": "2022-09-25T21:48:23.338678Z",
     "iopub.status.idle": "2022-09-25T21:48:23.345804Z",
     "shell.execute_reply": "2022-09-25T21:48:23.344662Z"
    },
    "papermill": {
     "duration": 0.031524,
     "end_time": "2022-09-25T21:48:23.349187",
     "exception": false,
     "start_time": "2022-09-25T21:48:23.317663",
     "status": "completed"
    },
    "tags": []
   },
   "outputs": [
    {
     "name": "stdout",
     "output_type": "stream",
     "text": [
      "[[ 5767.9   5000.  ]\n",
      " [73783.07 53000.  ]\n",
      " [19511.48 25000.  ]\n",
      " ...\n",
      " [13079.28 10000.  ]\n",
      " [50774.57 55000.  ]\n",
      " [24555.3  35000.  ]]\n"
     ]
    }
   ],
   "source": [
    "y_pred = mms_y.inverse_transform(y_pred.reshape(len(y_test), 1))\n",
    "np.set_printoptions(precision=2)\n",
    "print(np.concatenate((y_pred.reshape(len(y_pred),1), y_test.values.reshape(len(y_test),1)),1))"
   ]
  },
  {
   "cell_type": "code",
   "execution_count": 31,
   "id": "81aedef9",
   "metadata": {
    "execution": {
     "iopub.execute_input": "2022-09-25T21:48:23.390804Z",
     "iopub.status.busy": "2022-09-25T21:48:23.390431Z",
     "iopub.status.idle": "2022-09-25T21:48:23.398040Z",
     "shell.execute_reply": "2022-09-25T21:48:23.397169Z"
    },
    "papermill": {
     "duration": 0.030164,
     "end_time": "2022-09-25T21:48:23.400172",
     "exception": false,
     "start_time": "2022-09-25T21:48:23.370008",
     "status": "completed"
    },
    "tags": []
   },
   "outputs": [
    {
     "data": {
      "text/plain": [
       "0.7054801338648788"
      ]
     },
     "execution_count": 31,
     "metadata": {},
     "output_type": "execute_result"
    }
   ],
   "source": [
    "from sklearn.metrics import r2_score\n",
    "r2_score(y_pred, y_test)"
   ]
  },
  {
   "cell_type": "markdown",
   "id": "0d3893a4",
   "metadata": {
    "papermill": {
     "duration": 0.019496,
     "end_time": "2022-09-25T21:48:23.439732",
     "exception": false,
     "start_time": "2022-09-25T21:48:23.420236",
     "status": "completed"
    },
    "tags": []
   },
   "source": [
    "<h4 style=\"background-color:rgb(244,164,96);padding:10px 10px 10px;border-radius:5px 25px 25px 5px;width:200px\">Hyperparameter Tuning"
   ]
  },
  {
   "cell_type": "code",
   "execution_count": 32,
   "id": "a8b8d155",
   "metadata": {
    "execution": {
     "iopub.execute_input": "2022-09-25T21:48:23.480748Z",
     "iopub.status.busy": "2022-09-25T21:48:23.480165Z",
     "iopub.status.idle": "2022-09-25T21:48:23.485874Z",
     "shell.execute_reply": "2022-09-25T21:48:23.484889Z"
    },
    "papermill": {
     "duration": 0.028632,
     "end_time": "2022-09-25T21:48:23.488089",
     "exception": false,
     "start_time": "2022-09-25T21:48:23.459457",
     "status": "completed"
    },
    "tags": []
   },
   "outputs": [],
   "source": [
    "def fine_tune(model, param_grid):\n",
    "    grid_search = RandomizedSearchCV(model, param_grid, cv=5, scoring='neg_mean_squared_error', return_train_score=True, random_state=42)\n",
    "    grid_search.fit(X_train, y_train)\n",
    "    return grid_search.best_params_, np.sqrt((-1)*grid_search.best_score_)"
   ]
  },
  {
   "cell_type": "code",
   "execution_count": 33,
   "id": "7e124cf7",
   "metadata": {
    "execution": {
     "iopub.execute_input": "2022-09-25T21:48:23.528691Z",
     "iopub.status.busy": "2022-09-25T21:48:23.527947Z",
     "iopub.status.idle": "2022-09-25T21:51:09.685207Z",
     "shell.execute_reply": "2022-09-25T21:51:09.684050Z"
    },
    "papermill": {
     "duration": 166.200941,
     "end_time": "2022-09-25T21:51:09.708515",
     "exception": false,
     "start_time": "2022-09-25T21:48:23.507574",
     "status": "completed"
    },
    "tags": []
   },
   "outputs": [
    {
     "data": {
      "text/plain": [
       "({'n_estimators': 700,\n",
       "  'min_samples_split': 11,\n",
       "  'min_samples_leaf': 3,\n",
       "  'max_depth': 80},\n",
       " 0.10231726486954887)"
      ]
     },
     "execution_count": 33,
     "metadata": {},
     "output_type": "execute_result"
    }
   ],
   "source": [
    "param_grid = [{'n_estimators': [300, 500, 700], 'max_depth': [40, 60, 80], 'min_samples_leaf': [3, 5, 7, 9], 'min_samples_split': [5, 11, 15]}]\n",
    "fine_tune(model, param_grid)"
   ]
  },
  {
   "cell_type": "code",
   "execution_count": 34,
   "id": "e64e1340",
   "metadata": {
    "execution": {
     "iopub.execute_input": "2022-09-25T21:51:09.751565Z",
     "iopub.status.busy": "2022-09-25T21:51:09.751178Z",
     "iopub.status.idle": "2022-09-25T21:51:10.089049Z",
     "shell.execute_reply": "2022-09-25T21:51:10.087962Z"
    },
    "papermill": {
     "duration": 0.362528,
     "end_time": "2022-09-25T21:51:10.091459",
     "exception": false,
     "start_time": "2022-09-25T21:51:09.728931",
     "status": "completed"
    },
    "tags": []
   },
   "outputs": [
    {
     "data": {
      "image/png": "[encoded data removed]",
      "text/plain": [
       "<Figure size 576x576 with 1 Axes>"
      ]
     },
     "metadata": {
      "needs_background": "light"
     },
     "output_type": "display_data"
    }
   ],
   "source": [
    "plt.figure(figsize=(8, 8))\n",
    "plt.scatter(x=range(len(y_test)), y=y_test)\n",
    "plt.scatter(x=range(len(y_test)), y=y_pred)\n",
    "plt.legend(['Actual Value', 'Predicted Value'])\n",
    "plt.show()"
   ]
  },
  {
   "cell_type": "markdown",
   "id": "a1654f68",
   "metadata": {
    "papermill": {
     "duration": 0.020186,
     "end_time": "2022-09-25T21:51:10.132984",
     "exception": false,
     "start_time": "2022-09-25T21:51:10.112798",
     "status": "completed"
    },
    "tags": []
   },
   "source": [
    "<h4 style=\"background-color:rgb(244,164,96);padding:10px 10px 10px;border-radius:5px 25px 25px 5px;width:400px\">Training the model with tuned Hyperparameters"
   ]
  },
  {
   "cell_type": "code",
   "execution_count": 35,
   "id": "ab64adf4",
   "metadata": {
    "execution": {
     "iopub.execute_input": "2022-09-25T21:51:10.178128Z",
     "iopub.status.busy": "2022-09-25T21:51:10.177734Z",
     "iopub.status.idle": "2022-09-25T21:51:10.183619Z",
     "shell.execute_reply": "2022-09-25T21:51:10.182496Z"
    },
    "papermill": {
     "duration": 0.032129,
     "end_time": "2022-09-25T21:51:10.186059",
     "exception": false,
     "start_time": "2022-09-25T21:51:10.153930",
     "status": "completed"
    },
    "tags": []
   },
   "outputs": [],
   "source": [
    "final_model = RandomForestRegressor(n_estimators=700,\n",
    "                                    min_samples_split=11,\n",
    "                                    min_samples_leaf=3,\n",
    "                                    max_depth=80, random_state=42)"
   ]
  },
  {
   "cell_type": "code",
   "execution_count": 36,
   "id": "339b786d",
   "metadata": {
    "execution": {
     "iopub.execute_input": "2022-09-25T21:51:10.230815Z",
     "iopub.status.busy": "2022-09-25T21:51:10.230438Z",
     "iopub.status.idle": "2022-09-25T21:51:14.892546Z",
     "shell.execute_reply": "2022-09-25T21:51:14.891173Z"
    },
    "papermill": {
     "duration": 4.688118,
     "end_time": "2022-09-25T21:51:14.895599",
     "exception": false,
     "start_time": "2022-09-25T21:51:10.207481",
     "status": "completed"
    },
    "tags": []
   },
   "outputs": [
    {
     "data": {
      "text/plain": [
       "RandomForestRegressor(max_depth=80, min_samples_leaf=3, min_samples_split=11,\n",
       "                      n_estimators=700, random_state=42)"
      ]
     },
     "execution_count": 36,
     "metadata": {},
     "output_type": "execute_result"
    }
   ],
   "source": [
    "final_model.fit(X_train, y_train)"
   ]
  },
  {
   "cell_type": "code",
   "execution_count": 37,
   "id": "69b7db07",
   "metadata": {
    "execution": {
     "iopub.execute_input": "2022-09-25T21:51:14.941333Z",
     "iopub.status.busy": "2022-09-25T21:51:14.940945Z",
     "iopub.status.idle": "2022-09-25T21:51:15.164352Z",
     "shell.execute_reply": "2022-09-25T21:51:15.162945Z"
    },
    "papermill": {
     "duration": 0.248771,
     "end_time": "2022-09-25T21:51:15.166900",
     "exception": false,
     "start_time": "2022-09-25T21:51:14.918129",
     "status": "completed"
    },
    "tags": []
   },
   "outputs": [
    {
     "name": "stdout",
     "output_type": "stream",
     "text": [
      "[[ 5767.9   5000.  ]\n",
      " [73783.07 53000.  ]\n",
      " [19511.48 25000.  ]\n",
      " ...\n",
      " [13079.28 10000.  ]\n",
      " [50774.57 55000.  ]\n",
      " [24555.3  35000.  ]]\n"
     ]
    }
   ],
   "source": [
    "y_pred_1 = final_model.predict(mms_X.transform(X_test.values))\n",
    "predictions = mms_y.inverse_transform(y_pred_1.reshape(len(y_test), 1))\n",
    "y_concat = np.concatenate((y_pred.reshape(len(predictions),1), y_test.values.reshape(len(y_test),1)),1)\n",
    "print(y_concat)"
   ]
  },
  {
   "cell_type": "markdown",
   "id": "772efbdd",
   "metadata": {
    "papermill": {
     "duration": 0.020649,
     "end_time": "2022-09-25T21:51:15.209446",
     "exception": false,
     "start_time": "2022-09-25T21:51:15.188797",
     "status": "completed"
    },
    "tags": []
   },
   "source": [
    "<h4 style=\"background-color:rgb(244,164,96);padding:10px 10px 10px;border-radius:5px 25px 25px 5px;width:400px\">R2 Score and 99% Confidence Interval"
   ]
  },
  {
   "cell_type": "code",
   "execution_count": 38,
   "id": "05560b76",
   "metadata": {
    "execution": {
     "iopub.execute_input": "2022-09-25T21:51:15.254124Z",
     "iopub.status.busy": "2022-09-25T21:51:15.253693Z",
     "iopub.status.idle": "2022-09-25T21:51:15.262075Z",
     "shell.execute_reply": "2022-09-25T21:51:15.260791Z"
    },
    "papermill": {
     "duration": 0.033843,
     "end_time": "2022-09-25T21:51:15.264554",
     "exception": false,
     "start_time": "2022-09-25T21:51:15.230711",
     "status": "completed"
    },
    "tags": []
   },
   "outputs": [
    {
     "data": {
      "text/plain": [
       "0.7024449555005874"
      ]
     },
     "execution_count": 38,
     "metadata": {},
     "output_type": "execute_result"
    }
   ],
   "source": [
    "r2_score(predictions, y_test)"
   ]
  },
  {
   "cell_type": "code",
   "execution_count": 39,
   "id": "2a9d9277",
   "metadata": {
    "execution": {
     "iopub.execute_input": "2022-09-25T21:51:15.309077Z",
     "iopub.status.busy": "2022-09-25T21:51:15.308641Z",
     "iopub.status.idle": "2022-09-25T21:51:15.320040Z",
     "shell.execute_reply": "2022-09-25T21:51:15.318978Z"
    },
    "papermill": {
     "duration": 0.03698,
     "end_time": "2022-09-25T21:51:15.322473",
     "exception": false,
     "start_time": "2022-09-25T21:51:15.285493",
     "status": "completed"
    },
    "tags": []
   },
   "outputs": [
    {
     "data": {
      "text/plain": [
       "array([ 8132.62, 10292.71])"
      ]
     },
     "execution_count": 39,
     "metadata": {},
     "output_type": "execute_result"
    }
   ],
   "source": [
    "from scipy import stats\n",
    "confidence = 0.99\n",
    "squared_errors = ((predictions.T[0]) - np.array(y_test).T) ** 2\n",
    "np.sqrt(stats.t.interval(confidence, len(squared_errors) - 1,\n",
    "loc=squared_errors.mean(),\n",
    "scale=stats.sem(squared_errors)))"
   ]
  },
  {
   "cell_type": "markdown",
   "id": "e10200c4",
   "metadata": {
    "papermill": {
     "duration": 0.020629,
     "end_time": "2022-09-25T21:51:15.364685",
     "exception": false,
     "start_time": "2022-09-25T21:51:15.344056",
     "status": "completed"
    },
    "tags": []
   },
   "source": [
    "<h1 style=\"text-align:center;color:rgb(220, 75, 60);font-size:40px\">The End!\n",
      "<h1 style=\"text-align:center;color:rgb(244,164,96);font-size:25px\">Thank You!!<h1/>"  
   ]
  }
 ],
 "metadata": {
  "kernelspec": {
   "display_name": "Python 3",
   "language": "python",
   "name": "python3"
  },
  "language_info": {
   "codemirror_mode": {
    "name": "ipython",
    "version": 3
   },
   "file_extension": ".py",
   "mimetype": "text/x-python",
   "name": "python",
   "nbconvert_exporter": "python",
   "pygments_lexer": "ipython3",
   "version": "3.7.12"
  },
  "papermill": {
   "default_parameters": {},
   "duration": 193.521105,
   "end_time": "2022-09-25T21:51:16.307813",
   "environment_variables": {},
   "exception": null,
   "input_path": "__notebook__.ipynb",
   "output_path": "__notebook__.ipynb",
   "parameters": {},
   "start_time": "2022-09-25T21:48:02.786708",
   "version": "2.3.4"
  }
 },
 "nbformat": 4,
 "nbformat_minor": 5
}
